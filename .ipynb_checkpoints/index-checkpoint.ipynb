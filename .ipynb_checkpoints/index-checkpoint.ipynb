{
 "cells": [
  {
   "cell_type": "markdown",
   "id": "6c556bc4",
   "metadata": {},
   "source": [
    "# Data Understanding"
   ]
  },
  {
   "cell_type": "markdown",
   "id": "5b067dca",
   "metadata": {},
   "source": [
    "### Loading and Inspecting Dataset"
   ]
  },
  {
   "cell_type": "code",
   "execution_count": 1,
   "id": "8666254a",
   "metadata": {},
   "outputs": [
    {
     "name": "stdout",
     "output_type": "stream",
     "text": [
      "   rownames subject    age  exercise    group\n",
      "0         1     100   8.00      2.71  patient\n",
      "1         2     100  10.00      1.94  patient\n",
      "2         3     100  12.00      2.36  patient\n",
      "3         4     100  14.00      1.54  patient\n",
      "4         5     100  15.92      8.63  patient\n"
     ]
    }
   ],
   "source": [
    "import pandas as pd\n",
    "\n",
    "# Raw URL to the Blackmore.csv file\n",
    "raw_url = \"https://raw.githubusercontent.com/vincentarelbundock/Rdatasets/master/csv/carData/Blackmore.csv\"\n",
    "\n",
    "# Load the CSV directly into pandas\n",
    "data = pd.read_csv(raw_url)\n",
    "print(data.head())\n"
   ]
  },
  {
   "cell_type": "markdown",
   "id": "fa41a486",
   "metadata": {},
   "source": [
    "### Quering the Dataset"
   ]
  },
  {
   "cell_type": "code",
   "execution_count": 2,
   "id": "c7ed9256",
   "metadata": {},
   "outputs": [
    {
     "name": "stdout",
     "output_type": "stream",
     "text": [
      "   rownames subject    age  exercise    group\n",
      "0         1     100   8.00      2.71  patient\n",
      "1         2     100  10.00      1.94  patient\n",
      "2         3     100  12.00      2.36  patient\n",
      "3         4     100  14.00      1.54  patient\n",
      "4         5     100  15.92      8.63  patient\n"
     ]
    }
   ],
   "source": [
    "import requests\n",
    "from bs4 import BeautifulSoup\n",
    "import pandas as pd\n",
    "\n",
    "# GitHub directory page URL\n",
    "base_url = \"https://github.com/vincentarelbundock/Rdatasets/tree/master/csv/carData\"\n",
    "\n",
    "# Step 1: Scrape the directory listing\n",
    "response = requests.get(base_url)\n",
    "soup = BeautifulSoup(response.text, 'html.parser')\n",
    "\n",
    "# Find all links on the repository page\n",
    "file_links = soup.find_all('a', href=True)\n",
    "\n",
    "# Locate 'Blackmore.csv'\n",
    "csv_file_link = None\n",
    "for link in file_links:\n",
    "    if \"Blackmore.csv\" in link['href']:\n",
    "        csv_file_link = link['href']\n",
    "        break\n",
    "\n",
    "if csv_file_link:\n",
    "    # Step 2: Convert the relative link to the raw URL\n",
    "    raw_url = csv_file_link.replace('/blob/', '/raw/')\n",
    "    raw_url = f\"https://github.com{raw_url}\"\n",
    "    \n",
    "    # Step 3: Load the CSV file into pandas\n",
    "    data = pd.read_csv(raw_url)\n",
    "    print(data.head())\n",
    "else:\n",
    "    print(\"Blackmore.csv not found in the repository!\")\n"
   ]
  },
  {
   "cell_type": "code",
   "execution_count": 3,
   "id": "10f1f408",
   "metadata": {},
   "outputs": [
    {
     "data": {
      "text/html": [
       "<div>\n",
       "<style scoped>\n",
       "    .dataframe tbody tr th:only-of-type {\n",
       "        vertical-align: middle;\n",
       "    }\n",
       "\n",
       "    .dataframe tbody tr th {\n",
       "        vertical-align: top;\n",
       "    }\n",
       "\n",
       "    .dataframe thead th {\n",
       "        text-align: right;\n",
       "    }\n",
       "</style>\n",
       "<table border=\"1\" class=\"dataframe\">\n",
       "  <thead>\n",
       "    <tr style=\"text-align: right;\">\n",
       "      <th></th>\n",
       "      <th>rownames</th>\n",
       "      <th>subject</th>\n",
       "      <th>age</th>\n",
       "      <th>exercise</th>\n",
       "      <th>group</th>\n",
       "    </tr>\n",
       "  </thead>\n",
       "  <tbody>\n",
       "    <tr>\n",
       "      <th>0</th>\n",
       "      <td>1</td>\n",
       "      <td>100</td>\n",
       "      <td>8.00</td>\n",
       "      <td>2.71</td>\n",
       "      <td>patient</td>\n",
       "    </tr>\n",
       "    <tr>\n",
       "      <th>1</th>\n",
       "      <td>2</td>\n",
       "      <td>100</td>\n",
       "      <td>10.00</td>\n",
       "      <td>1.94</td>\n",
       "      <td>patient</td>\n",
       "    </tr>\n",
       "    <tr>\n",
       "      <th>2</th>\n",
       "      <td>3</td>\n",
       "      <td>100</td>\n",
       "      <td>12.00</td>\n",
       "      <td>2.36</td>\n",
       "      <td>patient</td>\n",
       "    </tr>\n",
       "    <tr>\n",
       "      <th>3</th>\n",
       "      <td>4</td>\n",
       "      <td>100</td>\n",
       "      <td>14.00</td>\n",
       "      <td>1.54</td>\n",
       "      <td>patient</td>\n",
       "    </tr>\n",
       "    <tr>\n",
       "      <th>4</th>\n",
       "      <td>5</td>\n",
       "      <td>100</td>\n",
       "      <td>15.92</td>\n",
       "      <td>8.63</td>\n",
       "      <td>patient</td>\n",
       "    </tr>\n",
       "  </tbody>\n",
       "</table>\n",
       "</div>"
      ],
      "text/plain": [
       "   rownames subject    age  exercise    group\n",
       "0         1     100   8.00      2.71  patient\n",
       "1         2     100  10.00      1.94  patient\n",
       "2         3     100  12.00      2.36  patient\n",
       "3         4     100  14.00      1.54  patient\n",
       "4         5     100  15.92      8.63  patient"
      ]
     },
     "execution_count": 3,
     "metadata": {},
     "output_type": "execute_result"
    }
   ],
   "source": [
    "#display the first 5 rows of the dataset\n",
    "data.head()"
   ]
  },
  {
   "cell_type": "code",
   "execution_count": 4,
   "id": "d15fd456",
   "metadata": {},
   "outputs": [
    {
     "data": {
      "text/html": [
       "<div>\n",
       "<style scoped>\n",
       "    .dataframe tbody tr th:only-of-type {\n",
       "        vertical-align: middle;\n",
       "    }\n",
       "\n",
       "    .dataframe tbody tr th {\n",
       "        vertical-align: top;\n",
       "    }\n",
       "\n",
       "    .dataframe thead th {\n",
       "        text-align: right;\n",
       "    }\n",
       "</style>\n",
       "<table border=\"1\" class=\"dataframe\">\n",
       "  <thead>\n",
       "    <tr style=\"text-align: right;\">\n",
       "      <th></th>\n",
       "      <th>rownames</th>\n",
       "      <th>subject</th>\n",
       "      <th>age</th>\n",
       "      <th>exercise</th>\n",
       "      <th>group</th>\n",
       "    </tr>\n",
       "  </thead>\n",
       "  <tbody>\n",
       "    <tr>\n",
       "      <th>940</th>\n",
       "      <td>768</td>\n",
       "      <td>286</td>\n",
       "      <td>8.0</td>\n",
       "      <td>1.10</td>\n",
       "      <td>control</td>\n",
       "    </tr>\n",
       "    <tr>\n",
       "      <th>941</th>\n",
       "      <td>769</td>\n",
       "      <td>286</td>\n",
       "      <td>10.0</td>\n",
       "      <td>1.10</td>\n",
       "      <td>control</td>\n",
       "    </tr>\n",
       "    <tr>\n",
       "      <th>942</th>\n",
       "      <td>770</td>\n",
       "      <td>286</td>\n",
       "      <td>12.0</td>\n",
       "      <td>0.35</td>\n",
       "      <td>control</td>\n",
       "    </tr>\n",
       "    <tr>\n",
       "      <th>943</th>\n",
       "      <td>771</td>\n",
       "      <td>286</td>\n",
       "      <td>14.0</td>\n",
       "      <td>0.40</td>\n",
       "      <td>control</td>\n",
       "    </tr>\n",
       "    <tr>\n",
       "      <th>944</th>\n",
       "      <td>772</td>\n",
       "      <td>286</td>\n",
       "      <td>17.0</td>\n",
       "      <td>0.29</td>\n",
       "      <td>control</td>\n",
       "    </tr>\n",
       "  </tbody>\n",
       "</table>\n",
       "</div>"
      ],
      "text/plain": [
       "     rownames subject   age  exercise    group\n",
       "940       768     286   8.0      1.10  control\n",
       "941       769     286  10.0      1.10  control\n",
       "942       770     286  12.0      0.35  control\n",
       "943       771     286  14.0      0.40  control\n",
       "944       772     286  17.0      0.29  control"
      ]
     },
     "execution_count": 4,
     "metadata": {},
     "output_type": "execute_result"
    }
   ],
   "source": [
    "#display the last 5 rows of the dataset\n",
    "data.tail()"
   ]
  },
  {
   "cell_type": "code",
   "execution_count": 5,
   "id": "25bf4d7c",
   "metadata": {},
   "outputs": [
    {
     "name": "stdout",
     "output_type": "stream",
     "text": [
      "<class 'pandas.core.frame.DataFrame'>\n",
      "RangeIndex: 945 entries, 0 to 944\n",
      "Data columns (total 5 columns):\n",
      " #   Column    Non-Null Count  Dtype  \n",
      "---  ------    --------------  -----  \n",
      " 0   rownames  945 non-null    int64  \n",
      " 1   subject   945 non-null    object \n",
      " 2   age       945 non-null    float64\n",
      " 3   exercise  945 non-null    float64\n",
      " 4   group     945 non-null    object \n",
      "dtypes: float64(2), int64(1), object(2)\n",
      "memory usage: 37.0+ KB\n"
     ]
    }
   ],
   "source": [
    "#information about our dataset\n",
    "data.info()"
   ]
  },
  {
   "cell_type": "code",
   "execution_count": 6,
   "id": "c58b5097",
   "metadata": {},
   "outputs": [
    {
     "data": {
      "text/html": [
       "<div>\n",
       "<style scoped>\n",
       "    .dataframe tbody tr th:only-of-type {\n",
       "        vertical-align: middle;\n",
       "    }\n",
       "\n",
       "    .dataframe tbody tr th {\n",
       "        vertical-align: top;\n",
       "    }\n",
       "\n",
       "    .dataframe thead th {\n",
       "        text-align: right;\n",
       "    }\n",
       "</style>\n",
       "<table border=\"1\" class=\"dataframe\">\n",
       "  <thead>\n",
       "    <tr style=\"text-align: right;\">\n",
       "      <th></th>\n",
       "      <th>rownames</th>\n",
       "      <th>age</th>\n",
       "      <th>exercise</th>\n",
       "    </tr>\n",
       "  </thead>\n",
       "  <tbody>\n",
       "    <tr>\n",
       "      <th>count</th>\n",
       "      <td>945.000000</td>\n",
       "      <td>945.000000</td>\n",
       "      <td>945.000000</td>\n",
       "    </tr>\n",
       "    <tr>\n",
       "      <th>mean</th>\n",
       "      <td>473.000000</td>\n",
       "      <td>11.441661</td>\n",
       "      <td>2.530646</td>\n",
       "    </tr>\n",
       "    <tr>\n",
       "      <th>std</th>\n",
       "      <td>272.942302</td>\n",
       "      <td>2.765609</td>\n",
       "      <td>3.495086</td>\n",
       "    </tr>\n",
       "    <tr>\n",
       "      <th>min</th>\n",
       "      <td>1.000000</td>\n",
       "      <td>8.000000</td>\n",
       "      <td>0.000000</td>\n",
       "    </tr>\n",
       "    <tr>\n",
       "      <th>25%</th>\n",
       "      <td>237.000000</td>\n",
       "      <td>10.000000</td>\n",
       "      <td>0.400000</td>\n",
       "    </tr>\n",
       "    <tr>\n",
       "      <th>50%</th>\n",
       "      <td>473.000000</td>\n",
       "      <td>12.000000</td>\n",
       "      <td>1.330000</td>\n",
       "    </tr>\n",
       "    <tr>\n",
       "      <th>75%</th>\n",
       "      <td>709.000000</td>\n",
       "      <td>14.000000</td>\n",
       "      <td>3.040000</td>\n",
       "    </tr>\n",
       "    <tr>\n",
       "      <th>max</th>\n",
       "      <td>945.000000</td>\n",
       "      <td>17.920000</td>\n",
       "      <td>29.960000</td>\n",
       "    </tr>\n",
       "  </tbody>\n",
       "</table>\n",
       "</div>"
      ],
      "text/plain": [
       "         rownames         age    exercise\n",
       "count  945.000000  945.000000  945.000000\n",
       "mean   473.000000   11.441661    2.530646\n",
       "std    272.942302    2.765609    3.495086\n",
       "min      1.000000    8.000000    0.000000\n",
       "25%    237.000000   10.000000    0.400000\n",
       "50%    473.000000   12.000000    1.330000\n",
       "75%    709.000000   14.000000    3.040000\n",
       "max    945.000000   17.920000   29.960000"
      ]
     },
     "execution_count": 6,
     "metadata": {},
     "output_type": "execute_result"
    }
   ],
   "source": [
    "#statistical summary of our dataset\n",
    "data.describe()"
   ]
  },
  {
   "cell_type": "code",
   "execution_count": 7,
   "id": "c60444f7",
   "metadata": {},
   "outputs": [
    {
     "data": {
      "text/plain": [
       "(945, 5)"
      ]
     },
     "execution_count": 7,
     "metadata": {},
     "output_type": "execute_result"
    }
   ],
   "source": [
    "#check the shape of our dataset i.e 945 rows and 5 columns\n",
    "data.shape"
   ]
  },
  {
   "cell_type": "code",
   "execution_count": 8,
   "id": "9c765525",
   "metadata": {},
   "outputs": [
    {
     "data": {
      "text/plain": [
       "Index(['rownames', 'subject', 'age', 'exercise', 'group'], dtype='object')"
      ]
     },
     "execution_count": 8,
     "metadata": {},
     "output_type": "execute_result"
    }
   ],
   "source": [
    "#display the names of columns in the dataset\n",
    "data.columns"
   ]
  },
  {
   "cell_type": "code",
   "execution_count": 9,
   "id": "ab4b82f1",
   "metadata": {},
   "outputs": [
    {
     "data": {
      "text/plain": [
       "rownames      int64\n",
       "subject      object\n",
       "age         float64\n",
       "exercise    float64\n",
       "group        object\n",
       "dtype: object"
      ]
     },
     "execution_count": 9,
     "metadata": {},
     "output_type": "execute_result"
    }
   ],
   "source": [
    "#check the datatypes of our columns\n",
    "data.dtypes"
   ]
  },
  {
   "cell_type": "code",
   "execution_count": 77,
   "id": "f92a13fa",
   "metadata": {},
   "outputs": [
    {
     "name": "stdout",
     "output_type": "stream",
     "text": [
      " rownames subject   age  exercise   group\n",
      "        1     100  8.00      2.71 patient\n",
      "        2     100 10.00      1.94 patient\n",
      "        3     100 12.00      2.36 patient\n",
      "        4     100 14.00      1.54 patient\n",
      "        5     100 15.92      8.63 patient\n"
     ]
    }
   ],
   "source": [
    "# Display the DataFrame without the index in the output\n",
    "print(data.head().to_string(index=False))\n"
   ]
  },
  {
   "cell_type": "markdown",
   "id": "fa413e7b",
   "metadata": {},
   "source": [
    "# Data Cleaning"
   ]
  },
  {
   "cell_type": "markdown",
   "id": "c70a40ef",
   "metadata": {},
   "source": [
    "### Check for missing  values "
   ]
  },
  {
   "cell_type": "code",
   "execution_count": 11,
   "id": "7f20e071",
   "metadata": {},
   "outputs": [
    {
     "data": {
      "text/plain": [
       "rownames    0\n",
       "subject     0\n",
       "age         0\n",
       "exercise    0\n",
       "group       0\n",
       "dtype: int64"
      ]
     },
     "execution_count": 11,
     "metadata": {},
     "output_type": "execute_result"
    }
   ],
   "source": [
    "#check for missing values\n",
    "data.isnull().sum()"
   ]
  },
  {
   "cell_type": "markdown",
   "id": "8bd7db8e",
   "metadata": {},
   "source": [
    "From our observation above, our dataset does not hae any missing values."
   ]
  },
  {
   "cell_type": "code",
   "execution_count": 12,
   "id": "e7260e39",
   "metadata": {},
   "outputs": [
    {
     "data": {
      "text/plain": [
       "0"
      ]
     },
     "execution_count": 12,
     "metadata": {},
     "output_type": "execute_result"
    }
   ],
   "source": [
    "#checking if our dataset has any duplicates\n",
    "data.duplicated().sum()"
   ]
  },
  {
   "cell_type": "markdown",
   "id": "26e6e0e9",
   "metadata": {},
   "source": [
    "Our dataset does not have any duplicated values. It is neccessary to check for duplicates to ensure our dataset is clean and avoid any misleading information"
   ]
  },
  {
   "cell_type": "markdown",
   "id": "7e797316",
   "metadata": {},
   "source": [
    "### Check for Outliers"
   ]
  },
  {
   "cell_type": "code",
   "execution_count": 13,
   "id": "b6bce065",
   "metadata": {},
   "outputs": [
    {
     "data": {
      "image/png": "[encoded data removed]",
      "text/plain": [
       "<Figure size 432x288 with 1 Axes>"
      ]
     },
     "metadata": {
      "needs_background": "light"
     },
     "output_type": "display_data"
    },
    {
     "data": {
      "image/png": "[encoded data removed]",
      "text/plain": [
       "<Figure size 432x288 with 1 Axes>"
      ]
     },
     "metadata": {
      "needs_background": "light"
     },
     "output_type": "display_data"
    },
    {
     "data": {
      "image/png": "[encoded data removed]",
      "text/plain": [
       "<Figure size 432x288 with 1 Axes>"
      ]
     },
     "metadata": {
      "needs_background": "light"
     },
     "output_type": "display_data"
    }
   ],
   "source": [
    "import seaborn as sns\n",
    "import matplotlib.pyplot as plt\n",
    "\n",
    "for column in data.select_dtypes(include=['float64', 'int64']).columns:\n",
    "    sns.boxplot(data=data, x=column)\n",
    "    plt.title(f'Boxplot for {column}')\n",
    "    plt.show()\n"
   ]
  },
  {
   "cell_type": "markdown",
   "id": "27f764e7",
   "metadata": {},
   "source": [
    "The 'exercise' column seems to have outliers, and if not dealth with, it can lead to misinterpretation of results"
   ]
  },
  {
   "cell_type": "markdown",
   "id": "33e48151",
   "metadata": {},
   "source": [
    "Calculate the interquartile range (to define and identify outliers in the exercise"
   ]
  },
  {
   "cell_type": "code",
   "execution_count": 14,
   "id": "86547e0f",
   "metadata": {},
   "outputs": [
    {
     "name": "stdout",
     "output_type": "stream",
     "text": [
      "Number of outliers: 83\n"
     ]
    }
   ],
   "source": [
    "import pandas as pd\n",
    "\n",
    "# Calculate IQR\n",
    "Q1 = data['exercise'].quantile(0.25)  # 25th percentile\n",
    "Q3 = data['exercise'].quantile(0.75)  # 75th percentile\n",
    "IQR = Q3 - Q1  # Interquartile Range\n",
    "\n",
    "# Define bounds for outliers\n",
    "lower_bound = Q1 - 1.5 * IQR\n",
    "upper_bound = Q3 + 1.5 * IQR\n",
    "\n",
    "# Identify outliers\n",
    "outliers = data[(data['exercise'] < lower_bound) | (data['exercise'] > upper_bound)]\n",
    "print(f\"Number of outliers: {outliers.shape[0]}\")\n"
   ]
  },
  {
   "cell_type": "markdown",
   "id": "d688e7da",
   "metadata": {},
   "source": [
    "Our dataset only has 83 outliers. Removing the outliers will not significantly affect our dataset"
   ]
  },
  {
   "cell_type": "code",
   "execution_count": 15,
   "id": "a3a5f6b7",
   "metadata": {},
   "outputs": [
    {
     "name": "stdout",
     "output_type": "stream",
     "text": [
      "Dataframe size after removing outliers: (862, 5)\n"
     ]
    }
   ],
   "source": [
    "data_cleaned = data[(data['exercise'] >= lower_bound) & (data['exercise'] <= upper_bound)]\n",
    "print(f\"Dataframe size after removing outliers: {data_cleaned.shape}\")\n"
   ]
  },
  {
   "cell_type": "markdown",
   "id": "58bc4022",
   "metadata": {},
   "source": [
    "The shape of our dataset changes after removing the 83 outliers\n",
    "\n",
    "The number of rows changes from 945 to 862\n",
    "\n",
    "The number of columns remains the same"
   ]
  },
  {
   "cell_type": "code",
   "execution_count": 16,
   "id": "89098666",
   "metadata": {},
   "outputs": [
    {
     "name": "stdout",
     "output_type": "stream",
     "text": [
      "Number of outliers after removal: 0\n"
     ]
    }
   ],
   "source": [
    "#checking the number of outliers after remmoving the outliers\n",
    "outliers_after_removal = data_cleaned[(data_cleaned['exercise'] < lower_bound) | (data_cleaned['exercise'] > upper_bound)]\n",
    "print(f\"Number of outliers after removal: {outliers_after_removal.shape[0]}\")\n"
   ]
  },
  {
   "cell_type": "code",
   "execution_count": 17,
   "id": "b00db012",
   "metadata": {},
   "outputs": [
    {
     "data": {
      "text/plain": [
       "(862, 5)"
      ]
     },
     "execution_count": 17,
     "metadata": {},
     "output_type": "execute_result"
    }
   ],
   "source": [
    "#checking the shape of our dataset after removing outliers\n",
    "data_cleaned.shape"
   ]
  },
  {
   "cell_type": "markdown",
   "id": "3c023964",
   "metadata": {},
   "source": [
    "# Exploratory Data Analysis"
   ]
  },
  {
   "cell_type": "markdown",
   "id": "b7f3fd3e",
   "metadata": {},
   "source": [
    "## Univariate Analysis"
   ]
  },
  {
   "cell_type": "markdown",
   "id": "f66d7716",
   "metadata": {},
   "source": [
    "#### Visual Representation for the columns  Age, Exercise"
   ]
  },
  {
   "cell_type": "code",
   "execution_count": 51,
   "id": "ee0ece3e",
   "metadata": {},
   "outputs": [
    {
     "data": {
      "image/png": "[encoded data removed]",
      "text/plain": [
       "<Figure size 432x288 with 1 Axes>"
      ]
     },
     "metadata": {
      "needs_background": "light"
     },
     "output_type": "display_data"
    },
    {
     "data": {
      "image/png": "[encoded data removed]",
      "text/plain": [
       "<Figure size 432x288 with 1 Axes>"
      ]
     },
     "metadata": {
      "needs_background": "light"
     },
     "output_type": "display_data"
    }
   ],
   "source": [
    "import pandas as pd\n",
    "import seaborn as sns\n",
    "import matplotlib.pyplot as plt\n",
    "\n",
    "\n",
    "# Plot histograms for numerical columns\n",
    "numerical_columns = ['\n",
    "                     age', 'exercise']\n",
    "for col in numerical_columns:\n",
    "    data_cleaned[col].plot(kind='hist', bins=20, alpha=0.7, title=f'Histogram for {col}')\n",
    "    plt.xlabel(col)\n",
    "    plt.ylabel('Frequency')\n",
    "    plt.show()\n"
   ]
  },
  {
   "cell_type": "markdown",
   "id": "2eccd915",
   "metadata": {},
   "source": [
    "High Frequency in Specific Age Groups:\n",
    "\n",
    "The first two age groups (younger ages) have the highest frequencies, suggesting these age groups dominate the dataset.\n",
    "Decreasing Frequency with Age:\n",
    "\n",
    "As age increases, the frequency drops significantly, meaning there are fewer individuals in the older age groups.\n",
    "Skewed Distribution:\n",
    "\n",
    "The distribution is  right-skewed, with the majority of individuals concentrated in the younger age groups and fewer as age increases.\n",
    "\n",
    "\n",
    "\n",
    "\n",
    "\n",
    "High Frequency in Young Ages:\n",
    "\n",
    "The first bar (representing the youngest age group) has the highest frequency, indicating that most individuals are in this age range.\n",
    "Steady Decline:\n",
    "\n",
    "As age increases, the frequency steadily decreases, forming a downward-sloping distribution.\n",
    "This suggests that older age groups become progressively less frequent in the dataset.\n",
    "Right-Skewed Distribution:\n",
    "\n",
    "This graph shows a classic right-skewed distribution, where the data is concentrated in younger ages and thins out as age increases."
   ]
  },
  {
   "cell_type": "code",
   "execution_count": 19,
   "id": "da8fbe6a",
   "metadata": {},
   "outputs": [
    {
     "data": {
      "image/png": "[encoded data removed]",
      "text/plain": [
       "<Figure size 432x288 with 1 Axes>"
      ]
     },
     "metadata": {
      "needs_background": "light"
     },
     "output_type": "display_data"
    }
   ],
   "source": [
    "# Bar plots for categorical variables\n",
    "categorical_columns = ['group']\n",
    "for col in categorical_columns:\n",
    "    data_cleaned[col].value_counts().plot(kind='bar', alpha=0.7, title=f'Bar Plot of {col}')\n",
    "    plt.xlabel(col)\n",
    "    plt.ylabel('Frequency')\n",
    "    plt.show()\n"
   ]
  },
  {
   "cell_type": "markdown",
   "id": "8c251442",
   "metadata": {},
   "source": [
    "In our dataset, there are two distinct groups i.e patient and control\n",
    " whether a subject belongs to the control group (healthy) or the patient group (with a condition) "
   ]
  },
  {
   "cell_type": "code",
   "execution_count": 20,
   "id": "5666f5db",
   "metadata": {},
   "outputs": [
    {
     "data": {
      "image/png": "[encoded data removed]",
      "text/plain": [
       "<Figure size 432x288 with 1 Axes>"
      ]
     },
     "metadata": {
      "needs_background": "light"
     },
     "output_type": "display_data"
    }
   ],
   "source": [
    "# Bar plots for categorical variables\n",
    "top_categories = data['subject'].value_counts().nlargest(10)\n",
    "top_categories.plot(kind='bar', alpha=0.7)\n",
    "plt.title('Top 10 Categories of Subject')\n",
    "plt.xlabel('Subject')\n",
    "plt.ylabel('Frequency')\n",
    "plt.show()\n"
   ]
  },
  {
   "cell_type": "markdown",
   "id": "f1933e54",
   "metadata": {},
   "source": [
    "Each age group (x-axis) has the same frequency (y-axis), indicating that the data is evenly distributed across all age groups."
   ]
  },
  {
   "cell_type": "markdown",
   "id": "4e943ed2",
   "metadata": {},
   "source": [
    "## Bivariate Analysis"
   ]
  },
  {
   "cell_type": "markdown",
   "id": "048d8a1c",
   "metadata": {},
   "source": [
    "### Age vs Exercise"
   ]
  },
  {
   "cell_type": "code",
   "execution_count": 21,
   "id": "725ac2a5",
   "metadata": {},
   "outputs": [
    {
     "data": {
      "image/png": "[encoded data removed]",
      "text/plain": [
       "<Figure size 1296x864 with 1 Axes>"
      ]
     },
     "metadata": {
      "needs_background": "light"
     },
     "output_type": "display_data"
    }
   ],
   "source": [
    "import seaborn as sns\n",
    "import matplotlib.pyplot as plt\n",
    "\n",
    "\n",
    "# Grouping by age and calculating mean exercise\n",
    "age_grouped = data_cleaned.groupby('age')['exercise'].mean()\n",
    "\n",
    "# Set the figure size\n",
    "plt.figure(figsize=(18, 12))\n",
    "\n",
    "# Bar plot for mean exercise per age\n",
    "age_grouped.plot(kind='bar', color='blue', alpha=0.7)\n",
    "\n",
    "# Adding plot title and labels\n",
    "plt.title('Bar Plot: Average Exercise by Age', fontsize=16)\n",
    "plt.xlabel('Age', fontsize=14)\n",
    "plt.ylabel('Average Exercise', fontsize=14)\n",
    "\n",
    "# Show the plot\n",
    "plt.show()\n"
   ]
  },
  {
   "cell_type": "markdown",
   "id": "aa156fc4",
   "metadata": {},
   "source": [
    "rownames', 'subject', 'age', 'exercise', 'group'"
   ]
  },
  {
   "cell_type": "code",
   "execution_count": 22,
   "id": "52a6bb6f",
   "metadata": {},
   "outputs": [
    {
     "name": "stdout",
     "output_type": "stream",
     "text": [
      "group    control  patient\n",
      "subject                  \n",
      "100            0        4\n",
      "101            0        5\n",
      "102            0        3\n",
      "103            0        4\n",
      "104            0        3\n"
     ]
    }
   ],
   "source": [
    "import seaborn as sns\n",
    "import matplotlib.pyplot as plt\n",
    "\n",
    "\n",
    "# Cross-tabulation\n",
    "cross_tab = pd.crosstab(data_cleaned['subject'], data_cleaned['group'])\n",
    "print(cross_tab.head())\n"
   ]
  },
  {
   "cell_type": "markdown",
   "id": "c0e4c546",
   "metadata": {},
   "source": [
    "This data shows two groups (control and patient) with their respective scores or counts for different subjects \n",
    "\n",
    "Table Breakdown:\n",
    "Columns:\n",
    "\n",
    "Control: Values are all 0, indicating no response in this group for all subjects.\n",
    "Patient: Values range from 3 to 5, indicating some level ofresponse for these subjects.\n",
    "Index (Subject):\n",
    "\n",
    "These are identifiers for individuals. For example, Subject 100, 101, etc.\n",
    "\n",
    "This could represent data from an experiment or study where:\n",
    "    \n",
    "Control group: Received no treatment or intervention, resulting in a 0 for all subjects.\n",
    "    \n",
    "Patient group: Represents individuals who received some treatment or intervention, resulting in measurable outcomes."
   ]
  },
  {
   "cell_type": "code",
   "execution_count": 55,
   "id": "50ae3e84",
   "metadata": {},
   "outputs": [
    {
     "data": {
      "image/png": "[encoded data removed]",
      "text/plain": [
       "<Figure size 432x288 with 2 Axes>"
      ]
     },
     "metadata": {
      "needs_background": "light"
     },
     "output_type": "display_data"
    }
   ],
   "source": [
    "# Correlation matrix\n",
    "correlation_matrix = data_cleaned[['subject', 'age', 'exercise']].corr()\n",
    "sns.heatmap(correlation_matrix, annot=True, cmap='coolwarm', fmt=\".2f\", cbar=True)\n",
    "plt.title('Correlation Heatmap')\n",
    "plt.show()\n"
   ]
  },
  {
   "cell_type": "code",
   "execution_count": 26,
   "id": "88c6d3b8",
   "metadata": {},
   "outputs": [
    {
     "data": {
      "image/png": "[encoded data removed]",
      "text/plain": [
       "<Figure size 432x288 with 1 Axes>"
      ]
     },
     "metadata": {
      "needs_background": "light"
     },
     "output_type": "display_data"
    }
   ],
   "source": [
    "# Grouping by 'group' and calculating the mean age\n",
    "grouped_age = data_cleaned.groupby('group')['age'].mean()\n",
    "\n",
    "# Bar chart\n",
    "grouped_age.plot(kind='bar', color='orange', alpha=0.8)\n",
    "plt.title('Average Age by Group')\n",
    "plt.xlabel('Group')\n",
    "plt.ylabel('Average Age')\n",
    "plt.xticks(rotation=0)\n",
    "plt.show()\n"
   ]
  },
  {
   "cell_type": "markdown",
   "id": "d6520811",
   "metadata": {},
   "source": [
    "The average age for both the control group and the patient group is around 12 years"
   ]
  },
  {
   "cell_type": "code",
   "execution_count": 27,
   "id": "f54249a1",
   "metadata": {},
   "outputs": [
    {
     "data": {
      "image/png": "[encoded data removed]",
      "text/plain": [
       "<Figure size 432x288 with 1 Axes>"
      ]
     },
     "metadata": {
      "needs_background": "light"
     },
     "output_type": "display_data"
    }
   ],
   "source": [
    "# Grouping by 'group' and summing up exercise\n",
    "total_exercise = data_cleaned.groupby('group')['exercise'].sum()\n",
    "\n",
    "# Bar chart\n",
    "total_exercise.plot(kind='bar', color='green', alpha=0.8)\n",
    "plt.title('Total Exercise by Group')\n",
    "plt.xlabel('Group')\n",
    "plt.ylabel('Total Exercise')\n",
    "plt.xticks(rotation=0)\n",
    "plt.show()\n"
   ]
  },
  {
   "cell_type": "markdown",
   "id": "c16db777",
   "metadata": {},
   "source": [
    "The control group engages in less exercise activity compared to the patient group, which has a total of approximately 900 and the control group with a total of 500"
   ]
  },
  {
   "cell_type": "code",
   "execution_count": 28,
   "id": "70d6eae1",
   "metadata": {},
   "outputs": [
    {
     "data": {
      "image/png": "[encoded data removed]",
      "text/plain": [
       "<Figure size 432x288 with 1 Axes>"
      ]
     },
     "metadata": {
      "needs_background": "light"
     },
     "output_type": "display_data"
    }
   ],
   "source": [
    "# Cross-tabulation of subject vs group\n",
    "cross_tab = pd.crosstab(data_cleaned['subject'], data_cleaned['group'])\n",
    "\n",
    "# Summing across rows for each group\n",
    "subject_counts = cross_tab.sum()\n",
    "\n",
    "# Bar chart\n",
    "subject_counts.plot(kind='bar', color=['blue', 'red'], alpha=0.8)\n",
    "plt.title('Frequency of Subjects in Each Group')\n",
    "plt.xlabel('Group')\n",
    "plt.ylabel('Number of Subjects')\n",
    "plt.xticks(rotation=0)\n",
    "plt.show()\n"
   ]
  },
  {
   "cell_type": "markdown",
   "id": "19a094f2",
   "metadata": {},
   "source": [
    "The control group has around 350  subjects, where as the patient group has around 500 subjects."
   ]
  },
  {
   "cell_type": "markdown",
   "id": "5e896ceb",
   "metadata": {},
   "source": [
    "# Data Preprocessing"
   ]
  },
  {
   "cell_type": "markdown",
   "id": "66c0fd3a",
   "metadata": {},
   "source": [
    "Data Spliting into Training and Testing"
   ]
  },
  {
   "cell_type": "markdown",
   "id": "9d8609d0",
   "metadata": {},
   "source": [
    "Data splitting invloves dividing the dataset into separate subsets for training and evaluation. The primary goal is to assess how well a model generalizes to unseen data."
   ]
  },
  {
   "cell_type": "code",
   "execution_count": 58,
   "id": "c7f7416e",
   "metadata": {},
   "outputs": [],
   "source": [
    "from sklearn.model_selection import train_test_split\n",
    "\n",
    "# Split the data\n",
    "X = data_cleaned[['age', 'exercise']]  # Features\n",
    "y = data_cleaned['group']  # Target\n",
    "X_train, X_test, y_train, y_test = train_test_split(X, y, test_size=0.2, random_state=42)\n"
   ]
  },
  {
   "cell_type": "markdown",
   "id": "7c9d2942",
   "metadata": {},
   "source": [
    "### Baseline Model Logistic Regression Model"
   ]
  },
  {
   "cell_type": "code",
   "execution_count": 59,
   "id": "833d7a40",
   "metadata": {},
   "outputs": [],
   "source": [
    "from sklearn.linear_model import LogisticRegression\n",
    "\n",
    "# Train the model\n",
    "model = LogisticRegression()\n",
    "model.fit(X_train, y_train)\n",
    "\n",
    "# Predict on test data\n",
    "y_pred = model.predict(X_test)"
   ]
  },
  {
   "cell_type": "code",
   "execution_count": 49,
   "id": "a7689a92",
   "metadata": {},
   "outputs": [
    {
     "name": "stdout",
     "output_type": "stream",
     "text": [
      "Accuracy: 0.58\n"
     ]
    },
    {
     "data": {
      "image/png": "[encoded data removed]",
      "text/plain": [
       "<Figure size 432x288 with 2 Axes>"
      ]
     },
     "metadata": {
      "needs_background": "light"
     },
     "output_type": "display_data"
    },
    {
     "name": "stdout",
     "output_type": "stream",
     "text": [
      "              precision    recall  f1-score   support\n",
      "\n",
      "     control       0.50      0.01      0.03        73\n",
      "     patient       0.58      0.99      0.73       100\n",
      "\n",
      "    accuracy                           0.58       173\n",
      "   macro avg       0.54      0.50      0.38       173\n",
      "weighted avg       0.55      0.58      0.43       173\n",
      "\n"
     ]
    }
   ],
   "source": [
    "from sklearn.metrics import accuracy_score, confusion_matrix, classification_report\n",
    "\n",
    "# Accuracy\n",
    "accuracy = accuracy_score(y_test, y_pred)\n",
    "print(f'Accuracy: {accuracy:.2f}')\n",
    "\n",
    "# Confusion Matrix\n",
    "conf_matrix = confusion_matrix(y_test, y_pred)\n",
    "sns.heatmap(conf_matrix, annot=True, fmt='d', cmap='Blues')\n",
    "plt.title('Confusion Matrix')\n",
    "plt.xlabel('Predicted')\n",
    "plt.ylabel('Actual')\n",
    "plt.show()\n",
    "\n",
    "# Classification Report\n",
    "print(classification_report(y_test, y_pred))\n"
   ]
  },
  {
   "cell_type": "markdown",
   "id": "46aba738",
   "metadata": {},
   "source": [
    "The model performs much better on the \"patient\" class (high recall) than on the \"control\" class, which it struggles to identify (low recall).\n",
    "\n",
    "The overall accuracy (58%) is largely driven by the model's success in predicting \"patient\" instances, but the poor performance on the \"control\" class significantly lowers the F1-scores and balance of the model.\n",
    "\n",
    "This imbalance might indicate a need to improve the model's ability to handle the minority class (\"control\"), possibly through techniques like class weighting, oversampling, or fine-tuning."
   ]
  },
  {
   "cell_type": "markdown",
   "id": "cc094283",
   "metadata": {},
   "source": [
    "#### Handling Class Imbalance using SMOTE"
   ]
  },
  {
   "cell_type": "code",
   "execution_count": 73,
   "id": "dc64966d",
   "metadata": {},
   "outputs": [
    {
     "name": "stdout",
     "output_type": "stream",
     "text": [
      "Class distribution before SMOTE: Counter({'patient': 411, 'control': 278})\n",
      "Class distribution after SMOTE: Counter({'patient': 411, 'control': 411})\n"
     ]
    },
    {
     "data": {
      "image/png": "[encoded data removed]",
      "text/plain": [
       "<Figure size 864x360 with 2 Axes>"
      ]
     },
     "metadata": {
      "needs_background": "light"
     },
     "output_type": "display_data"
    }
   ],
   "source": [
    "# Import necessary libraries\n",
    "from imblearn.over_sampling import SMOTE\n",
    "from collections import Counter\n",
    "\n",
    "# Check the class distribution before SMOTE\n",
    "print(\"Class distribution before SMOTE:\", Counter(y_train))\n",
    "\n",
    "# Apply SMOTE to the training data\n",
    "smote = SMOTE(random_state=42)\n",
    "X_resampled, y_resampled = smote.fit_resample(X_train, y_train)\n",
    "\n",
    "# Check the class distribution after SMOTE\n",
    "print(\"Class distribution after SMOTE:\", Counter(y_resampled))\n",
    "\n",
    "# Optional: Visualize the class distributions before and after SMOTE\n",
    "def plot_class_distribution(y_train, y_resampled):\n",
    "    fig, ax = plt.subplots(1, 2, figsize=(12, 5))\n",
    "\n",
    "    # Original class distribution\n",
    "    ax[0].bar(Counter(y_train).keys(), Counter(y_train).values(), color='#a63603')\n",
    "    ax[0].set_title('Class Distribution Before SMOTE')\n",
    "    ax[0].set_xlabel('Classes')\n",
    "    ax[0].set_ylabel('Number of Instances')\n",
    "\n",
    "    # Resampled class distribution\n",
    "    ax[1].bar(Counter(y_resampled).keys(), Counter(y_resampled).values(), color='#fd8d3c')\n",
    "    ax[1].set_title('Class Distribution After SMOTE')\n",
    "    ax[1].set_xlabel('Classes')\n",
    "    ax[1].set_ylabel('Number of Instances')\n",
    "\n",
    "    plt.tight_layout()\n",
    "    plt.show()\n",
    "\n",
    "# Call the plotting function to visualize class distributions\n",
    "plot_class_distribution(y_train, y_resampled)"
   ]
  },
  {
   "cell_type": "markdown",
   "id": "01be9fef",
   "metadata": {},
   "source": [
    "# Modeling"
   ]
  },
  {
   "cell_type": "code",
   "execution_count": 72,
   "id": "1f5df1af",
   "metadata": {},
   "outputs": [
    {
     "name": "stdout",
     "output_type": "stream",
     "text": [
      "Decision Tree Results:\n",
      "              precision    recall  f1-score   support\n",
      "\n",
      "     control       0.58      0.63      0.60        84\n",
      "     patient       0.58      0.52      0.55        81\n",
      "\n",
      "    accuracy                           0.58       165\n",
      "   macro avg       0.58      0.57      0.57       165\n",
      "weighted avg       0.58      0.58      0.57       165\n",
      "\n",
      "Random Forest Results:\n",
      "              precision    recall  f1-score   support\n",
      "\n",
      "     control       0.58      0.56      0.57        84\n",
      "     patient       0.56      0.58      0.57        81\n",
      "\n",
      "    accuracy                           0.57       165\n",
      "   macro avg       0.57      0.57      0.57       165\n",
      "weighted avg       0.57      0.57      0.57       165\n",
      "\n",
      "K-Nearest Neighbors Results:\n",
      "              precision    recall  f1-score   support\n",
      "\n",
      "     control       0.62      0.56      0.59        84\n",
      "     patient       0.58      0.64      0.61        81\n",
      "\n",
      "    accuracy                           0.60       165\n",
      "   macro avg       0.60      0.60      0.60       165\n",
      "weighted avg       0.60      0.60      0.60       165\n",
      "\n",
      "Logistic Regression Results:\n",
      "              precision    recall  f1-score   support\n",
      "\n",
      "     control       0.57      0.52      0.55        84\n",
      "     patient       0.55      0.59      0.57        81\n",
      "\n",
      "    accuracy                           0.56       165\n",
      "   macro avg       0.56      0.56      0.56       165\n",
      "weighted avg       0.56      0.56      0.56       165\n",
      "\n"
     ]
    }
   ],
   "source": [
    "# Import necessary libraries\n",
    "from sklearn.model_selection import train_test_split\n",
    "from sklearn.tree import DecisionTreeClassifier\n",
    "from sklearn.ensemble import RandomForestClassifier\n",
    "from sklearn.neighbors import KNeighborsClassifier\n",
    "from sklearn.linear_model import LogisticRegression\n",
    "from sklearn.metrics import classification_report, accuracy_score\n",
    "from sklearn.model_selection import cross_val_score\n",
    "import matplotlib.pyplot as plt\n",
    "\n",
    "# Split the dataset \n",
    "X_train_resampled, X_test_resampled, y_train_resampled, y_test_resampled = train_test_split(\n",
    "    X_resampled, y_resampled, test_size=0.2, random_state=42\n",
    ")\n",
    "\n",
    "# 1. Decision Tree Model\n",
    "dt_model = DecisionTreeClassifier(random_state=42)\n",
    "dt_model.fit(X_train_resampled, y_train_resampled)\n",
    "y_pred_dt = dt_model.predict(X_test_resampled)\n",
    "print(\"Decision Tree Results:\")\n",
    "print(classification_report(y_test_resampled, y_pred_dt))\n",
    "\n",
    "# 2. Random Forest Model\n",
    "rf_model = RandomForestClassifier(random_state=42, n_estimators=100)\n",
    "rf_model.fit(X_train_resampled, y_train_resampled)\n",
    "y_pred_rf = rf_model.predict(X_test_resampled)\n",
    "print(\"Random Forest Results:\")\n",
    "print(classification_report(y_test_resampled, y_pred_rf))\n",
    "\n",
    "# 3. K-Nearest Neighbors Model\n",
    "knn_model = KNeighborsClassifier(n_neighbors=5)\n",
    "knn_model.fit(X_train_resampled, y_train_resampled)\n",
    "y_pred_knn = knn_model.predict(X_test_resampled)\n",
    "print(\"K-Nearest Neighbors Results:\")\n",
    "print(classification_report(y_test_resampled, y_pred_knn))\n",
    "\n",
    "# 4. Logistic Regression Model\n",
    "logreg_model = LogisticRegression(random_state=42, max_iter=1000)\n",
    "logreg_model.fit(X_train_resampled, y_train_resampled)\n",
    "y_pred_logreg = logreg_model.predict(X_test_resampled)\n",
    "print(\"Logistic Regression Results:\")\n",
    "print(classification_report(y_test_resampled, y_pred_logreg))\n",
    "\n",
    "# Cross-validation scores\n",
    "models = {\n",
    "    \"Decision Tree\": dt_model,\n",
    "    \"Random Forest\": rf_model,\n",
    "    \"K-Nearest Neighbors\": knn_model,\n",
    "    \"Logistic Regression\": logreg_model\n",
    "}\n",
    "\n",
    "# Optional: Visualize accuracy comparison\n",
    "accuracies = [\n",
    "    accuracy_score(y_test_resampled, y_pred_dt),\n",
    "    accuracy_score(y_test_resampled, y_pred_rf),\n",
    "    accuracy_score(y_test_resampled, y_pred_knn),\n",
    "    accuracy_score(y_test_resampled, y_pred_logreg)\n",
    "]\n"
   ]
  },
  {
   "cell_type": "markdown",
   "id": "a12fa7df",
   "metadata": {},
   "source": [
    "Decision Tree Results:\n",
    "\n",
    "Precision:\n",
    "\n",
    "Control: 0.58 (58% of predicted control instances are correct).\n",
    "\n",
    "Patient: 0.58 (58% of predicted patient instances are correct).\n",
    "\n",
    "Recall:\n",
    "\n",
    "Control: 0.63 (63% of actual control instances are identified correctly).\n",
    "\n",
    "Patient: 0.52 (52% of actual patient instances are identified correctly).\n",
    "\n",
    "F1-Score:\n",
    "\n",
    "Control: 0.60 (balance between precision and recall for control).\n",
    "\n",
    "Patient: 0.55 (balance for patient class).\n",
    "\n",
    "Accuracy: 58% (model correctly classifies 58% of all instances).\n",
    "\n",
    "The Decision Tree shows slightly better performance in identifying the control class, with higher recall for it. However, its balanced F1-score for both classes suggests moderate ability across the board.\n",
    "\n",
    "Random Forest Results:\n",
    "\n",
    "Precision:\n",
    "\n",
    "Control: 0.58.\n",
    "\n",
    "Patient: 0.56.\n",
    "\n",
    "Recall:\n",
    "\n",
    "Control: 0.56.\n",
    "\n",
    "Patient: 0.58.\n",
    "\n",
    "F1-Score:\n",
    "\n",
    "Control: 0.57.\n",
    "\n",
    "Patient: 0.57.\n",
    "\n",
    "Accuracy: 57%.\n",
    "\n",
    "The Random Forest model demonstrates very balanced precision, recall, and F1-scores between the two classes. However, the overall performance is slightly lower than the Decision Tree, possibly due to overfitting on the training data.\n",
    "\n",
    "K-Nearest Neighbors (KNN) Results:\n",
    "\n",
    "Precision:\n",
    "\n",
    "Control: 0.62 (highest precision among all models for control class).\n",
    "Patient: 0.58.\n",
    "\n",
    "Recall:\n",
    "Control: 0.56.\n",
    "Patient: 0.64 (highest recall for patient class).\n",
    "\n",
    "F1-Score:\n",
    "Control: 0.59.\n",
    "Patient: 0.61 (highest F1-score for patient class).\n",
    "\n",
    "Accuracy: 60% (highest among all models).\n",
    "\n",
    "KNN performs the best overall, especially for the patient class, with the highest recall and F1-score. It is better suited to handle the balanced dataset created after SMOTE.\n",
    "\n",
    "Logistic Regression Results:\n",
    "\n",
    "Precision:\n",
    "Control: 0.57.\n",
    "Patient: 0.55.\n",
    "\n",
    "Recall:\n",
    "Control: 0.52 (lowest recall for control).\n",
    "Patient: 0.59.\n",
    "\n",
    "F1-Score:\n",
    "Control: 0.55.\n",
    "Patient: 0.57.\n",
    "\n",
    "Accuracy: 56% (lowest among all models).\n",
    "\n",
    "Logistic Regression struggles the most, with lower precision, recall, and F1-scores for both classes. Its linear nature may not capture the relationships within the data effectively, even after balancing with SMOTE.\n",
    "\n",
    "Summary:\n",
    "Best Model: KNN achieves the highest accuracy (60%) and best balance in metrics, especially for the patient class.\n"
   ]
  },
  {
   "cell_type": "markdown",
   "id": "bff1c75a",
   "metadata": {},
   "source": [
    "This  is a binary classification problem, where the goal is to classify instances into one of two classes: control or patient"
   ]
  },
  {
   "cell_type": "code",
   "execution_count": null,
   "id": "3388adad",
   "metadata": {},
   "outputs": [],
   "source": [
    "### Decision Tree Classifier Model"
   ]
  },
  {
   "cell_type": "code",
   "execution_count": 62,
   "id": "f14a24bd",
   "metadata": {},
   "outputs": [],
   "source": [
    "# from sklearn.tree import DecisionTreeClassifier\n",
    "\n",
    "# # Train the Decision Tree model\n",
    "# dt_model = DecisionTreeClassifier(random_state=42)\n",
    "# dt_model.fit(X_train, y_train)\n",
    "\n",
    "# # Predict on test data\n",
    "# y_pred_dt = dt_model.predict(X_test)\n",
    "\n",
    "# # Accuracy and evaluation metrics\n",
    "# accuracy_dt = accuracy_score(y_test, y_pred_dt)\n",
    "# print(f'Decision Tree Accuracy: {accuracy_dt:.2f}')\n",
    "# print(classification_report(y_test, y_pred_dt))\n"
   ]
  },
  {
   "cell_type": "code",
   "execution_count": null,
   "id": "5aac299a",
   "metadata": {},
   "outputs": [],
   "source": [
    "### Random Forest Classifier Model"
   ]
  },
  {
   "cell_type": "code",
   "execution_count": 63,
   "id": "2ec7b7c0",
   "metadata": {},
   "outputs": [],
   "source": [
    "# from sklearn.ensemble import RandomForestClassifier\n",
    "\n",
    "# # Train the Random Forest model\n",
    "# rf_model = RandomForestClassifier(random_state=42)\n",
    "# rf_model.fit(X_train, y_train)\n",
    "\n",
    "# # Predict on test data\n",
    "# y_pred_rf = rf_model.predict(X_test)\n",
    "\n",
    "# # Accuracy and evaluation metrics\n",
    "# accuracy_rf = accuracy_score(y_test, y_pred_rf)\n",
    "# print(f'Random Forest Accuracy: {accuracy_rf:.2f}')\n",
    "# print(classification_report(y_test, y_pred_rf))\n"
   ]
  },
  {
   "cell_type": "code",
   "execution_count": null,
   "id": "9a9de83e",
   "metadata": {},
   "outputs": [],
   "source": [
    "### KNeighborsClassifier Model"
   ]
  },
  {
   "cell_type": "code",
   "execution_count": 64,
   "id": "9f38fc9e",
   "metadata": {},
   "outputs": [],
   "source": [
    "# from sklearn.neighbors import KNeighborsClassifier\n",
    "\n",
    "# # Train the KNN model\n",
    "# knn_model = KNeighborsClassifier()\n",
    "# knn_model.fit(X_train, y_train)\n",
    "\n",
    "# # Predict on test data\n",
    "# y_pred_knn = knn_model.predict(X_test)\n",
    "\n",
    "# # Accuracy and evaluation metrics\n",
    "# accuracy_knn = accuracy_score(y_test, y_pred_knn)\n",
    "# print(f'KNN Accuracy: {accuracy_knn:.2f}')\n",
    "# print(classification_report(y_test, y_pred_knn))\n"
   ]
  },
  {
   "cell_type": "code",
   "execution_count": null,
   "id": "73636d98",
   "metadata": {},
   "outputs": [],
   "source": [
    "### HyperParameter Tuning"
   ]
  },
  {
   "cell_type": "code",
   "execution_count": null,
   "id": "edca9517",
   "metadata": {},
   "outputs": [],
   "source": [
    "#### Tuning LogisticRegression Model"
   ]
  },
  {
   "cell_type": "code",
   "execution_count": 65,
   "id": "434f6010",
   "metadata": {},
   "outputs": [],
   "source": [
    "# from sklearn.model_selection import GridSearchCV\n",
    "# from sklearn.linear_model import LogisticRegression\n",
    "\n",
    "# # Define the parameter grid\n",
    "# param_grid = {\n",
    "#     'C': [0.1, 1, 10],  # Regularization parameter\n",
    "#     'penalty': ['l1', 'l2'],  # Regularization type\n",
    "#     'solver': ['liblinear', 'saga']  # Solvers for logistic regression\n",
    "# }\n",
    "\n",
    "# # Initialize the model\n",
    "# lr_model = LogisticRegression()\n",
    "\n",
    "# # Set up the GridSearchCV\n",
    "# grid_search = GridSearchCV(lr_model, param_grid, cv=5, scoring='accuracy', n_jobs=-1)\n",
    "\n",
    "# # Fit GridSearchCV\n",
    "# grid_search.fit(X_train, y_train)\n",
    "\n",
    "# # Get the best parameters and the best score\n",
    "# best_params = grid_search.best_params_\n",
    "# best_score = grid_search.best_score_\n",
    "\n",
    "# print(\"Best Parameters:\", best_params)\n",
    "# print(\"Best Cross-validation Score:\", best_score)\n",
    "\n",
    "# # Use the best model to predict\n",
    "# best_lr_model = grid_search.best_estimator_\n",
    "# y_pred = best_lr_model.predict(X_test)\n",
    "\n",
    "# # Accuracy\n",
    "# accuracy = accuracy_score(y_test, y_pred)\n",
    "# print(f'Accuracy: {accuracy:.2f}')\n"
   ]
  },
  {
   "cell_type": "code",
   "execution_count": null,
   "id": "0eaf8fa8",
   "metadata": {},
   "outputs": [],
   "source": [
    "#### Tuning Decision Tree Classifier Model"
   ]
  },
  {
   "cell_type": "code",
   "execution_count": 66,
   "id": "052f713a",
   "metadata": {},
   "outputs": [],
   "source": [
    "# from sklearn.model_selection import GridSearchCV\n",
    "# from sklearn.tree import DecisionTreeClassifier\n",
    "# from sklearn.metrics import accuracy_score\n",
    "\n",
    "# # Define the parameter grid for DecisionTreeClassifier\n",
    "# param_grid = {\n",
    "#     'max_depth': [None, 10, 20, 30],  # Maximum depth of the tree\n",
    "#     'min_samples_split': [2, 5, 10],  # Minimum number of samples required to split an internal node\n",
    "#     'min_samples_leaf': [1, 2, 4],    # Minimum number of samples required to be at a leaf node\n",
    "#     'criterion': ['gini', 'entropy'] # Function to measure the quality of a split\n",
    "# }\n",
    "\n",
    "# # Initialize the model\n",
    "# dt_model = DecisionTreeClassifier(random_state=42)\n",
    "\n",
    "# # Set up the GridSearchCV\n",
    "# grid_search = GridSearchCV(dt_model, param_grid, cv=5, scoring='accuracy', n_jobs=-1)\n",
    "\n",
    "# # Fit GridSearchCV\n",
    "# grid_search.fit(X_train, y_train)\n",
    "\n",
    "# # Get the best parameters and the best score\n",
    "# best_params = grid_search.best_params_\n",
    "# best_score = grid_search.best_score_\n",
    "\n",
    "# print(\"Best Parameters:\", best_params)\n",
    "# print(\"Best Cross-validation Score:\", best_score)\n",
    "\n",
    "# # Use the best model to predict\n",
    "# best_dt_model = grid_search.best_estimator_\n",
    "# y_pred = best_dt_model.predict(X_test)\n",
    "\n",
    "# # Accuracy\n",
    "# accuracy = accuracy_score(y_test, y_pred)\n",
    "# print(f'Accuracy: {accuracy:.2f}')\n"
   ]
  },
  {
   "cell_type": "code",
   "execution_count": null,
   "id": "39706bf3",
   "metadata": {},
   "outputs": [],
   "source": [
    "#### Tuning RandomForestClassifer Model"
   ]
  },
  {
   "cell_type": "code",
   "execution_count": 67,
   "id": "a3894c99",
   "metadata": {},
   "outputs": [],
   "source": [
    "# from sklearn.model_selection import GridSearchCV\n",
    "# from sklearn.ensemble import RandomForestClassifier\n",
    "# from sklearn.metrics import accuracy_score\n",
    "\n",
    "# # Define the parameter grid for RandomForestClassifier\n",
    "# param_grid = {\n",
    "#     'n_estimators': [50, 100, 200],  # Number of trees in the forest\n",
    "#     'max_depth': [None, 10, 20, 30],  # Maximum depth of the trees\n",
    "#     'min_samples_split': [2, 5, 10],  # Minimum number of samples required to split an internal node\n",
    "#     'min_samples_leaf': [1, 2, 4],    # Minimum number of samples required to be at a leaf node\n",
    "#     'bootstrap': [True, False]        # Whether bootstrap samples are used when building trees\n",
    "# }\n",
    "\n",
    "# # Initialize the model\n",
    "# rf_model = RandomForestClassifier(random_state=42)\n",
    "\n",
    "# # Set up the GridSearchCV\n",
    "# grid_search = GridSearchCV(rf_model, param_grid, cv=5, scoring='accuracy', n_jobs=-1)\n",
    "\n",
    "# # Fit GridSearchCV\n",
    "# grid_search.fit(X_train, y_train)\n",
    "\n",
    "# # Get the best parameters and the best score\n",
    "# best_params = grid_search.best_params_\n",
    "# best_score = grid_search.best_score_\n",
    "\n",
    "# print(\"Best Parameters:\", best_params)\n",
    "# print(\"Best Cross-validation Score:\", best_score)\n",
    "\n",
    "# # Use the best model to predict\n",
    "# best_rf_model = grid_search.best_estimator_\n",
    "# y_pred = best_rf_model.predict(X_test)\n",
    "\n",
    "# # Accuracy\n",
    "# accuracy = accuracy_score(y_test, y_pred)\n",
    "# print(f'Accuracy: {accuracy:.2f}')\n"
   ]
  },
  {
   "cell_type": "code",
   "execution_count": null,
   "id": "1fab8db4",
   "metadata": {},
   "outputs": [],
   "source": [
    "#### Tuning KNeighborsClassifier Model"
   ]
  },
  {
   "cell_type": "code",
   "execution_count": 68,
   "id": "aac13a1f",
   "metadata": {},
   "outputs": [],
   "source": [
    "# from sklearn.model_selection import GridSearchCV\n",
    "# from sklearn.neighbors import KNeighborsClassifier\n",
    "# from sklearn.metrics import accuracy_score\n",
    "\n",
    "# # Define the parameter grid for KNeighborsClassifier\n",
    "# param_grid = {\n",
    "#     'n_neighbors': [3, 5, 7, 9, 11],  # Number of neighbors to use for kneighbors queries\n",
    "#     'weights': ['uniform', 'distance'],  # Weight function used in prediction\n",
    "#     'metric': ['euclidean', 'manhattan', 'minkowski'],  # The distance metric to use for the tree\n",
    "#     'leaf_size': [20, 30, 40],  # Leaf size passed to BallTree or KDTree\n",
    "#     'p': [1, 2]  # Power parameter for the Minkowski distance (1 for Manhattan, 2 for Euclidean)\n",
    "# }\n",
    "\n",
    "# # Initialize the KNN model\n",
    "# knn_model = KNeighborsClassifier()\n",
    "\n",
    "# # Set up the GridSearchCV\n",
    "# grid_search = GridSearchCV(knn_model, param_grid, cv=5, scoring='accuracy', n_jobs=-1)\n",
    "\n",
    "# # Fit GridSearchCV\n",
    "# grid_search.fit(X_train, y_train)\n",
    "\n",
    "# # Get the best parameters and the best score\n",
    "# best_params = grid_search.best_params_\n",
    "# best_score = grid_search.best_score_\n",
    "\n",
    "# print(\"Best Parameters:\", best_params)\n",
    "# print(\"Best Cross-validation Score:\", best_score)\n",
    "\n",
    "# # Use the best model to predict\n",
    "# best_knn_model = grid_search.best_estimator_\n",
    "# y_pred = best_knn_model.predict(X_test)\n",
    "\n",
    "# # Accuracy\n",
    "# accuracy = accuracy_score(y_test, y_pred)\n",
    "# print(f'Accuracy: {accuracy:.2f}')\n"
   ]
  },
  {
   "cell_type": "code",
   "execution_count": 74,
   "id": "ee40c4f5",
   "metadata": {},
   "outputs": [
    {
     "name": "stdout",
     "output_type": "stream",
     "text": [
      "Requirement already satisfied: nbconvert[webpdf] in c:\\programdata\\anaconda3\\lib\\site-packages (6.1.0)\n",
      "Requirement already satisfied: mistune<2,>=0.8.1 in c:\\programdata\\anaconda3\\lib\\site-packages (from nbconvert[webpdf]) (0.8.4)\n",
      "Requirement already satisfied: jinja2>=2.4 in c:\\programdata\\anaconda3\\lib\\site-packages (from nbconvert[webpdf]) (2.11.3)\n",
      "Requirement already satisfied: pygments>=2.4.1 in c:\\programdata\\anaconda3\\lib\\site-packages (from nbconvert[webpdf]) (2.10.0)\n",
      "Note: you may need to restart the kernel to use updated packages.Requirement already satisfied: jupyterlab-pygments in c:\\programdata\\anaconda3\\lib\\site-packages (from nbconvert[webpdf]) (0.1.2)\n",
      "Requirement already satisfied: traitlets>=5.0 in c:\\programdata\\anaconda3\\lib\\site-packages (from nbconvert[webpdf]) (5.1.0)\n",
      "Requirement already satisfied: jupyter-core in c:\\programdata\\anaconda3\\lib\\site-packages (from nbconvert[webpdf]) (4.8.1)\n",
      "Requirement already satisfied: nbformat>=4.4 in c:\\programdata\\anaconda3\\lib\\site-packages (from nbconvert[webpdf]) (5.1.3)\n",
      "Requirement already satisfied: entrypoints>=0.2.2 in c:\\programdata\\anaconda3\\lib\\site-packages (from nbconvert[webpdf]) (0.3)\n",
      "\n",
      "Requirement already satisfied: bleach in c:\\programdata\\anaconda3\\lib\\site-packages (from nbconvert[webpdf]) (4.0.0)\n"
     ]
    },
    {
     "name": "stderr",
     "output_type": "stream",
     "text": [
      "WARNING: Ignoring invalid distribution -rkupsafe (c:\\programdata\\anaconda3\\lib\\site-packages)\n",
      "WARNING: Ignoring invalid distribution - (c:\\programdata\\anaconda3\\lib\\site-packages)\n",
      "WARNING: Ignoring invalid distribution -rkupsafe (c:\\programdata\\anaconda3\\lib\\site-packages)\n",
      "WARNING: Ignoring invalid distribution -arkupsafe (c:\\programdata\\anaconda3\\lib\\site-packages)\n",
      "WARNING: Ignoring invalid distribution -cikit-learn (c:\\programdata\\anaconda3\\lib\\site-packages)\n",
      "WARNING: Error parsing dependencies of pyodbc: Invalid version: '4.0.0-unsupported'\n",
      "WARNING: Ignoring invalid distribution -rkupsafe (c:\\programdata\\anaconda3\\lib\\site-packages)\n",
      "WARNING: Ignoring invalid distribution - (c:\\programdata\\anaconda3\\lib\\site-packages)\n",
      "WARNING: Ignoring invalid distribution -rkupsafe (c:\\programdata\\anaconda3\\lib\\site-packages)\n"
     ]
    },
    {
     "name": "stdout",
     "output_type": "stream",
     "text": [
      "Requirement already satisfied: pandocfilters>=1.4.1 in c:\\programdata\\anaconda3\\lib\\site-packages (from nbconvert[webpdf]) (1.4.3)\n",
      "Requirement already satisfied: testpath in c:\\programdata\\anaconda3\\lib\\site-packages (from nbconvert[webpdf]) (0.5.0)\n",
      "Requirement already satisfied: defusedxml in c:\\programdata\\anaconda3\\lib\\site-packages (from nbconvert[webpdf]) (0.7.1)\n",
      "Requirement already satisfied: nbclient<0.6.0,>=0.5.0 in c:\\programdata\\anaconda3\\lib\\site-packages (from nbconvert[webpdf]) (0.5.3)\n",
      "Collecting pyppeteer==0.2.2 (from nbconvert[webpdf])\n",
      "  Downloading pyppeteer-0.2.2-py3-none-any.whl.metadata (6.6 kB)\n",
      "Requirement already satisfied: appdirs<2.0.0,>=1.4.3 in c:\\programdata\\anaconda3\\lib\\site-packages (from pyppeteer==0.2.2->nbconvert[webpdf]) (1.4.4)\n",
      "Collecting pyee<8.0.0,>=7.0.1 (from pyppeteer==0.2.2->nbconvert[webpdf])\n",
      "  Downloading pyee-7.0.4-py2.py3-none-any.whl.metadata (1.8 kB)\n",
      "Requirement already satisfied: tqdm<5.0.0,>=4.42.1 in c:\\programdata\\anaconda3\\lib\\site-packages (from pyppeteer==0.2.2->nbconvert[webpdf]) (4.62.3)\n",
      "Requirement already satisfied: urllib3<2.0.0,>=1.25.8 in c:\\programdata\\anaconda3\\lib\\site-packages (from pyppeteer==0.2.2->nbconvert[webpdf]) (1.26.7)\n",
      "Collecting websockets<9.0,>=8.1 (from pyppeteer==0.2.2->nbconvert[webpdf])\n",
      "  Downloading websockets-8.1.tar.gz (58 kB)\n",
      "  Preparing metadata (setup.py): started\n",
      "  Preparing metadata (setup.py): finished with status 'done'\n",
      "Requirement already satisfied: MarkupSafe>=0.23 in c:\\programdata\\anaconda3\\lib\\site-packages (from jinja2>=2.4->nbconvert[webpdf]) (1.1.1)\n",
      "Requirement already satisfied: jupyter-client>=6.1.5 in c:\\programdata\\anaconda3\\lib\\site-packages (from nbclient<0.6.0,>=0.5.0->nbconvert[webpdf]) (6.1.12)\n",
      "Requirement already satisfied: async-generator in c:\\programdata\\anaconda3\\lib\\site-packages (from nbclient<0.6.0,>=0.5.0->nbconvert[webpdf]) (1.10)\n",
      "Requirement already satisfied: nest-asyncio in c:\\programdata\\anaconda3\\lib\\site-packages (from nbclient<0.6.0,>=0.5.0->nbconvert[webpdf]) (1.5.1)\n",
      "Requirement already satisfied: ipython-genutils in c:\\programdata\\anaconda3\\lib\\site-packages (from nbformat>=4.4->nbconvert[webpdf]) (0.2.0)\n",
      "Requirement already satisfied: jsonschema!=2.5.0,>=2.4 in c:\\programdata\\anaconda3\\lib\\site-packages (from nbformat>=4.4->nbconvert[webpdf]) (3.2.0)\n",
      "Requirement already satisfied: packaging in c:\\programdata\\anaconda3\\lib\\site-packages (from bleach->nbconvert[webpdf]) (21.0)\n",
      "Requirement already satisfied: six>=1.9.0 in c:\\programdata\\anaconda3\\lib\\site-packages (from bleach->nbconvert[webpdf]) (1.16.0)\n",
      "Requirement already satisfied: webencodings in c:\\programdata\\anaconda3\\lib\\site-packages (from bleach->nbconvert[webpdf]) (0.5.1)\n",
      "Requirement already satisfied: pywin32>=1.0 in c:\\programdata\\anaconda3\\lib\\site-packages (from jupyter-core->nbconvert[webpdf]) (228)\n",
      "Requirement already satisfied: attrs>=17.4.0 in c:\\programdata\\anaconda3\\lib\\site-packages (from jsonschema!=2.5.0,>=2.4->nbformat>=4.4->nbconvert[webpdf]) (21.2.0)\n",
      "Requirement already satisfied: pyrsistent>=0.14.0 in c:\\programdata\\anaconda3\\lib\\site-packages (from jsonschema!=2.5.0,>=2.4->nbformat>=4.4->nbconvert[webpdf]) (0.18.0)\n",
      "Requirement already satisfied: setuptools in c:\\programdata\\anaconda3\\lib\\site-packages (from jsonschema!=2.5.0,>=2.4->nbformat>=4.4->nbconvert[webpdf]) (58.0.4)\n",
      "Requirement already satisfied: pyzmq>=13 in c:\\programdata\\anaconda3\\lib\\site-packages (from jupyter-client>=6.1.5->nbclient<0.6.0,>=0.5.0->nbconvert[webpdf]) (22.2.1)\n",
      "Requirement already satisfied: python-dateutil>=2.1 in c:\\programdata\\anaconda3\\lib\\site-packages (from jupyter-client>=6.1.5->nbclient<0.6.0,>=0.5.0->nbconvert[webpdf]) (2.8.2)\n",
      "Requirement already satisfied: tornado>=4.1 in c:\\programdata\\anaconda3\\lib\\site-packages (from jupyter-client>=6.1.5->nbclient<0.6.0,>=0.5.0->nbconvert[webpdf]) (6.1)\n",
      "Requirement already satisfied: colorama in c:\\programdata\\anaconda3\\lib\\site-packages (from tqdm<5.0.0,>=4.42.1->pyppeteer==0.2.2->nbconvert[webpdf]) (0.4.4)\n",
      "Requirement already satisfied: pyparsing>=2.0.2 in c:\\programdata\\anaconda3\\lib\\site-packages (from packaging->bleach->nbconvert[webpdf]) (3.0.4)\n",
      "Downloading pyppeteer-0.2.2-py3-none-any.whl (145 kB)\n",
      "Downloading pyee-7.0.4-py2.py3-none-any.whl (12 kB)\n",
      "Building wheels for collected packages: websockets\n",
      "  Building wheel for websockets (setup.py): started\n",
      "  Building wheel for websockets (setup.py): finished with status 'done'\n",
      "  Created wheel for websockets: filename=websockets-8.1-cp39-cp39-win_amd64.whl size=62758 sha256=a446e054dd10ff50dccc13aa7bb30ead452ac0f31935e7aefc9a4a82e51180d1\n",
      "  Stored in directory: c:\\users\\hp\\appdata\\local\\pip\\cache\\wheels\\d8\\b9\\a0\\b97b211aeda2ebd6ac2e43fc300d308dbf1f9df520ed390cae\n",
      "Successfully built websockets\n",
      "Installing collected packages: pyee, websockets, pyppeteer\n"
     ]
    },
    {
     "name": "stderr",
     "output_type": "stream",
     "text": [
      "WARNING: Ignoring invalid distribution -arkupsafe (c:\\programdata\\anaconda3\\lib\\site-packages)\n",
      "WARNING: Ignoring invalid distribution -cikit-learn (c:\\programdata\\anaconda3\\lib\\site-packages)\n",
      "\n",
      "[notice] A new release of pip is available: 24.2 -> 24.3.1\n",
      "[notice] To update, run: python.exe -m pip install --upgrade pip\n",
      "ERROR: Exception:\n",
      "Traceback (most recent call last):\n",
      "  File \"C:\\Users\\hp\\AppData\\Roaming\\Python\\Python39\\site-packages\\pip\\_internal\\cli\\base_command.py\", line 105, in _run_wrapper\n",
      "    status = _inner_run()\n",
      "  File \"C:\\Users\\hp\\AppData\\Roaming\\Python\\Python39\\site-packages\\pip\\_internal\\cli\\base_command.py\", line 96, in _inner_run\n",
      "    return self.run(options, args)\n",
      "  File \"C:\\Users\\hp\\AppData\\Roaming\\Python\\Python39\\site-packages\\pip\\_internal\\cli\\req_command.py\", line 67, in wrapper\n",
      "    return func(self, options, args)\n",
      "  File \"C:\\Users\\hp\\AppData\\Roaming\\Python\\Python39\\site-packages\\pip\\_internal\\commands\\install.py\", line 483, in run\n",
      "    installed_versions[distribution.canonical_name] = distribution.version\n",
      "  File \"C:\\Users\\hp\\AppData\\Roaming\\Python\\Python39\\site-packages\\pip\\_internal\\metadata\\pkg_resources.py\", line 192, in version\n",
      "    return parse_version(self._dist.version)\n",
      "  File \"C:\\Users\\hp\\AppData\\Roaming\\Python\\Python39\\site-packages\\pip\\_vendor\\packaging\\version.py\", line 56, in parse\n",
      "    return Version(version)\n",
      "  File \"C:\\Users\\hp\\AppData\\Roaming\\Python\\Python39\\site-packages\\pip\\_vendor\\packaging\\version.py\", line 202, in __init__\n",
      "    raise InvalidVersion(f\"Invalid version: '{version}'\")\n",
      "pip._vendor.packaging.version.InvalidVersion: Invalid version: '4.0.0-unsupported'\n"
     ]
    }
   ],
   "source": [
    "pip install nbconvert[webpdf]\n"
   ]
  },
  {
   "cell_type": "code",
   "execution_count": null,
   "id": "bcd67413",
   "metadata": {},
   "outputs": [],
   "source": []
  }
 ],
 "metadata": {
  "kernelspec": {
   "display_name": "Python 3 (ipykernel)",
   "language": "python",
   "name": "python3"
  },
  "language_info": {
   "codemirror_mode": {
    "name": "ipython",
    "version": 3
   },
   "file_extension": ".py",
   "mimetype": "text/x-python",
   "name": "python",
   "nbconvert_exporter": "python",
   "pygments_lexer": "ipython3",
   "version": "3.9.7"
  }
 },
 "nbformat": 4,
 "nbformat_minor": 5
}
