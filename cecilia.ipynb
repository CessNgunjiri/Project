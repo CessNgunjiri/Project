{
 "cells": [
  {
   "cell_type": "markdown",
   "id": "4777af75",
   "metadata": {},
   "source": [
    "# Project Overview"
   ]
  },
  {
   "cell_type": "markdown",
   "id": "9abb595f",
   "metadata": {},
   "source": [
    "This project involves a classification problem where the objective is to predict the values in the \"group\" column, which can either be \"control\" or \"patient.\" The dataset includes the following columns: \"rownames,\" \"subject,\" \"age,\" and \"group.\"\n",
    "\n",
    "rownames: A unique identifier for each record in the dataset, often used as an index.\n",
    "\n",
    "subject: Represents the identifier or label for the individuals or entities being studied.\n",
    "\n",
    "age: Indicates the age of the subjects in the dataset.\n",
    "\n",
    "group: The target variable for the classification problem, categorizing each subject as either \"control\" or \"patient.\""
   ]
  },
  {
   "cell_type": "markdown",
   "id": "d16049ee",
   "metadata": {},
   "source": [
    "# Data Understanding"
   ]
  },
  {
   "cell_type": "markdown",
   "id": "e85ec3b9",
   "metadata": {},
   "source": [
    "Loading and Inspecting the Dataset"
   ]
  },
  {
   "cell_type": "code",
   "execution_count": 1,
   "id": "5731839a",
   "metadata": {},
   "outputs": [
    {
     "name": "stdout",
     "output_type": "stream",
     "text": [
      "   rownames subject    age  exercise    group\n",
      "0         1     100   8.00      2.71  patient\n",
      "1         2     100  10.00      1.94  patient\n",
      "2         3     100  12.00      2.36  patient\n",
      "3         4     100  14.00      1.54  patient\n",
      "4         5     100  15.92      8.63  patient\n"
     ]
    }
   ],
   "source": [
    "import pandas as pd\n",
    "\n",
    "# Raw URL to the Blackmore.csv file\n",
    "raw_url = \"https://raw.githubusercontent.com/vincentarelbundock/Rdatasets/master/csv/carData/Blackmore.csv\"\n",
    "\n",
    "# Load the CSV directly into pandas\n",
    "data = pd.read_csv(raw_url)\n",
    "print(data.head())"
   ]
  },
  {
   "cell_type": "code",
   "execution_count": 2,
   "id": "079e0207",
   "metadata": {},
   "outputs": [
    {
     "data": {
      "text/html": [
       "<div>\n",
       "<style scoped>\n",
       "    .dataframe tbody tr th:only-of-type {\n",
       "        vertical-align: middle;\n",
       "    }\n",
       "\n",
       "    .dataframe tbody tr th {\n",
       "        vertical-align: top;\n",
       "    }\n",
       "\n",
       "    .dataframe thead th {\n",
       "        text-align: right;\n",
       "    }\n",
       "</style>\n",
       "<table border=\"1\" class=\"dataframe\">\n",
       "  <thead>\n",
       "    <tr style=\"text-align: right;\">\n",
       "      <th></th>\n",
       "      <th>rownames</th>\n",
       "      <th>subject</th>\n",
       "      <th>age</th>\n",
       "      <th>exercise</th>\n",
       "      <th>group</th>\n",
       "    </tr>\n",
       "  </thead>\n",
       "  <tbody>\n",
       "    <tr>\n",
       "      <th>0</th>\n",
       "      <td>1</td>\n",
       "      <td>100</td>\n",
       "      <td>8.00</td>\n",
       "      <td>2.71</td>\n",
       "      <td>patient</td>\n",
       "    </tr>\n",
       "    <tr>\n",
       "      <th>1</th>\n",
       "      <td>2</td>\n",
       "      <td>100</td>\n",
       "      <td>10.00</td>\n",
       "      <td>1.94</td>\n",
       "      <td>patient</td>\n",
       "    </tr>\n",
       "    <tr>\n",
       "      <th>2</th>\n",
       "      <td>3</td>\n",
       "      <td>100</td>\n",
       "      <td>12.00</td>\n",
       "      <td>2.36</td>\n",
       "      <td>patient</td>\n",
       "    </tr>\n",
       "    <tr>\n",
       "      <th>3</th>\n",
       "      <td>4</td>\n",
       "      <td>100</td>\n",
       "      <td>14.00</td>\n",
       "      <td>1.54</td>\n",
       "      <td>patient</td>\n",
       "    </tr>\n",
       "    <tr>\n",
       "      <th>4</th>\n",
       "      <td>5</td>\n",
       "      <td>100</td>\n",
       "      <td>15.92</td>\n",
       "      <td>8.63</td>\n",
       "      <td>patient</td>\n",
       "    </tr>\n",
       "  </tbody>\n",
       "</table>\n",
       "</div>"
      ],
      "text/plain": [
       "   rownames subject    age  exercise    group\n",
       "0         1     100   8.00      2.71  patient\n",
       "1         2     100  10.00      1.94  patient\n",
       "2         3     100  12.00      2.36  patient\n",
       "3         4     100  14.00      1.54  patient\n",
       "4         5     100  15.92      8.63  patient"
      ]
     },
     "execution_count": 2,
     "metadata": {},
     "output_type": "execute_result"
    }
   ],
   "source": [
    "#display the first 5 rows of our dataset\n",
    "data.head()"
   ]
  },
  {
   "cell_type": "code",
   "execution_count": 3,
   "id": "0621c67d",
   "metadata": {},
   "outputs": [
    {
     "data": {
      "text/html": [
       "<div>\n",
       "<style scoped>\n",
       "    .dataframe tbody tr th:only-of-type {\n",
       "        vertical-align: middle;\n",
       "    }\n",
       "\n",
       "    .dataframe tbody tr th {\n",
       "        vertical-align: top;\n",
       "    }\n",
       "\n",
       "    .dataframe thead th {\n",
       "        text-align: right;\n",
       "    }\n",
       "</style>\n",
       "<table border=\"1\" class=\"dataframe\">\n",
       "  <thead>\n",
       "    <tr style=\"text-align: right;\">\n",
       "      <th></th>\n",
       "      <th>rownames</th>\n",
       "      <th>subject</th>\n",
       "      <th>age</th>\n",
       "      <th>exercise</th>\n",
       "      <th>group</th>\n",
       "    </tr>\n",
       "  </thead>\n",
       "  <tbody>\n",
       "    <tr>\n",
       "      <th>940</th>\n",
       "      <td>768</td>\n",
       "      <td>286</td>\n",
       "      <td>8.0</td>\n",
       "      <td>1.10</td>\n",
       "      <td>control</td>\n",
       "    </tr>\n",
       "    <tr>\n",
       "      <th>941</th>\n",
       "      <td>769</td>\n",
       "      <td>286</td>\n",
       "      <td>10.0</td>\n",
       "      <td>1.10</td>\n",
       "      <td>control</td>\n",
       "    </tr>\n",
       "    <tr>\n",
       "      <th>942</th>\n",
       "      <td>770</td>\n",
       "      <td>286</td>\n",
       "      <td>12.0</td>\n",
       "      <td>0.35</td>\n",
       "      <td>control</td>\n",
       "    </tr>\n",
       "    <tr>\n",
       "      <th>943</th>\n",
       "      <td>771</td>\n",
       "      <td>286</td>\n",
       "      <td>14.0</td>\n",
       "      <td>0.40</td>\n",
       "      <td>control</td>\n",
       "    </tr>\n",
       "    <tr>\n",
       "      <th>944</th>\n",
       "      <td>772</td>\n",
       "      <td>286</td>\n",
       "      <td>17.0</td>\n",
       "      <td>0.29</td>\n",
       "      <td>control</td>\n",
       "    </tr>\n",
       "  </tbody>\n",
       "</table>\n",
       "</div>"
      ],
      "text/plain": [
       "     rownames subject   age  exercise    group\n",
       "940       768     286   8.0      1.10  control\n",
       "941       769     286  10.0      1.10  control\n",
       "942       770     286  12.0      0.35  control\n",
       "943       771     286  14.0      0.40  control\n",
       "944       772     286  17.0      0.29  control"
      ]
     },
     "execution_count": 3,
     "metadata": {},
     "output_type": "execute_result"
    }
   ],
   "source": [
    "#display the last 5 rows of our dataset\n",
    "data.tail()"
   ]
  },
  {
   "cell_type": "code",
   "execution_count": 4,
   "id": "5bb25cea",
   "metadata": {},
   "outputs": [
    {
     "name": "stdout",
     "output_type": "stream",
     "text": [
      "<class 'pandas.core.frame.DataFrame'>\n",
      "RangeIndex: 945 entries, 0 to 944\n",
      "Data columns (total 5 columns):\n",
      " #   Column    Non-Null Count  Dtype  \n",
      "---  ------    --------------  -----  \n",
      " 0   rownames  945 non-null    int64  \n",
      " 1   subject   945 non-null    object \n",
      " 2   age       945 non-null    float64\n",
      " 3   exercise  945 non-null    float64\n",
      " 4   group     945 non-null    object \n",
      "dtypes: float64(2), int64(1), object(2)\n",
      "memory usage: 37.0+ KB\n"
     ]
    }
   ],
   "source": [
    "#display information about our dataset\n",
    "data.info()"
   ]
  },
  {
   "cell_type": "code",
   "execution_count": 5,
   "id": "04f2ce07",
   "metadata": {},
   "outputs": [
    {
     "data": {
      "text/plain": [
       "(945, 5)"
      ]
     },
     "execution_count": 5,
     "metadata": {},
     "output_type": "execute_result"
    }
   ],
   "source": [
    "#display number of rows and columns in our dataset. \n",
    "#there are 945 rows and 5 columns\n",
    "data.shape"
   ]
  },
  {
   "cell_type": "code",
   "execution_count": 6,
   "id": "118e18bf",
   "metadata": {},
   "outputs": [
    {
     "data": {
      "text/html": [
       "<div>\n",
       "<style scoped>\n",
       "    .dataframe tbody tr th:only-of-type {\n",
       "        vertical-align: middle;\n",
       "    }\n",
       "\n",
       "    .dataframe tbody tr th {\n",
       "        vertical-align: top;\n",
       "    }\n",
       "\n",
       "    .dataframe thead th {\n",
       "        text-align: right;\n",
       "    }\n",
       "</style>\n",
       "<table border=\"1\" class=\"dataframe\">\n",
       "  <thead>\n",
       "    <tr style=\"text-align: right;\">\n",
       "      <th></th>\n",
       "      <th>rownames</th>\n",
       "      <th>age</th>\n",
       "      <th>exercise</th>\n",
       "    </tr>\n",
       "  </thead>\n",
       "  <tbody>\n",
       "    <tr>\n",
       "      <th>count</th>\n",
       "      <td>945.000000</td>\n",
       "      <td>945.000000</td>\n",
       "      <td>945.000000</td>\n",
       "    </tr>\n",
       "    <tr>\n",
       "      <th>mean</th>\n",
       "      <td>473.000000</td>\n",
       "      <td>11.441661</td>\n",
       "      <td>2.530646</td>\n",
       "    </tr>\n",
       "    <tr>\n",
       "      <th>std</th>\n",
       "      <td>272.942302</td>\n",
       "      <td>2.765609</td>\n",
       "      <td>3.495086</td>\n",
       "    </tr>\n",
       "    <tr>\n",
       "      <th>min</th>\n",
       "      <td>1.000000</td>\n",
       "      <td>8.000000</td>\n",
       "      <td>0.000000</td>\n",
       "    </tr>\n",
       "    <tr>\n",
       "      <th>25%</th>\n",
       "      <td>237.000000</td>\n",
       "      <td>10.000000</td>\n",
       "      <td>0.400000</td>\n",
       "    </tr>\n",
       "    <tr>\n",
       "      <th>50%</th>\n",
       "      <td>473.000000</td>\n",
       "      <td>12.000000</td>\n",
       "      <td>1.330000</td>\n",
       "    </tr>\n",
       "    <tr>\n",
       "      <th>75%</th>\n",
       "      <td>709.000000</td>\n",
       "      <td>14.000000</td>\n",
       "      <td>3.040000</td>\n",
       "    </tr>\n",
       "    <tr>\n",
       "      <th>max</th>\n",
       "      <td>945.000000</td>\n",
       "      <td>17.920000</td>\n",
       "      <td>29.960000</td>\n",
       "    </tr>\n",
       "  </tbody>\n",
       "</table>\n",
       "</div>"
      ],
      "text/plain": [
       "         rownames         age    exercise\n",
       "count  945.000000  945.000000  945.000000\n",
       "mean   473.000000   11.441661    2.530646\n",
       "std    272.942302    2.765609    3.495086\n",
       "min      1.000000    8.000000    0.000000\n",
       "25%    237.000000   10.000000    0.400000\n",
       "50%    473.000000   12.000000    1.330000\n",
       "75%    709.000000   14.000000    3.040000\n",
       "max    945.000000   17.920000   29.960000"
      ]
     },
     "execution_count": 6,
     "metadata": {},
     "output_type": "execute_result"
    }
   ],
   "source": [
    "#display a statistical summary of our dataset\n",
    "data.describe()"
   ]
  },
  {
   "cell_type": "code",
   "execution_count": 7,
   "id": "18c76ee8",
   "metadata": {},
   "outputs": [
    {
     "data": {
      "text/plain": [
       "Index(['rownames', 'subject', 'age', 'exercise', 'group'], dtype='object')"
      ]
     },
     "execution_count": 7,
     "metadata": {},
     "output_type": "execute_result"
    }
   ],
   "source": [
    "#display the columns in or dataset\n",
    "data.columns"
   ]
  },
  {
   "cell_type": "markdown",
   "id": "84851c61",
   "metadata": {},
   "source": [
    "Column names description;\n",
    "\n",
    "\n",
    "rownames: A unique identifier for each record in the dataset, often used as an index.\n",
    "\n",
    "subject: Represents the identifier or label for the individuals or entities being studied.\n",
    "\n",
    "age: Indicates the age of the subjects in the dataset.\n",
    "\n",
    "group: The target variable for the classification problem, categorizing each subject as either \"control\" or \"patient.\""
   ]
  },
  {
   "cell_type": "code",
   "execution_count": 8,
   "id": "b3881046",
   "metadata": {},
   "outputs": [
    {
     "data": {
      "text/plain": [
       "rownames      int64\n",
       "subject      object\n",
       "age         float64\n",
       "exercise    float64\n",
       "group        object\n",
       "dtype: object"
      ]
     },
     "execution_count": 8,
     "metadata": {},
     "output_type": "execute_result"
    }
   ],
   "source": [
    "#display the datatypes for each column\n",
    "data.dtypes"
   ]
  },
  {
   "cell_type": "markdown",
   "id": "e6a89956",
   "metadata": {},
   "source": [
    "# Data Preparation"
   ]
  },
  {
   "cell_type": "markdown",
   "id": "6fb9e69f",
   "metadata": {},
   "source": [
    "## Data Cleaning"
   ]
  },
  {
   "cell_type": "markdown",
   "id": "366a453e",
   "metadata": {},
   "source": [
    "### Check for missing values"
   ]
  },
  {
   "cell_type": "code",
   "execution_count": 9,
   "id": "51da04f9",
   "metadata": {},
   "outputs": [
    {
     "data": {
      "text/plain": [
       "rownames    0\n",
       "subject     0\n",
       "age         0\n",
       "exercise    0\n",
       "group       0\n",
       "dtype: int64"
      ]
     },
     "execution_count": 9,
     "metadata": {},
     "output_type": "execute_result"
    }
   ],
   "source": [
    "#check for missing values\n",
    "data.isnull().sum()"
   ]
  },
  {
   "cell_type": "markdown",
   "id": "4d83f1ae",
   "metadata": {},
   "source": [
    "From our observation above, our dataset does not have any missing values."
   ]
  },
  {
   "cell_type": "code",
   "execution_count": 10,
   "id": "2296618d",
   "metadata": {},
   "outputs": [
    {
     "data": {
      "text/plain": [
       "0"
      ]
     },
     "execution_count": 10,
     "metadata": {},
     "output_type": "execute_result"
    }
   ],
   "source": [
    "#checking if our dataset has any duplicates\n",
    "data.duplicated().sum()"
   ]
  },
  {
   "cell_type": "markdown",
   "id": "eb73c0e4",
   "metadata": {},
   "source": [
    "Our dataset does not have any duplicated values. It is neccessary to check for duplicates to ensure our dataset is clean and avoid any misleading information"
   ]
  },
  {
   "cell_type": "markdown",
   "id": "ab699709",
   "metadata": {},
   "source": [
    "### Check for Outliers"
   ]
  },
  {
   "cell_type": "code",
   "execution_count": 11,
   "id": "8de3d017",
   "metadata": {},
   "outputs": [
    {
     "data": {
      "image/png": "[encoded data removed]",
      "text/plain": [
       "<Figure size 432x288 with 1 Axes>"
      ]
     },
     "metadata": {
      "needs_background": "light"
     },
     "output_type": "display_data"
    },
    {
     "data": {
      "image/png": "[encoded data removed]",
      "text/plain": [
       "<Figure size 432x288 with 1 Axes>"
      ]
     },
     "metadata": {
      "needs_background": "light"
     },
     "output_type": "display_data"
    },
    {
     "data": {
      "image/png": "[encoded data removed]",
      "text/plain": [
       "<Figure size 432x288 with 1 Axes>"
      ]
     },
     "metadata": {
      "needs_background": "light"
     },
     "output_type": "display_data"
    }
   ],
   "source": [
    "import seaborn as sns\n",
    "import matplotlib.pyplot as plt\n",
    "\n",
    "for column in data.select_dtypes(include=['float64', 'int64']).columns:\n",
    "    sns.boxplot(data=data, x=column)\n",
    "    plt.title(f'Boxplot for {column}')\n",
    "    plt.show()"
   ]
  },
  {
   "cell_type": "markdown",
   "id": "fb5a8290",
   "metadata": {},
   "source": [
    "The 'exercise' column seems to have outliers, and if not dealth with, it can lead to misinterpretation of results\n",
    "\n",
    "Calculate the interquartile range (to define and identify outliers in the exercise"
   ]
  },
  {
   "cell_type": "code",
   "execution_count": 12,
   "id": "f40f86af",
   "metadata": {},
   "outputs": [
    {
     "name": "stdout",
     "output_type": "stream",
     "text": [
      "Number of outliers: 83\n"
     ]
    }
   ],
   "source": [
    "import pandas as pd\n",
    "\n",
    "# Calculate IQR\n",
    "Q1 = data['exercise'].quantile(0.25)  # 25th percentile\n",
    "Q3 = data['exercise'].quantile(0.75)  # 75th percentile\n",
    "IQR = Q3 - Q1  # Interquartile Range\n",
    "\n",
    "# Define bounds for outliers\n",
    "lower_bound = Q1 - 1.5 * IQR\n",
    "upper_bound = Q3 + 1.5 * IQR\n",
    "\n",
    "# Identify outliers\n",
    "outliers = data[(data['exercise'] < lower_bound) | (data['exercise'] > upper_bound)]\n",
    "print(f\"Number of outliers: {outliers.shape[0]}\")\n"
   ]
  },
  {
   "cell_type": "markdown",
   "id": "fe80e8c7",
   "metadata": {},
   "source": [
    "Our dataset only has 83 outliers. Removing the outliers will not significantly affect our dataset"
   ]
  },
  {
   "cell_type": "code",
   "execution_count": 13,
   "id": "883b7299",
   "metadata": {},
   "outputs": [
    {
     "name": "stdout",
     "output_type": "stream",
     "text": [
      "Dataframe size after removing outliers: (862, 5)\n"
     ]
    }
   ],
   "source": [
    "data_cleaned = data[(data['exercise'] >= lower_bound) & (data['exercise'] <= upper_bound)]\n",
    "print(f\"Dataframe size after removing outliers: {data_cleaned.shape}\")\n"
   ]
  },
  {
   "cell_type": "markdown",
   "id": "762f8a92",
   "metadata": {},
   "source": [
    "The shape of our dataset changes after removing the 83 outliers\n",
    "\n",
    "The number of rows changes from 945 to 862\n",
    "\n",
    "The number of columns remains the same"
   ]
  },
  {
   "cell_type": "code",
   "execution_count": 14,
   "id": "1b91d9c6",
   "metadata": {},
   "outputs": [
    {
     "name": "stdout",
     "output_type": "stream",
     "text": [
      "Number of outliers after removal: 0\n"
     ]
    }
   ],
   "source": [
    "#checking the number of outliers after remmoving the outliers\n",
    "outliers_after_removal = data_cleaned[(data_cleaned['exercise'] < lower_bound) | (data_cleaned['exercise'] > upper_bound)]\n",
    "print(f\"Number of outliers after removal: {outliers_after_removal.shape[0]}\")\n"
   ]
  },
  {
   "cell_type": "code",
   "execution_count": 15,
   "id": "98c4b662",
   "metadata": {},
   "outputs": [
    {
     "name": "stdout",
     "output_type": "stream",
     "text": [
      "   rownames subject    age  exercise    group\n",
      "0         1     100   8.00      2.71  patient\n",
      "1         2     100  10.00      1.94  patient\n",
      "2         3     100  12.00      2.36  patient\n",
      "3         4     100  14.00      1.54  patient\n",
      "4         5     100  15.92      8.63  patient\n"
     ]
    }
   ],
   "source": [
    "# Display the DataFrame without the index in the output\n",
    "print(data.head().to_string(index=True))"
   ]
  },
  {
   "cell_type": "code",
   "execution_count": 16,
   "id": "21f2ffd3",
   "metadata": {},
   "outputs": [],
   "source": [
    "#set rownames to index\n",
    "data.set_index('rownames', inplace=True)"
   ]
  },
  {
   "cell_type": "code",
   "execution_count": 17,
   "id": "94c11419",
   "metadata": {},
   "outputs": [
    {
     "data": {
      "text/html": [
       "<div>\n",
       "<style scoped>\n",
       "    .dataframe tbody tr th:only-of-type {\n",
       "        vertical-align: middle;\n",
       "    }\n",
       "\n",
       "    .dataframe tbody tr th {\n",
       "        vertical-align: top;\n",
       "    }\n",
       "\n",
       "    .dataframe thead th {\n",
       "        text-align: right;\n",
       "    }\n",
       "</style>\n",
       "<table border=\"1\" class=\"dataframe\">\n",
       "  <thead>\n",
       "    <tr style=\"text-align: right;\">\n",
       "      <th></th>\n",
       "      <th>subject</th>\n",
       "      <th>age</th>\n",
       "      <th>exercise</th>\n",
       "      <th>group</th>\n",
       "    </tr>\n",
       "    <tr>\n",
       "      <th>rownames</th>\n",
       "      <th></th>\n",
       "      <th></th>\n",
       "      <th></th>\n",
       "      <th></th>\n",
       "    </tr>\n",
       "  </thead>\n",
       "  <tbody>\n",
       "    <tr>\n",
       "      <th>1</th>\n",
       "      <td>100</td>\n",
       "      <td>8.00</td>\n",
       "      <td>2.71</td>\n",
       "      <td>patient</td>\n",
       "    </tr>\n",
       "    <tr>\n",
       "      <th>2</th>\n",
       "      <td>100</td>\n",
       "      <td>10.00</td>\n",
       "      <td>1.94</td>\n",
       "      <td>patient</td>\n",
       "    </tr>\n",
       "    <tr>\n",
       "      <th>3</th>\n",
       "      <td>100</td>\n",
       "      <td>12.00</td>\n",
       "      <td>2.36</td>\n",
       "      <td>patient</td>\n",
       "    </tr>\n",
       "    <tr>\n",
       "      <th>4</th>\n",
       "      <td>100</td>\n",
       "      <td>14.00</td>\n",
       "      <td>1.54</td>\n",
       "      <td>patient</td>\n",
       "    </tr>\n",
       "    <tr>\n",
       "      <th>5</th>\n",
       "      <td>100</td>\n",
       "      <td>15.92</td>\n",
       "      <td>8.63</td>\n",
       "      <td>patient</td>\n",
       "    </tr>\n",
       "  </tbody>\n",
       "</table>\n",
       "</div>"
      ],
      "text/plain": [
       "         subject    age  exercise    group\n",
       "rownames                                  \n",
       "1            100   8.00      2.71  patient\n",
       "2            100  10.00      1.94  patient\n",
       "3            100  12.00      2.36  patient\n",
       "4            100  14.00      1.54  patient\n",
       "5            100  15.92      8.63  patient"
      ]
     },
     "execution_count": 17,
     "metadata": {},
     "output_type": "execute_result"
    }
   ],
   "source": [
    "#display to confirm that the index has been set correctly\n",
    "data.head()"
   ]
  },
  {
   "cell_type": "code",
   "execution_count": 18,
   "id": "b4b305d1",
   "metadata": {},
   "outputs": [
    {
     "data": {
      "text/html": [
       "<div>\n",
       "<style scoped>\n",
       "    .dataframe tbody tr th:only-of-type {\n",
       "        vertical-align: middle;\n",
       "    }\n",
       "\n",
       "    .dataframe tbody tr th {\n",
       "        vertical-align: top;\n",
       "    }\n",
       "\n",
       "    .dataframe thead th {\n",
       "        text-align: right;\n",
       "    }\n",
       "</style>\n",
       "<table border=\"1\" class=\"dataframe\">\n",
       "  <thead>\n",
       "    <tr style=\"text-align: right;\">\n",
       "      <th></th>\n",
       "      <th>subject</th>\n",
       "      <th>age</th>\n",
       "      <th>exercise</th>\n",
       "      <th>group</th>\n",
       "    </tr>\n",
       "    <tr>\n",
       "      <th>rownames</th>\n",
       "      <th></th>\n",
       "      <th></th>\n",
       "      <th></th>\n",
       "      <th></th>\n",
       "    </tr>\n",
       "  </thead>\n",
       "  <tbody>\n",
       "    <tr>\n",
       "      <th>1</th>\n",
       "      <td>100.0</td>\n",
       "      <td>8.00</td>\n",
       "      <td>2.71</td>\n",
       "      <td>patient</td>\n",
       "    </tr>\n",
       "    <tr>\n",
       "      <th>2</th>\n",
       "      <td>100.0</td>\n",
       "      <td>10.00</td>\n",
       "      <td>1.94</td>\n",
       "      <td>patient</td>\n",
       "    </tr>\n",
       "    <tr>\n",
       "      <th>3</th>\n",
       "      <td>100.0</td>\n",
       "      <td>12.00</td>\n",
       "      <td>2.36</td>\n",
       "      <td>patient</td>\n",
       "    </tr>\n",
       "    <tr>\n",
       "      <th>4</th>\n",
       "      <td>100.0</td>\n",
       "      <td>14.00</td>\n",
       "      <td>1.54</td>\n",
       "      <td>patient</td>\n",
       "    </tr>\n",
       "    <tr>\n",
       "      <th>5</th>\n",
       "      <td>100.0</td>\n",
       "      <td>15.92</td>\n",
       "      <td>8.63</td>\n",
       "      <td>patient</td>\n",
       "    </tr>\n",
       "  </tbody>\n",
       "</table>\n",
       "</div>"
      ],
      "text/plain": [
       "          subject    age  exercise    group\n",
       "rownames                                   \n",
       "1           100.0   8.00      2.71  patient\n",
       "2           100.0  10.00      1.94  patient\n",
       "3           100.0  12.00      2.36  patient\n",
       "4           100.0  14.00      1.54  patient\n",
       "5           100.0  15.92      8.63  patient"
      ]
     },
     "execution_count": 18,
     "metadata": {},
     "output_type": "execute_result"
    }
   ],
   "source": [
    "# Convert 'subject' column to numeric, invalid parsing will become NaN\n",
    "data['subject'] = pd.to_numeric(data['subject'], errors='coerce')\n",
    "data.head()"
   ]
  },
  {
   "cell_type": "markdown",
   "id": "0fae1818",
   "metadata": {},
   "source": [
    "# Visualization"
   ]
  },
  {
   "cell_type": "markdown",
   "id": "afa3b4bc",
   "metadata": {},
   "source": [
    "## Univariate Analysis"
   ]
  },
  {
   "cell_type": "markdown",
   "id": "bda2e02f",
   "metadata": {},
   "source": [
    "#### Age and Exercise Columns"
   ]
  },
  {
   "cell_type": "code",
   "execution_count": 19,
   "id": "cdbc0f84",
   "metadata": {},
   "outputs": [
    {
     "data": {
      "image/png": "[encoded data removed]",
      "text/plain": [
       "<Figure size 432x288 with 1 Axes>"
      ]
     },
     "metadata": {
      "needs_background": "light"
     },
     "output_type": "display_data"
    },
    {
     "data": {
      "image/png": "[encoded data removed]",
      "text/plain": [
       "<Figure size 432x288 with 1 Axes>"
      ]
     },
     "metadata": {
      "needs_background": "light"
     },
     "output_type": "display_data"
    }
   ],
   "source": [
    "import pandas as pd\n",
    "import seaborn as sns\n",
    "import matplotlib.pyplot as plt\n",
    "\n",
    "\n",
    "# Plot histograms for numerical columns\n",
    "numerical_columns = ['age', 'exercise']\n",
    "for col in numerical_columns:\n",
    "    data_cleaned[col].plot(kind='hist', bins=20, alpha=0.7, title=f'Histogram for {col}')\n",
    "    plt.xlabel(col)\n",
    "    plt.ylabel('Frequency')\n",
    "    plt.show()\n"
   ]
  },
  {
   "cell_type": "markdown",
   "id": "549ac34f",
   "metadata": {},
   "source": [
    "High Frequency in Specific Age Groups:\n",
    "\n",
    "The first two age groups (younger ages) have the highest frequencies, suggesting these age groups dominate the dataset.\n",
    "\n",
    "Decreasing Frequency with Age:\n",
    "\n",
    "As age increases, the frequency drops significantly, meaning there are fewer individuals in the older age groups.\n",
    "\n",
    "Skewed Distribution:\n",
    "\n",
    "The distribution is  right-skewed, with the majority of individuals concentrated in the younger age groups and fewer as age increases.\n",
    "\n",
    "\n",
    "\n",
    "\n",
    "High Frequency in Young Ages:\n",
    "\n",
    "The first bar (representing the youngest age group) has the highest frequency, indicating that most individuals are in this age range.\n",
    "\n",
    "Steady Decline:\n",
    "\n",
    "As age increases, the frequency steadily decreases, forming a downward-sloping distribution.\n",
    "This suggests that older age groups become progressively less frequent in the dataset.\n",
    "\n",
    "Right-Skewed Distribution:\n",
    "\n",
    "This graph shows a classic right-skewed distribution, where the data is concentrated in younger ages and thins out as age increases."
   ]
  },
  {
   "cell_type": "markdown",
   "id": "f29f184d",
   "metadata": {},
   "source": [
    "#### Group Column"
   ]
  },
  {
   "cell_type": "code",
   "execution_count": 20,
   "id": "a6399e91",
   "metadata": {},
   "outputs": [
    {
     "data": {
      "image/png": "[encoded data removed]",
      "text/plain": [
       "<Figure size 432x288 with 1 Axes>"
      ]
     },
     "metadata": {
      "needs_background": "light"
     },
     "output_type": "display_data"
    }
   ],
   "source": [
    "# Bar plots for categorical variables\n",
    "categorical_columns = ['group']\n",
    "for col in categorical_columns:\n",
    "    data_cleaned[col].value_counts().plot(kind='bar', alpha=0.7, title=f'Bar Plot of {col}')\n",
    "    plt.xlabel(col)\n",
    "    plt.ylabel('Frequency')\n",
    "    plt.show()\n"
   ]
  },
  {
   "cell_type": "markdown",
   "id": "b065ba6a",
   "metadata": {},
   "source": [
    "In our dataset, there are two distinct groups i.e patient and control whether a subject belongs to the control group (healthy) or the patient group (with a condition) "
   ]
  },
  {
   "cell_type": "markdown",
   "id": "0f3be53a",
   "metadata": {},
   "source": [
    "#### Subject Column"
   ]
  },
  {
   "cell_type": "code",
   "execution_count": 21,
   "id": "83428508",
   "metadata": {},
   "outputs": [
    {
     "data": {
      "image/png": "[encoded data removed]",
      "text/plain": [
       "<Figure size 1296x1152 with 1 Axes>"
      ]
     },
     "metadata": {
      "needs_background": "light"
     },
     "output_type": "display_data"
    }
   ],
   "source": [
    "import matplotlib.pyplot as plt\n",
    "\n",
    "# Assuming 'subject' is a numeric column\n",
    "plt.figure(figsize=(18, 16))\n",
    "plt.hist(data['subject'], bins=10, color='skyblue', edgecolor='black')\n",
    "plt.title('Histogram of Subject')\n",
    "plt.xlabel('Subject')\n",
    "plt.ylabel('Frequency')\n",
    "plt.xticks(rotation=45)\n",
    "plt.show()\n"
   ]
  },
  {
   "cell_type": "markdown",
   "id": "343390e9",
   "metadata": {},
   "source": [
    "The bars in the histogram appear to have similar heights, except for a noticeable dip in the middle and one or two taller bars toward the edges.\n",
    "\n",
    "Interpretation: This suggests that the data is relatively evenly distributed across most ranges, but there are certain ranges with fewer values (e.g., the lower bar) and certain ranges with a slightly higher frequency (e.g., the taller bar)."
   ]
  },
  {
   "cell_type": "markdown",
   "id": "9bca39f0",
   "metadata": {},
   "source": [
    "## Bivariate Analysis"
   ]
  },
  {
   "cell_type": "markdown",
   "id": "19e6842e",
   "metadata": {},
   "source": [
    "### Age vs Exercise"
   ]
  },
  {
   "cell_type": "code",
   "execution_count": 22,
   "id": "e0169090",
   "metadata": {},
   "outputs": [
    {
     "data": {
      "image/png": "[encoded data removed]",
      "text/plain": [
       "<Figure size 1296x864 with 1 Axes>"
      ]
     },
     "metadata": {
      "needs_background": "light"
     },
     "output_type": "display_data"
    }
   ],
   "source": [
    "import seaborn as sns\n",
    "import matplotlib.pyplot as plt\n",
    "\n",
    "\n",
    "# Grouping by age and calculating mean exercise\n",
    "age_grouped = data_cleaned.groupby('age')['exercise'].mean()\n",
    "\n",
    "# Set the figure size\n",
    "plt.figure(figsize=(18, 12))\n",
    "\n",
    "# Bar plot for mean exercise per age\n",
    "age_grouped.plot(kind='bar', color='blue', alpha=0.7)\n",
    "\n",
    "# Adding plot title and labels\n",
    "plt.title('Bar Plot: Average Exercise by Age', fontsize=16)\n",
    "plt.xlabel('Age', fontsize=14)\n",
    "plt.ylabel('Average Exercise', fontsize=14)\n",
    "\n",
    "# Show the plot\n",
    "plt.show()\n"
   ]
  },
  {
   "cell_type": "code",
   "execution_count": 23,
   "id": "9188bd76",
   "metadata": {},
   "outputs": [
    {
     "data": {
      "image/png": "[encoded data removed]",
      "text/plain": [
       "<Figure size 432x288 with 2 Axes>"
      ]
     },
     "metadata": {
      "needs_background": "light"
     },
     "output_type": "display_data"
    }
   ],
   "source": [
    "# Correlation matrix\n",
    "correlation_matrix = data_cleaned[['subject', 'age', 'exercise']].corr()\n",
    "sns.heatmap(correlation_matrix, annot=True, cmap='coolwarm', fmt=\".2f\", cbar=True)\n",
    "plt.title('Correlation Heatmap')\n",
    "plt.show()\n"
   ]
  },
  {
   "cell_type": "code",
   "execution_count": 24,
   "id": "763f0db9",
   "metadata": {},
   "outputs": [
    {
     "data": {
      "image/png": "[encoded data removed]",
      "text/plain": [
       "<Figure size 432x288 with 1 Axes>"
      ]
     },
     "metadata": {
      "needs_background": "light"
     },
     "output_type": "display_data"
    }
   ],
   "source": [
    "# Grouping by 'group' and calculating the mean age\n",
    "grouped_age = data_cleaned.groupby('group')['age'].mean()\n",
    "\n",
    "# Bar chart\n",
    "grouped_age.plot(kind='bar', color='orange', alpha=0.8)\n",
    "plt.title('Average Age by Group')\n",
    "plt.xlabel('Group')\n",
    "plt.ylabel('Average Age')\n",
    "plt.xticks(rotation=0)\n",
    "plt.show()\n"
   ]
  },
  {
   "cell_type": "code",
   "execution_count": 25,
   "id": "80300de6",
   "metadata": {},
   "outputs": [
    {
     "data": {
      "image/png": "[encoded data removed]",
      "text/plain": [
       "<Figure size 432x288 with 1 Axes>"
      ]
     },
     "metadata": {
      "needs_background": "light"
     },
     "output_type": "display_data"
    }
   ],
   "source": [
    "# Grouping by 'group' and summing up exercise\n",
    "total_exercise = data_cleaned.groupby('group')['exercise'].sum()\n",
    "\n",
    "# Bar chart\n",
    "total_exercise.plot(kind='bar', color='green', alpha=0.8)\n",
    "plt.title('Total Exercise by Group')\n",
    "plt.xlabel('Group')\n",
    "plt.ylabel('Total Exercise')\n",
    "plt.xticks(rotation=0)\n",
    "plt.show()\n"
   ]
  },
  {
   "cell_type": "markdown",
   "id": "f6b2398c",
   "metadata": {},
   "source": [
    "The control group engages in less exercise activity compared to the patient group, which has a total of approximately 900 and the control group with a total of 500"
   ]
  },
  {
   "cell_type": "code",
   "execution_count": 26,
   "id": "66c320d0",
   "metadata": {},
   "outputs": [
    {
     "data": {
      "image/png": "[encoded data removed]",
      "text/plain": [
       "<Figure size 432x288 with 1 Axes>"
      ]
     },
     "metadata": {
      "needs_background": "light"
     },
     "output_type": "display_data"
    }
   ],
   "source": [
    "# Cross-tabulation of subject vs group\n",
    "cross_tab = pd.crosstab(data_cleaned['subject'], data_cleaned['group'])\n",
    "\n",
    "# Summing across rows for each group\n",
    "subject_counts = cross_tab.sum()\n",
    "\n",
    "# Bar chart\n",
    "subject_counts.plot(kind='bar', color=['blue', 'red'], alpha=0.8)\n",
    "plt.title('Frequency of Subjects in Each Group')\n",
    "plt.xlabel('Group')\n",
    "plt.ylabel('Number of Subjects')\n",
    "plt.xticks(rotation=0)\n",
    "plt.show()\n",
    "                                                                                                                                                                                                                                                                                                                                                                                                                                                                                                                                                                  "
   ]
  },
  {
   "cell_type": "markdown",
   "id": "4e94f944",
   "metadata": {},
   "source": [
    "The control group has around 350  subjects, where as the patient group has around 500 subjects."
   ]
  },
  {
   "cell_type": "markdown",
   "id": "c27786b4",
   "metadata": {},
   "source": [
    "## Data Preprocessing"
   ]
  },
  {
   "cell_type": "markdown",
   "id": "73e6abba",
   "metadata": {},
   "source": [
    "### One Hot Encoding"
   ]
  },
  {
   "cell_type": "markdown",
   "id": "5eed2912",
   "metadata": {},
   "source": [
    "Encode the contol and patient entries in the group column"
   ]
  },
  {
   "cell_type": "code",
   "execution_count": 27,
   "id": "d70b3851",
   "metadata": {},
   "outputs": [],
   "source": [
    "# # Map the 'group' column to numerical values\n",
    "# data[\"group\"] = data[\"group\"].map({\"control\": 0, \"patient\": 1})\n",
    "# data.head()\n"
   ]
  },
  {
   "cell_type": "code",
   "execution_count": 28,
   "id": "86ad459b",
   "metadata": {},
   "outputs": [
    {
     "data": {
      "text/html": [
       "<div>\n",
       "<style scoped>\n",
       "    .dataframe tbody tr th:only-of-type {\n",
       "        vertical-align: middle;\n",
       "    }\n",
       "\n",
       "    .dataframe tbody tr th {\n",
       "        vertical-align: top;\n",
       "    }\n",
       "\n",
       "    .dataframe thead th {\n",
       "        text-align: right;\n",
       "    }\n",
       "</style>\n",
       "<table border=\"1\" class=\"dataframe\">\n",
       "  <thead>\n",
       "    <tr style=\"text-align: right;\">\n",
       "      <th></th>\n",
       "      <th>subject</th>\n",
       "      <th>age</th>\n",
       "      <th>exercise</th>\n",
       "      <th>group_control</th>\n",
       "      <th>group_patient</th>\n",
       "    </tr>\n",
       "    <tr>\n",
       "      <th>rownames</th>\n",
       "      <th></th>\n",
       "      <th></th>\n",
       "      <th></th>\n",
       "      <th></th>\n",
       "      <th></th>\n",
       "    </tr>\n",
       "  </thead>\n",
       "  <tbody>\n",
       "    <tr>\n",
       "      <th>1</th>\n",
       "      <td>100.0</td>\n",
       "      <td>8.00</td>\n",
       "      <td>2.71</td>\n",
       "      <td>0</td>\n",
       "      <td>1</td>\n",
       "    </tr>\n",
       "    <tr>\n",
       "      <th>2</th>\n",
       "      <td>100.0</td>\n",
       "      <td>10.00</td>\n",
       "      <td>1.94</td>\n",
       "      <td>0</td>\n",
       "      <td>1</td>\n",
       "    </tr>\n",
       "    <tr>\n",
       "      <th>3</th>\n",
       "      <td>100.0</td>\n",
       "      <td>12.00</td>\n",
       "      <td>2.36</td>\n",
       "      <td>0</td>\n",
       "      <td>1</td>\n",
       "    </tr>\n",
       "    <tr>\n",
       "      <th>4</th>\n",
       "      <td>100.0</td>\n",
       "      <td>14.00</td>\n",
       "      <td>1.54</td>\n",
       "      <td>0</td>\n",
       "      <td>1</td>\n",
       "    </tr>\n",
       "    <tr>\n",
       "      <th>5</th>\n",
       "      <td>100.0</td>\n",
       "      <td>15.92</td>\n",
       "      <td>8.63</td>\n",
       "      <td>0</td>\n",
       "      <td>1</td>\n",
       "    </tr>\n",
       "  </tbody>\n",
       "</table>\n",
       "</div>"
      ],
      "text/plain": [
       "          subject    age  exercise  group_control  group_patient\n",
       "rownames                                                        \n",
       "1           100.0   8.00      2.71              0              1\n",
       "2           100.0  10.00      1.94              0              1\n",
       "3           100.0  12.00      2.36              0              1\n",
       "4           100.0  14.00      1.54              0              1\n",
       "5           100.0  15.92      8.63              0              1"
      ]
     },
     "execution_count": 28,
     "metadata": {},
     "output_type": "execute_result"
    }
   ],
   "source": [
    "\n",
    "# Drop any existing one-hot-encoded columns for 'group' if they exist\n",
    "data = data.drop(columns=[col for col in data.columns if col.startswith(\"group_\")], errors='ignore')\n",
    "\n",
    "# Apply one-hot encoding\n",
    "group_one_hot = pd.get_dummies(data[\"group\"], prefix=\"group\")\n",
    "data = pd.concat([data, group_one_hot], axis=1)\n",
    "\n",
    "# Drop the original 'group' column\n",
    "data = data.drop(columns=[\"group\"])\n",
    "\n",
    "data.head()\n",
    "\n"
   ]
  },
  {
   "cell_type": "markdown",
   "id": "2b08628f",
   "metadata": {},
   "source": [
    "### Standard Scaling"
   ]
  },
  {
   "cell_type": "code",
   "execution_count": 29,
   "id": "c55cd87d",
   "metadata": {},
   "outputs": [
    {
     "name": "stdout",
     "output_type": "stream",
     "text": [
      "    subject       age  exercise  group_control  group_patient\n",
      "0 -1.595923 -1.245108  0.051343      -0.782706       0.782706\n",
      "1 -1.595923 -0.521558 -0.169083      -0.782706       0.782706\n",
      "2 -1.595923  0.201993 -0.048850      -0.782706       0.782706\n",
      "3 -1.595923  0.925544 -0.283590      -0.782706       0.782706\n",
      "4 -1.595923  1.620153  1.746047      -0.782706       0.782706\n"
     ]
    }
   ],
   "source": [
    "from sklearn.preprocessing import StandardScaler\n",
    "import pandas as pd\n",
    "\n",
    "# Initialize the StandardScaler\n",
    "scaler = StandardScaler()\n",
    "\n",
    "# Fit and transform the data (make sure 'data' is a DataFrame)\n",
    "scaled_data = scaler.fit_transform(data)\n",
    "\n",
    "# Convert scaled data back to a DataFrame with correct column names\n",
    "scaled_df = pd.DataFrame(scaled_data, columns=data.columns)\n",
    "\n",
    "print(scaled_df.head())\n"
   ]
  },
  {
   "cell_type": "markdown",
   "id": "dee678d6",
   "metadata": {},
   "source": [
    "### Handling Class Imbalance Using SMOTE"
   ]
  },
  {
   "cell_type": "code",
   "execution_count": 36,
   "id": "26748cce",
   "metadata": {},
   "outputs": [
    {
     "data": {
      "text/plain": [
       "subject          48\n",
       "age               0\n",
       "exercise          0\n",
       "group_control     0\n",
       "group_patient     0\n",
       "dtype: int64"
      ]
     },
     "execution_count": 36,
     "metadata": {},
     "output_type": "execute_result"
    }
   ],
   "source": [
    "scaled_df.isna().sum()"
   ]
  },
  {
   "cell_type": "code",
   "execution_count": 38,
   "id": "b22386c2",
   "metadata": {},
   "outputs": [
    {
     "name": "stdout",
     "output_type": "stream",
     "text": [
      "Class distribution after SMOTE: \n",
      "Counter({1: 410, 0: 410})\n"
     ]
    }
   ],
   "source": [
    "# Drop rows with NaN values\n",
    "data_cleaned = data.dropna()\n",
    "\n",
    "# Split into features and target\n",
    "X = data_cleaned.drop(columns=[\"group_control\", \"group_patient\"])\n",
    "y = data_cleaned[\"group_patient\"]\n",
    "\n",
    "# Continue with train-test split and SMOTE\n",
    "X_train, X_test, y_train, y_test = train_test_split(X, y, test_size=0.3, random_state=42, stratify=y)\n",
    "smote = SMOTE(random_state=42)\n",
    "X_train_resampled, y_train_resampled = smote.fit_resample(X_train, y_train)\n",
    "print(f\"Class distribution after SMOTE: \\n{Counter(y_train_resampled)}\")\n"
   ]
  },
  {
   "cell_type": "code",
   "execution_count": 39,
   "id": "b853e19e",
   "metadata": {},
   "outputs": [
    {
     "name": "stdout",
     "output_type": "stream",
     "text": [
      "Class distribution before SMOTE: \n",
      "1    410\n",
      "0    217\n",
      "Name: group_patient, dtype: int64\n",
      "Class distribution after SMOTE: \n",
      "1    410\n",
      "0    410\n",
      "Name: group_patient, dtype: int64\n"
     ]
    }
   ],
   "source": [
    "from imblearn.over_sampling import SMOTE\n",
    "\n",
    "# Apply SMOTE to the training data\n",
    "smote = SMOTE(sampling_strategy='auto', random_state=42)\n",
    "X_train_resampled, y_train_resampled = smote.fit_resample(X_train, y_train)\n",
    "\n",
    "# Check the class distribution after SMOTE\n",
    "print(f\"Class distribution before SMOTE: \\n{y_train.value_counts()}\")\n",
    "print(f\"Class distribution after SMOTE: \\n{y_train_resampled.value_counts()}\")\n",
    "\n",
    "\n"
   ]
  },
  {
   "cell_type": "markdown",
   "id": "3b174075",
   "metadata": {},
   "source": [
    "## Data Spliting"
   ]
  },
  {
   "cell_type": "code",
   "execution_count": 41,
   "id": "a8e67210",
   "metadata": {},
   "outputs": [
    {
     "name": "stdout",
     "output_type": "stream",
     "text": [
      "Training features shape: (717, 3)\n",
      "Testing features shape: (180, 3)\n",
      "Training target shape: (717,)\n",
      "Testing target shape: (180,)\n"
     ]
    }
   ],
   "source": [
    "from sklearn.model_selection import train_test_split\n",
    "\n",
    "# Assuming 'data' is your DataFrame\n",
    "# Split the data into features (X) and target (y)\n",
    "# Split into features and target\n",
    "X = data_cleaned.drop(columns=[\"group_control\", \"group_patient\"])\n",
    "y = data_cleaned[\"group_patient\"]\n",
    "\n",
    "# Split the data into training and testing sets (e.g., 80% train, 20% test)\n",
    "X_train, X_test, y_train, y_test = train_test_split(X, y, test_size=0.2, random_state=42)\n",
    "\n",
    "print(f\"Training features shape: {X_train.shape}\")\n",
    "print(f\"Testing features shape: {X_test.shape}\")\n",
    "print(f\"Training target shape: {y_train.shape}\")\n",
    "print(f\"Testing target shape: {y_test.shape}\")\n"
   ]
  },
  {
   "cell_type": "markdown",
   "id": "e7e19d7b",
   "metadata": {},
   "source": [
    "# Modeling"
   ]
  },
  {
   "cell_type": "markdown",
   "id": "8174efbb",
   "metadata": {},
   "source": [
    "## Baseline Model Logistic Regression Model"
   ]
  },
  {
   "cell_type": "code",
   "execution_count": 45,
   "id": "b1551f0b",
   "metadata": {},
   "outputs": [],
   "source": [
    "# Train the Logistic Regression model with the resampled data\n",
    "from sklearn.linear_model import LogisticRegression\n",
    "\n",
    "model = LogisticRegression()\n",
    "model.fit(X_train_resampled, y_train_resampled)\n",
    "\n",
    "# Predict on the test data\n",
    "y_pred = model.predict(X_test)\n"
   ]
  },
  {
   "cell_type": "code",
   "execution_count": 46,
   "id": "51a955f8",
   "metadata": {},
   "outputs": [
    {
     "name": "stdout",
     "output_type": "stream",
     "text": [
      "              precision    recall  f1-score   support\n",
      "\n",
      "           0       0.58      0.76      0.66        59\n",
      "           1       0.86      0.73      0.79       121\n",
      "\n",
      "    accuracy                           0.74       180\n",
      "   macro avg       0.72      0.74      0.72       180\n",
      "weighted avg       0.77      0.74      0.75       180\n",
      "\n"
     ]
    }
   ],
   "source": [
    "from sklearn.metrics import classification_report\n",
    "\n",
    "# Print evaluation metrics\n",
    "print(classification_report(y_test, y_pred))\n"
   ]
  },
  {
   "cell_type": "markdown",
   "id": "0cffacfe",
   "metadata": {},
   "source": [
    "Our base line model, Logistic Regression has an acuracy of 74%\n",
    "\n",
    "Precision: How many of the predicted positives were actually correct.\n",
    "\n",
    "Class 0: 58% correct.\n",
    "Class 1: 86% correct.\n",
    "\n",
    "Recall: How many of the actual positives were correctly identified.\n",
    "\n",
    "Class 0: 76% found.\n",
    "Class 1: 73% found.\n",
    "\n",
    "F1-Score: Balance between precision and recall.\n",
    "\n",
    "Class 0: 0.66.\n",
    "Class 1: 0.79.\n",
    "\n",
    "Support: Number of real cases for each class.\n",
    "\n",
    "Class 0: 59 cases.\n",
    "Class 1: 121 cases.\n",
    "\n",
    "Accuracy: Model’s overall correctness (74%).\n"
   ]
  },
  {
   "cell_type": "markdown",
   "id": "6146242b",
   "metadata": {},
   "source": [
    "## Random Forest Classifier"
   ]
  },
  {
   "cell_type": "code",
   "execution_count": 47,
   "id": "14a1c474",
   "metadata": {},
   "outputs": [
    {
     "name": "stdout",
     "output_type": "stream",
     "text": [
      "Random Forest Classifier Evaluation:\n",
      "              precision    recall  f1-score   support\n",
      "\n",
      "           0       1.00      0.98      0.99        59\n",
      "           1       0.99      1.00      1.00       121\n",
      "\n",
      "    accuracy                           0.99       180\n",
      "   macro avg       1.00      0.99      0.99       180\n",
      "weighted avg       0.99      0.99      0.99       180\n",
      "\n"
     ]
    }
   ],
   "source": [
    "from sklearn.ensemble import RandomForestClassifier\n",
    "\n",
    "# Random Forest Classifier\n",
    "model_rf = RandomForestClassifier(random_state=42)\n",
    "model_rf.fit(X_train_resampled, y_train_resampled)\n",
    "y_pred_rf = model_rf.predict(X_test)\n",
    "\n",
    "print(\"Random Forest Classifier Evaluation:\")\n",
    "print(classification_report(y_test, y_pred_rf))\n",
    "\n"
   ]
  },
  {
   "cell_type": "markdown",
   "id": "fc4800fb",
   "metadata": {},
   "source": [
    "1. Precision:\n",
    "\n",
    "Precision measures how many of the predicted positives were actually correct.\n",
    "Class 0 (control): 100% of the predictions for control were correct.\n",
    "Class 1 (patient): 99% of the predictions for patient were correct.\n",
    "\n",
    "2. Recall:\n",
    "\n",
    "Recall tells us how many of the actual positives were correctly identified.\n",
    "Class 0 (control): 98% of actual control cases were identified.\n",
    "Class 1 (patient): 100% of actual patient cases were identified.\n",
    "\n",
    "3. F1-Score:\n",
    "\n",
    "F1-Score is a balance of precision and recall, providing a single score.\n",
    "Class 0 (control): 99%.\n",
    "Class 1 (patient): 100%.\n",
    "\n",
    "4. Support:\n",
    "\n",
    "Support is the number of actual cases in the dataset.\n",
    "Class 0 (control): 59 instances.\n",
    "Class 1 (patient): 121 instances.\n",
    "\n",
    "5. Accuracy:\n",
    "Accuracy tells us the overall proportion of correct predictions.\n",
    "Accuracy: 99%. The model got 99% of the predictions correct.\n"
   ]
  },
  {
   "cell_type": "markdown",
   "id": "94503767",
   "metadata": {},
   "source": [
    "## Decision Tree Model"
   ]
  },
  {
   "cell_type": "code",
   "execution_count": 48,
   "id": "e1353844",
   "metadata": {},
   "outputs": [
    {
     "name": "stdout",
     "output_type": "stream",
     "text": [
      "Decision Tree Classifier Evaluation:\n",
      "              precision    recall  f1-score   support\n",
      "\n",
      "           0       1.00      1.00      1.00        59\n",
      "           1       1.00      1.00      1.00       121\n",
      "\n",
      "    accuracy                           1.00       180\n",
      "   macro avg       1.00      1.00      1.00       180\n",
      "weighted avg       1.00      1.00      1.00       180\n",
      "\n"
     ]
    }
   ],
   "source": [
    "from sklearn.tree import DecisionTreeClassifier\n",
    "\n",
    "# Decision Tree Classifier\n",
    "model_dt = DecisionTreeClassifier(random_state=42)\n",
    "model_dt.fit(X_train_resampled, y_train_resampled)\n",
    "y_pred_dt = model_dt.predict(X_test)\n",
    "\n",
    "print(\"Decision Tree Classifier Evaluation:\")\n",
    "print(classification_report(y_test, y_pred_dt))\n",
    "\n"
   ]
  },
  {
   "cell_type": "markdown",
   "id": "0dc6efb7",
   "metadata": {},
   "source": [
    "Decision Tree Model Accuracy is 100%\n",
    "\n",
    "\n",
    "Class 0 (Control Group):\n",
    "\n",
    "Precision (100%):\n",
    "\n",
    "When the model says “This is Class 0,” it’s right 100% of the time.\n",
    "\n",
    "\n",
    "Recall (100%):\n",
    "\n",
    "Out of all the actual Class 0 samples, it correctly identified 100% of them.\n",
    "\n",
    "F1-Score (100%):\n",
    "\n",
    "This is a balance between precision and recall. It combines how accurate and how thorough the model is for Class 0.\n",
    "\n",
    "Class 1 (Patient Class):\n",
    "\n",
    "Precision (100%):\n",
    "\n",
    "When the model says “This is Class 1,” it’s right 100% of the time.\n",
    "\n",
    "Recall (100%):\n",
    "\n",
    "Out of all the actual Class 1 samples, it correctly identified 100% of them.\n",
    "\n",
    "F1-Score (100%):\n",
    "\n",
    "This combines precision and recall for Class 1 to give a single measure of how well it’s doing.\n",
    "\n",
    "\n",
    "Class 0 (Control Group):\n",
    "\n",
    "The model is great at finding most Class 0 samples (100% recall).\n",
    "\n",
    "Class 1 (Patient Group):\n",
    "\n",
    "The model is very confident when predicting Class 1 (100% precision).\n"
   ]
  },
  {
   "cell_type": "markdown",
   "id": "13125d0f",
   "metadata": {},
   "source": [
    "## K-Nearest Neighbors Model"
   ]
  },
  {
   "cell_type": "code",
   "execution_count": 49,
   "id": "36d3aa38",
   "metadata": {},
   "outputs": [
    {
     "name": "stdout",
     "output_type": "stream",
     "text": [
      "K-Nearest Neighbors Evaluation:\n",
      "              precision    recall  f1-score   support\n",
      "\n",
      "           0       1.00      0.98      0.99        59\n",
      "           1       0.99      1.00      1.00       121\n",
      "\n",
      "    accuracy                           0.99       180\n",
      "   macro avg       1.00      0.99      0.99       180\n",
      "weighted avg       0.99      0.99      0.99       180\n",
      "\n"
     ]
    }
   ],
   "source": [
    "from sklearn.neighbors import KNeighborsClassifier\n",
    "\n",
    "# K-Nearest Neighbors (KNN)\n",
    "model_knn = KNeighborsClassifier()\n",
    "model_knn.fit(X_train_resampled, y_train_resampled)\n",
    "y_pred_knn = model_knn.predict(X_test)\n",
    "\n",
    "print(\"K-Nearest Neighbors Evaluation:\")\n",
    "print(classification_report(y_test, y_pred_knn))\n",
    "\n"
   ]
  },
  {
   "cell_type": "markdown",
   "id": "310b0091",
   "metadata": {},
   "source": [
    "K-Nearest Neighbors Model Accuracy is 99%\n",
    "\n",
    "\n",
    "Class 0 (Control Group):\n",
    "\n",
    "Precision (99%):\n",
    "\n",
    "When the model says “This is Class 0,” it’s right 99% of the time.\n",
    "\n",
    "\n",
    "Recall (100%):\n",
    "\n",
    "Out of all the actual Class 0 samples, it correctly identified 100% of them.\n",
    "\n",
    "F1-Score (99%):\n",
    "\n",
    "This is a balance between precision and recall. It combines how accurate and how thorough the model is for Class 0.\n",
    "\n",
    "Class 1 (Patient Class):\n",
    "\n",
    "Precision (99%):\n",
    "\n",
    "When the model says “This is Class 1,” it’s right 99% of the time.\n",
    "\n",
    "Recall (100%):\n",
    "\n",
    "Out of all the actual Class 1 samples, it correctly identified 100% of them.\n",
    "\n",
    "F1-Score (100%):\n",
    "\n",
    "This combines precision and recall for Class 1 to give a single measure of how well it’s doing.\n",
    "\n",
    "\n",
    "Class 0 (Control Group):\n",
    "\n",
    "The model is great at finding most Class 0 samples (98% recall).\n",
    "\n",
    "Class 1 (Patient Group):\n",
    "\n",
    "The model is very confident when predicting Class 1 (100% precision).\n"
   ]
  },
  {
   "cell_type": "markdown",
   "id": "f7708b62",
   "metadata": {},
   "source": [
    "# Conclusion"
   ]
  },
  {
   "cell_type": "markdown",
   "id": "22dbbae3",
   "metadata": {},
   "source": [
    "The best model to use to predict the group column, is the Decision Tree Model.\n",
    "\n",
    "\n",
    "It has high accuracy of 100% and can predict the control group or patient group 100% accurately\n",
    "\n"
   ]
  },
  {
   "cell_type": "code",
   "execution_count": null,
   "id": "7673061b",
   "metadata": {},
   "outputs": [],
   "source": []
  }
 ],
 "metadata": {
  "kernelspec": {
   "display_name": "Python 3 (ipykernel)",
   "language": "python",
   "name": "python3"
  },
  "language_info": {
   "codemirror_mode": {
    "name": "ipython",
    "version": 3
   },
   "file_extension": ".py",
   "mimetype": "text/x-python",
   "name": "python",
   "nbconvert_exporter": "python",
   "pygments_lexer": "ipython3",
   "version": "3.9.7"
  }
 },
 "nbformat": 4,
 "nbformat_minor": 5
}
