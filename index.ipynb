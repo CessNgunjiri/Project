{
 "cells": [
  {
   "cell_type": "markdown",
   "id": "6c556bc4",
   "metadata": {},
   "source": [
    "# Data Understanding"
   ]
  },
  {
   "cell_type": "markdown",
   "id": "5b067dca",
   "metadata": {},
   "source": [
    "### Loading and Inspecting Dataset"
   ]
  },
  {
   "cell_type": "code",
   "execution_count": 17,
   "id": "8666254a",
   "metadata": {},
   "outputs": [
    {
     "name": "stdout",
     "output_type": "stream",
     "text": [
      "   rownames subject    age  exercise    group\n",
      "0         1     100   8.00      2.71  patient\n",
      "1         2     100  10.00      1.94  patient\n",
      "2         3     100  12.00      2.36  patient\n",
      "3         4     100  14.00      1.54  patient\n",
      "4         5     100  15.92      8.63  patient\n"
     ]
    }
   ],
   "source": [
    "import pandas as pd\n",
    "\n",
    "# Raw URL to the Blackmore.csv file\n",
    "raw_url = \"https://raw.githubusercontent.com/vincentarelbundock/Rdatasets/master/csv/carData/Blackmore.csv\"\n",
    "\n",
    "# Load the CSV directly into pandas\n",
    "data = pd.read_csv(raw_url)\n",
    "print(data.head())\n"
   ]
  },
  {
   "cell_type": "code",
   "execution_count": 18,
   "id": "c7ed9256",
   "metadata": {},
   "outputs": [
    {
     "name": "stdout",
     "output_type": "stream",
     "text": [
      "   rownames subject    age  exercise    group\n",
      "0         1     100   8.00      2.71  patient\n",
      "1         2     100  10.00      1.94  patient\n",
      "2         3     100  12.00      2.36  patient\n",
      "3         4     100  14.00      1.54  patient\n",
      "4         5     100  15.92      8.63  patient\n"
     ]
    }
   ],
   "source": [
    "import requests\n",
    "from bs4 import BeautifulSoup\n",
    "import pandas as pd\n",
    "\n",
    "# GitHub directory page URL\n",
    "base_url = \"https://github.com/vincentarelbundock/Rdatasets/tree/master/csv/carData\"\n",
    "\n",
    "# Step 1: Scrape the directory listing\n",
    "response = requests.get(base_url)\n",
    "soup = BeautifulSoup(response.text, 'html.parser')\n",
    "\n",
    "# Find all links on the repository page\n",
    "file_links = soup.find_all('a', href=True)\n",
    "\n",
    "# Locate 'Blackmore.csv'\n",
    "csv_file_link = None\n",
    "for link in file_links:\n",
    "    if \"Blackmore.csv\" in link['href']:\n",
    "        csv_file_link = link['href']\n",
    "        break\n",
    "\n",
    "if csv_file_link:\n",
    "    # Step 2: Convert the relative link to the raw URL\n",
    "    raw_url = csv_file_link.replace('/blob/', '/raw/')\n",
    "    raw_url = f\"https://github.com{raw_url}\"\n",
    "    \n",
    "    # Step 3: Load the CSV file into pandas\n",
    "    data = pd.read_csv(raw_url)\n",
    "    print(data.head())\n",
    "else:\n",
    "    print(\"Blackmore.csv not found in the repository!\")\n"
   ]
  },
  {
   "cell_type": "code",
   "execution_count": 19,
   "id": "25bf4d7c",
   "metadata": {},
   "outputs": [
    {
     "name": "stdout",
     "output_type": "stream",
     "text": [
      "<class 'pandas.core.frame.DataFrame'>\n",
      "RangeIndex: 945 entries, 0 to 944\n",
      "Data columns (total 5 columns):\n",
      " #   Column    Non-Null Count  Dtype  \n",
      "---  ------    --------------  -----  \n",
      " 0   rownames  945 non-null    int64  \n",
      " 1   subject   945 non-null    object \n",
      " 2   age       945 non-null    float64\n",
      " 3   exercise  945 non-null    float64\n",
      " 4   group     945 non-null    object \n",
      "dtypes: float64(2), int64(1), object(2)\n",
      "memory usage: 37.0+ KB\n"
     ]
    }
   ],
   "source": [
    "#information about our dataset\n",
    "data.info()"
   ]
  },
  {
   "cell_type": "code",
   "execution_count": 20,
   "id": "c58b5097",
   "metadata": {},
   "outputs": [
    {
     "data": {
      "text/html": [
       "<div>\n",
       "<style scoped>\n",
       "    .dataframe tbody tr th:only-of-type {\n",
       "        vertical-align: middle;\n",
       "    }\n",
       "\n",
       "    .dataframe tbody tr th {\n",
       "        vertical-align: top;\n",
       "    }\n",
       "\n",
       "    .dataframe thead th {\n",
       "        text-align: right;\n",
       "    }\n",
       "</style>\n",
       "<table border=\"1\" class=\"dataframe\">\n",
       "  <thead>\n",
       "    <tr style=\"text-align: right;\">\n",
       "      <th></th>\n",
       "      <th>rownames</th>\n",
       "      <th>age</th>\n",
       "      <th>exercise</th>\n",
       "    </tr>\n",
       "  </thead>\n",
       "  <tbody>\n",
       "    <tr>\n",
       "      <th>count</th>\n",
       "      <td>945.000000</td>\n",
       "      <td>945.000000</td>\n",
       "      <td>945.000000</td>\n",
       "    </tr>\n",
       "    <tr>\n",
       "      <th>mean</th>\n",
       "      <td>473.000000</td>\n",
       "      <td>11.441661</td>\n",
       "      <td>2.530646</td>\n",
       "    </tr>\n",
       "    <tr>\n",
       "      <th>std</th>\n",
       "      <td>272.942302</td>\n",
       "      <td>2.765609</td>\n",
       "      <td>3.495086</td>\n",
       "    </tr>\n",
       "    <tr>\n",
       "      <th>min</th>\n",
       "      <td>1.000000</td>\n",
       "      <td>8.000000</td>\n",
       "      <td>0.000000</td>\n",
       "    </tr>\n",
       "    <tr>\n",
       "      <th>25%</th>\n",
       "      <td>237.000000</td>\n",
       "      <td>10.000000</td>\n",
       "      <td>0.400000</td>\n",
       "    </tr>\n",
       "    <tr>\n",
       "      <th>50%</th>\n",
       "      <td>473.000000</td>\n",
       "      <td>12.000000</td>\n",
       "      <td>1.330000</td>\n",
       "    </tr>\n",
       "    <tr>\n",
       "      <th>75%</th>\n",
       "      <td>709.000000</td>\n",
       "      <td>14.000000</td>\n",
       "      <td>3.040000</td>\n",
       "    </tr>\n",
       "    <tr>\n",
       "      <th>max</th>\n",
       "      <td>945.000000</td>\n",
       "      <td>17.920000</td>\n",
       "      <td>29.960000</td>\n",
       "    </tr>\n",
       "  </tbody>\n",
       "</table>\n",
       "</div>"
      ],
      "text/plain": [
       "         rownames         age    exercise\n",
       "count  945.000000  945.000000  945.000000\n",
       "mean   473.000000   11.441661    2.530646\n",
       "std    272.942302    2.765609    3.495086\n",
       "min      1.000000    8.000000    0.000000\n",
       "25%    237.000000   10.000000    0.400000\n",
       "50%    473.000000   12.000000    1.330000\n",
       "75%    709.000000   14.000000    3.040000\n",
       "max    945.000000   17.920000   29.960000"
      ]
     },
     "execution_count": 20,
     "metadata": {},
     "output_type": "execute_result"
    }
   ],
   "source": [
    "#statistical summary of our dataset\n",
    "data.describe()"
   ]
  },
  {
   "cell_type": "code",
   "execution_count": 21,
   "id": "c60444f7",
   "metadata": {},
   "outputs": [
    {
     "data": {
      "text/plain": [
       "(945, 5)"
      ]
     },
     "execution_count": 21,
     "metadata": {},
     "output_type": "execute_result"
    }
   ],
   "source": [
    "#check the shape of our dataset i.e 945 rows and 5 columns\n",
    "data.shape"
   ]
  },
  {
   "cell_type": "code",
   "execution_count": 22,
   "id": "9c765525",
   "metadata": {},
   "outputs": [
    {
     "data": {
      "text/plain": [
       "Index(['rownames', 'subject', 'age', 'exercise', 'group'], dtype='object')"
      ]
     },
     "execution_count": 22,
     "metadata": {},
     "output_type": "execute_result"
    }
   ],
   "source": [
    "#display the names of columns in the dataset\n",
    "data.columns"
   ]
  },
  {
   "cell_type": "code",
   "execution_count": 23,
   "id": "ab4b82f1",
   "metadata": {},
   "outputs": [
    {
     "data": {
      "text/plain": [
       "rownames      int64\n",
       "subject      object\n",
       "age         float64\n",
       "exercise    float64\n",
       "group        object\n",
       "dtype: object"
      ]
     },
     "execution_count": 23,
     "metadata": {},
     "output_type": "execute_result"
    }
   ],
   "source": [
    "#check the datatypes of our columns\n",
    "data.dtypes"
   ]
  },
  {
   "cell_type": "markdown",
   "id": "fa413e7b",
   "metadata": {},
   "source": [
    "# Data Cleaning"
   ]
  },
  {
   "cell_type": "markdown",
   "id": "c70a40ef",
   "metadata": {},
   "source": [
    "Check for missing  values "
   ]
  },
  {
   "cell_type": "code",
   "execution_count": 25,
   "id": "7f20e071",
   "metadata": {},
   "outputs": [
    {
     "data": {
      "text/plain": [
       "rownames    0\n",
       "subject     0\n",
       "age         0\n",
       "exercise    0\n",
       "group       0\n",
       "dtype: int64"
      ]
     },
     "execution_count": 25,
     "metadata": {},
     "output_type": "execute_result"
    }
   ],
   "source": [
    "#check for missing values\n",
    "data.isnull().sum()"
   ]
  },
  {
   "cell_type": "markdown",
   "id": "8bd7db8e",
   "metadata": {},
   "source": [
    "From our observation above, our dataset does not hae any missing values."
   ]
  },
  {
   "cell_type": "code",
   "execution_count": 27,
   "id": "e7260e39",
   "metadata": {},
   "outputs": [
    {
     "data": {
      "text/plain": [
       "0"
      ]
     },
     "execution_count": 27,
     "metadata": {},
     "output_type": "execute_result"
    }
   ],
   "source": [
    "#checking if our dataset has any duplicates\n",
    "data.duplicated().sum()"
   ]
  },
  {
   "cell_type": "code",
   "execution_count": null,
   "id": "4c832390",
   "metadata": {},
   "outputs": [],
   "source": []
  }
 ],
 "metadata": {
  "kernelspec": {
   "display_name": "Python 3 (ipykernel)",
   "language": "python",
   "name": "python3"
  },
  "language_info": {
   "codemirror_mode": {
    "name": "ipython",
    "version": 3
   },
   "file_extension": ".py",
   "mimetype": "text/x-python",
   "name": "python",
   "nbconvert_exporter": "python",
   "pygments_lexer": "ipython3",
   "version": "3.9.7"
  }
 },
 "nbformat": 4,
 "nbformat_minor": 5
}
