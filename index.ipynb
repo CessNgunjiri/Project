{
 "cells": [
  {
   "cell_type": "markdown",
<<<<<<< HEAD
   "id": "fa41a486",
   "metadata": {},
   "source": [
    "### Quering the Dataset"
   ]
  },
  {
   "cell_type": "markdown",
=======
>>>>>>> 1c08b7474d781a51872b307d0ac48c7908d937ad
   "id": "6c556bc4",
   "metadata": {},
   "source": [
    "# Data Understanding"
   ]
  },
  {
   "cell_type": "markdown",
   "id": "5b067dca",
   "metadata": {},
   "source": [
    "### Loading and Inspecting Dataset"
   ]
  },
  {
   "cell_type": "code",
   "execution_count": 1,
   "id": "8666254a",
   "metadata": {},
   "outputs": [
    {
     "name": "stdout",
     "output_type": "stream",
     "text": [
      "   rownames subject    age  exercise    group\n",
      "0         1     100   8.00      2.71  patient\n",
      "1         2     100  10.00      1.94  patient\n",
      "2         3     100  12.00      2.36  patient\n",
      "3         4     100  14.00      1.54  patient\n",
      "4         5     100  15.92      8.63  patient\n"
     ]
    }
   ],
   "source": [
    "import pandas as pd\n",
    "\n",
    "# Raw URL to the Blackmore.csv file\n",
    "raw_url = \"https://raw.githubusercontent.com/vincentarelbundock/Rdatasets/master/csv/carData/Blackmore.csv\"\n",
    "\n",
    "# Load the CSV directly into pandas\n",
    "data = pd.read_csv(raw_url)\n",
    "print(data.head())\n"
   ]
  },
  {
<<<<<<< HEAD
   "cell_type": "code",
   "execution_count": 2,
   "id": "f91198c0",
   "metadata": {},
   "outputs": [],
   "source": [
    "#column names\n",
    "#remove rownames\n",
    "#set row names to index"
=======
   "cell_type": "markdown",
   "id": "fa41a486",
   "metadata": {},
   "source": [
    "### Quering the Dataset"
   ]
  },
  {
   "cell_type": "code",
   "execution_count": 2,
   "id": "c7ed9256",
   "metadata": {},
   "outputs": [
    {
     "name": "stdout",
     "output_type": "stream",
     "text": [
      "   rownames subject    age  exercise    group\n",
      "0         1     100   8.00      2.71  patient\n",
      "1         2     100  10.00      1.94  patient\n",
      "2         3     100  12.00      2.36  patient\n",
      "3         4     100  14.00      1.54  patient\n",
      "4         5     100  15.92      8.63  patient\n"
     ]
    }
   ],
   "source": [
    "import requests\n",
    "from bs4 import BeautifulSoup\n",
    "import pandas as pd\n",
    "\n",
    "# GitHub directory page URL\n",
    "base_url = \"https://github.com/vincentarelbundock/Rdatasets/tree/master/csv/carData\"\n",
    "\n",
    "# Step 1: Scrape the directory listing\n",
    "response = requests.get(base_url)\n",
    "soup = BeautifulSoup(response.text, 'html.parser')\n",
    "\n",
    "# Find all links on the repository page\n",
    "file_links = soup.find_all('a', href=True)\n",
    "\n",
    "# Locate 'Blackmore.csv'\n",
    "csv_file_link = None\n",
    "for link in file_links:\n",
    "    if \"Blackmore.csv\" in link['href']:\n",
    "        csv_file_link = link['href']\n",
    "        break\n",
    "\n",
    "if csv_file_link:\n",
    "    # Step 2: Convert the relative link to the raw URL\n",
    "    raw_url = csv_file_link.replace('/blob/', '/raw/')\n",
    "    raw_url = f\"https://github.com{raw_url}\"\n",
    "    \n",
    "    # Step 3: Load the CSV file into pandas\n",
    "    data = pd.read_csv(raw_url)\n",
    "    print(data.head())\n",
    "else:\n",
    "    print(\"Blackmore.csv not found in the repository!\")\n"
>>>>>>> 1c08b7474d781a51872b307d0ac48c7908d937ad
   ]
  },
  {
   "cell_type": "code",
   "execution_count": 3,
   "id": "10f1f408",
   "metadata": {},
   "outputs": [
    {
     "data": {
      "text/html": [
       "<div>\n",
       "<style scoped>\n",
       "    .dataframe tbody tr th:only-of-type {\n",
       "        vertical-align: middle;\n",
       "    }\n",
       "\n",
       "    .dataframe tbody tr th {\n",
       "        vertical-align: top;\n",
       "    }\n",
       "\n",
       "    .dataframe thead th {\n",
       "        text-align: right;\n",
       "    }\n",
       "</style>\n",
       "<table border=\"1\" class=\"dataframe\">\n",
       "  <thead>\n",
       "    <tr style=\"text-align: right;\">\n",
       "      <th></th>\n",
       "      <th>rownames</th>\n",
       "      <th>subject</th>\n",
       "      <th>age</th>\n",
       "      <th>exercise</th>\n",
       "      <th>group</th>\n",
       "    </tr>\n",
       "  </thead>\n",
       "  <tbody>\n",
       "    <tr>\n",
       "      <th>0</th>\n",
       "      <td>1</td>\n",
       "      <td>100</td>\n",
       "      <td>8.00</td>\n",
       "      <td>2.71</td>\n",
       "      <td>patient</td>\n",
       "    </tr>\n",
       "    <tr>\n",
       "      <th>1</th>\n",
       "      <td>2</td>\n",
       "      <td>100</td>\n",
       "      <td>10.00</td>\n",
       "      <td>1.94</td>\n",
       "      <td>patient</td>\n",
       "    </tr>\n",
       "    <tr>\n",
       "      <th>2</th>\n",
       "      <td>3</td>\n",
       "      <td>100</td>\n",
       "      <td>12.00</td>\n",
       "      <td>2.36</td>\n",
       "      <td>patient</td>\n",
       "    </tr>\n",
       "    <tr>\n",
       "      <th>3</th>\n",
       "      <td>4</td>\n",
       "      <td>100</td>\n",
       "      <td>14.00</td>\n",
       "      <td>1.54</td>\n",
       "      <td>patient</td>\n",
       "    </tr>\n",
       "    <tr>\n",
       "      <th>4</th>\n",
       "      <td>5</td>\n",
       "      <td>100</td>\n",
       "      <td>15.92</td>\n",
       "      <td>8.63</td>\n",
       "      <td>patient</td>\n",
       "    </tr>\n",
       "  </tbody>\n",
       "</table>\n",
       "</div>"
      ],
      "text/plain": [
       "   rownames subject    age  exercise    group\n",
       "0         1     100   8.00      2.71  patient\n",
       "1         2     100  10.00      1.94  patient\n",
       "2         3     100  12.00      2.36  patient\n",
       "3         4     100  14.00      1.54  patient\n",
       "4         5     100  15.92      8.63  patient"
      ]
     },
     "execution_count": 3,
     "metadata": {},
     "output_type": "execute_result"
    }
   ],
   "source": [
    "#display the first 5 rows of the dataset\n",
    "data.head()"
   ]
  },
  {
   "cell_type": "code",
   "execution_count": 4,
   "id": "d15fd456",
   "metadata": {},
   "outputs": [
    {
     "data": {
      "text/html": [
       "<div>\n",
       "<style scoped>\n",
       "    .dataframe tbody tr th:only-of-type {\n",
       "        vertical-align: middle;\n",
       "    }\n",
       "\n",
       "    .dataframe tbody tr th {\n",
       "        vertical-align: top;\n",
       "    }\n",
       "\n",
       "    .dataframe thead th {\n",
       "        text-align: right;\n",
       "    }\n",
       "</style>\n",
       "<table border=\"1\" class=\"dataframe\">\n",
       "  <thead>\n",
       "    <tr style=\"text-align: right;\">\n",
       "      <th></th>\n",
       "      <th>rownames</th>\n",
       "      <th>subject</th>\n",
       "      <th>age</th>\n",
       "      <th>exercise</th>\n",
       "      <th>group</th>\n",
       "    </tr>\n",
       "  </thead>\n",
       "  <tbody>\n",
       "    <tr>\n",
       "      <th>940</th>\n",
       "      <td>768</td>\n",
       "      <td>286</td>\n",
       "      <td>8.0</td>\n",
       "      <td>1.10</td>\n",
       "      <td>control</td>\n",
       "    </tr>\n",
       "    <tr>\n",
       "      <th>941</th>\n",
       "      <td>769</td>\n",
       "      <td>286</td>\n",
       "      <td>10.0</td>\n",
       "      <td>1.10</td>\n",
       "      <td>control</td>\n",
       "    </tr>\n",
       "    <tr>\n",
       "      <th>942</th>\n",
       "      <td>770</td>\n",
       "      <td>286</td>\n",
       "      <td>12.0</td>\n",
       "      <td>0.35</td>\n",
       "      <td>control</td>\n",
       "    </tr>\n",
       "    <tr>\n",
       "      <th>943</th>\n",
       "      <td>771</td>\n",
       "      <td>286</td>\n",
       "      <td>14.0</td>\n",
       "      <td>0.40</td>\n",
       "      <td>control</td>\n",
       "    </tr>\n",
       "    <tr>\n",
       "      <th>944</th>\n",
       "      <td>772</td>\n",
       "      <td>286</td>\n",
       "      <td>17.0</td>\n",
       "      <td>0.29</td>\n",
       "      <td>control</td>\n",
       "    </tr>\n",
       "  </tbody>\n",
       "</table>\n",
       "</div>"
      ],
      "text/plain": [
       "     rownames subject   age  exercise    group\n",
       "940       768     286   8.0      1.10  control\n",
       "941       769     286  10.0      1.10  control\n",
       "942       770     286  12.0      0.35  control\n",
       "943       771     286  14.0      0.40  control\n",
       "944       772     286  17.0      0.29  control"
      ]
     },
     "execution_count": 4,
     "metadata": {},
     "output_type": "execute_result"
    }
   ],
   "source": [
    "#display the last 5 rows of the dataset\n",
    "data.tail()"
   ]
  },
  {
   "cell_type": "code",
   "execution_count": 5,
   "id": "25bf4d7c",
   "metadata": {},
   "outputs": [
    {
     "name": "stdout",
     "output_type": "stream",
     "text": [
      "<class 'pandas.core.frame.DataFrame'>\n",
      "RangeIndex: 945 entries, 0 to 944\n",
      "Data columns (total 5 columns):\n",
      " #   Column    Non-Null Count  Dtype  \n",
      "---  ------    --------------  -----  \n",
      " 0   rownames  945 non-null    int64  \n",
      " 1   subject   945 non-null    object \n",
      " 2   age       945 non-null    float64\n",
      " 3   exercise  945 non-null    float64\n",
      " 4   group     945 non-null    object \n",
      "dtypes: float64(2), int64(1), object(2)\n",
      "memory usage: 37.0+ KB\n"
     ]
    }
   ],
   "source": [
    "#information about our dataset\n",
    "data.info()"
   ]
  },
  {
   "cell_type": "code",
   "execution_count": 6,
   "id": "c58b5097",
   "metadata": {},
   "outputs": [
    {
     "data": {
      "text/html": [
       "<div>\n",
       "<style scoped>\n",
       "    .dataframe tbody tr th:only-of-type {\n",
       "        vertical-align: middle;\n",
       "    }\n",
       "\n",
       "    .dataframe tbody tr th {\n",
       "        vertical-align: top;\n",
       "    }\n",
       "\n",
       "    .dataframe thead th {\n",
       "        text-align: right;\n",
       "    }\n",
       "</style>\n",
       "<table border=\"1\" class=\"dataframe\">\n",
       "  <thead>\n",
       "    <tr style=\"text-align: right;\">\n",
       "      <th></th>\n",
       "      <th>rownames</th>\n",
       "      <th>age</th>\n",
       "      <th>exercise</th>\n",
       "    </tr>\n",
       "  </thead>\n",
       "  <tbody>\n",
       "    <tr>\n",
       "      <th>count</th>\n",
       "      <td>945.000000</td>\n",
       "      <td>945.000000</td>\n",
       "      <td>945.000000</td>\n",
       "    </tr>\n",
       "    <tr>\n",
       "      <th>mean</th>\n",
       "      <td>473.000000</td>\n",
       "      <td>11.441661</td>\n",
       "      <td>2.530646</td>\n",
       "    </tr>\n",
       "    <tr>\n",
       "      <th>std</th>\n",
       "      <td>272.942302</td>\n",
       "      <td>2.765609</td>\n",
       "      <td>3.495086</td>\n",
       "    </tr>\n",
       "    <tr>\n",
       "      <th>min</th>\n",
       "      <td>1.000000</td>\n",
       "      <td>8.000000</td>\n",
       "      <td>0.000000</td>\n",
       "    </tr>\n",
       "    <tr>\n",
       "      <th>25%</th>\n",
       "      <td>237.000000</td>\n",
       "      <td>10.000000</td>\n",
       "      <td>0.400000</td>\n",
       "    </tr>\n",
       "    <tr>\n",
       "      <th>50%</th>\n",
       "      <td>473.000000</td>\n",
       "      <td>12.000000</td>\n",
       "      <td>1.330000</td>\n",
       "    </tr>\n",
       "    <tr>\n",
       "      <th>75%</th>\n",
       "      <td>709.000000</td>\n",
       "      <td>14.000000</td>\n",
       "      <td>3.040000</td>\n",
       "    </tr>\n",
       "    <tr>\n",
       "      <th>max</th>\n",
       "      <td>945.000000</td>\n",
       "      <td>17.920000</td>\n",
       "      <td>29.960000</td>\n",
       "    </tr>\n",
       "  </tbody>\n",
       "</table>\n",
       "</div>"
      ],
      "text/plain": [
       "         rownames         age    exercise\n",
       "count  945.000000  945.000000  945.000000\n",
       "mean   473.000000   11.441661    2.530646\n",
       "std    272.942302    2.765609    3.495086\n",
       "min      1.000000    8.000000    0.000000\n",
       "25%    237.000000   10.000000    0.400000\n",
       "50%    473.000000   12.000000    1.330000\n",
       "75%    709.000000   14.000000    3.040000\n",
       "max    945.000000   17.920000   29.960000"
      ]
     },
     "execution_count": 6,
     "metadata": {},
     "output_type": "execute_result"
    }
   ],
   "source": [
    "#statistical summary of our dataset\n",
    "data.describe()"
   ]
  },
  {
   "cell_type": "code",
   "execution_count": 7,
   "id": "c60444f7",
   "metadata": {},
   "outputs": [
    {
     "data": {
      "text/plain": [
       "(945, 5)"
      ]
     },
     "execution_count": 7,
     "metadata": {},
     "output_type": "execute_result"
    }
   ],
   "source": [
    "#check the shape of our dataset i.e 945 rows and 5 columns\n",
    "data.shape"
   ]
  },
  {
   "cell_type": "code",
   "execution_count": 8,
   "id": "9c765525",
   "metadata": {},
   "outputs": [
    {
     "data": {
      "text/plain": [
       "Index(['rownames', 'subject', 'age', 'exercise', 'group'], dtype='object')"
      ]
     },
     "execution_count": 8,
     "metadata": {},
     "output_type": "execute_result"
    }
   ],
   "source": [
    "#display the names of columns in the dataset\n",
    "data.columns"
   ]
  },
  {
   "cell_type": "code",
   "execution_count": 9,
   "id": "ab4b82f1",
   "metadata": {},
   "outputs": [
    {
     "data": {
      "text/plain": [
       "rownames      int64\n",
       "subject      object\n",
       "age         float64\n",
       "exercise    float64\n",
       "group        object\n",
       "dtype: object"
      ]
     },
     "execution_count": 9,
     "metadata": {},
     "output_type": "execute_result"
    }
   ],
   "source": [
    "#check the datatypes of our columns\n",
    "data.dtypes"
   ]
  },
  {
   "cell_type": "code",
   "execution_count": 10,
   "id": "f92a13fa",
   "metadata": {},
   "outputs": [
    {
     "name": "stdout",
     "output_type": "stream",
     "text": [
      " rownames subject   age  exercise   group\n",
      "        1     100  8.00      2.71 patient\n",
      "        2     100 10.00      1.94 patient\n",
      "        3     100 12.00      2.36 patient\n",
      "        4     100 14.00      1.54 patient\n",
<<<<<<< HEAD
      "        5     100 15.92      8.63 patient\n"
=======
      "        5     100 15.92      8.63 patient\n",
      "        6     101  8.00      0.14 patient\n",
      "        7     101 10.00      0.14 patient\n",
      "        8     101 12.00      0.00 patient\n",
      "        9     101 14.00      0.00 patient\n",
      "       10     101 16.67      5.08 patient\n",
      "       11     102  8.00      0.92 patient\n",
      "       12     102 10.00      1.82 patient\n",
      "       13     102 12.00      4.75 patient\n",
      "       14     102 15.08     24.72 patient\n",
      "       15     103  8.00      1.04 patient\n",
      "       16     103 10.00      2.90 patient\n",
      "       17     103 12.00      2.65 patient\n",
      "       18     103 14.08      6.86 patient\n",
      "       19     104  8.00      2.75 patient\n",
      "       20     104 10.00      6.62 patient\n",
      "       21     104 12.00      0.29 patient\n",
      "       22     104 15.42     12.37 patient\n",
      "       23     105  8.00      0.05 patient\n",
      "       24     105 10.00      0.00 patient\n",
      "       25     105 12.00      0.00 patient\n",
      "       26     105 14.00      0.25 patient\n",
      "       27     105 16.17      1.44 patient\n",
      "       28     106  8.00      0.00 patient\n",
      "       29     106 10.00      0.46 patient\n",
      "       30     106 12.00      0.12 patient\n",
      "       31     106 14.00      1.34 patient\n",
      "       32     106 16.33      4.83 patient\n",
      "       33     107  8.00      0.00 patient\n",
      "       34     107 10.00      0.12 patient\n",
      "       35     107 12.00      0.00 patient\n",
      "       36     107 14.00      4.14 patient\n",
      "       37     107 16.00      1.15 patient\n",
      "       38     108  8.00      1.25 patient\n",
      "       39     108 10.00      2.22 patient\n",
      "       40     108 12.00      2.71 patient\n",
      "       41     108 14.00     19.00 patient\n",
      "       42     108 16.33      4.53 patient\n",
      "       43     109  8.00      2.28 patient\n",
      "       44     109 10.00      1.15 patient\n",
      "       45     109 13.75     18.48 patient\n",
      "       46     110  8.00      0.76 patient\n",
      "       47     110 10.00      1.41 patient\n",
      "       48     110 12.00      1.04 patient\n",
      "       49     110 14.00     12.99 patient\n",
      "       50     110 16.58      2.90 patient\n",
      "       51     111  8.00      0.35 patient\n",
      "       52     111 10.00      1.20 patient\n",
      "       53     111 12.00      4.53 patient\n",
      "       54     111 15.25     14.01 patient\n",
      "       55     112  8.00      0.06 patient\n",
      "       56     112 10.00      0.00 patient\n",
      "       57     112 12.00      0.00 patient\n",
      "       58     112 14.00      0.38 patient\n",
      "       59     112 16.75      1.06 patient\n",
      "       60     113  8.00      0.33 patient\n",
      "       61     113 10.00      0.14 patient\n",
      "       62     113 12.00      3.28 patient\n",
      "       63     113 15.33     18.61 patient\n",
      "       64     114  8.00      1.06 patient\n",
      "       65     114 10.00      1.42 patient\n",
      "       66     114 12.00      0.17 patient\n",
      "       67     114 14.92      1.68 patient\n",
      "       68     115  8.00      0.23 patient\n",
      "       69     115 10.00      1.27 patient\n",
      "       70     115 12.00      2.84 patient\n",
      "       71     115 14.67      0.82 patient\n",
      "       72     116  8.00      4.69 patient\n",
      "       73     116 10.00      5.91 patient\n",
      "       74     116 12.00      4.50 patient\n",
      "       75     116 14.00      7.31 patient\n",
      "       76     116 16.50     11.49 patient\n",
      "       77     117  8.00      0.58 patient\n",
      "       78     117 10.00      1.46 patient\n",
      "       79     117 12.00      1.98 patient\n",
      "       80     117 14.00      2.10 patient\n",
      "       81     117 16.50     10.78 patient\n",
      "       82     118  8.00      0.29 patient\n",
      "       83     118 10.00      0.30 patient\n",
      "       84     118 12.00      0.66 patient\n",
      "       85     118 15.92      2.42 patient\n",
      "       86     119  8.00      0.38 patient\n",
      "       87     119 10.00      1.12 patient\n",
      "       88     119 12.00      1.33 patient\n",
      "       89     119 14.00      0.87 patient\n",
      "       90     119 16.08      9.00 patient\n",
      "       91     120  8.00      0.38 patient\n",
      "       92     120 10.00      0.00 patient\n",
      "       93     120 12.00      0.00 patient\n",
      "       94     120 14.00      0.00 patient\n",
      "       95     120 16.58      1.20 patient\n",
      "       96     121  8.00      0.16 patient\n",
      "       97     121 10.00      1.12 patient\n",
      "       98     121 12.00     11.36 patient\n",
      "       99     121 15.08      4.19 patient\n",
      "      100     122  8.00      0.00 patient\n",
      "      101     122 10.00      0.00 patient\n",
      "      102     122 12.00      1.04 patient\n",
      "      103     122 14.00      7.49 patient\n",
      "      104     122 16.33      4.71 patient\n",
      "      105     123  8.00      0.45 patient\n",
      "      106     123 10.00      0.00 patient\n",
      "      107     123 12.00      0.87 patient\n",
      "      108     123 15.50      0.00 patient\n",
      "      109     124  8.00      1.99 patient\n",
      "      110     124 10.00      0.63 patient\n",
      "      111     124 12.00      3.35 patient\n",
      "      112     124 13.75      4.25 patient\n",
      "      113     125  8.00      1.50 patient\n",
      "      114     125 10.00      2.02 patient\n",
      "      115     125 12.00      7.07 patient\n",
      "      116     125 14.08      3.39 patient\n",
      "      117     126  8.00      0.46 patient\n",
      "      118     126 10.00      0.58 patient\n",
      "      119     126 12.00      0.52 patient\n",
      "      120     126 14.25      3.46 patient\n",
      "      121     127  8.00      0.88 patient\n",
      "      122     127 10.00      0.69 patient\n",
      "      123     127 12.00      1.63 patient\n",
      "      124     127 14.00      2.76 patient\n",
      "      125     127 16.00      4.88 patient\n",
      "      126     128  8.00      1.62 patient\n",
      "      127     128 10.00      0.29 patient\n",
      "      128     128 13.50      0.14 patient\n",
      "      129     129  8.00      0.66 patient\n",
      "      130     129 10.00      1.11 patient\n",
      "      131     129 12.00      0.80 patient\n",
      "      132     129 15.08     10.66 patient\n",
      "      133     130  8.00      0.00 patient\n",
      "      134     130 10.00      0.29 patient\n",
      "      135     130 12.00      2.09 patient\n",
      "      136     130 14.00      3.88 patient\n",
      "      137     130 16.00     11.19 patient\n",
      "      138     132  8.00      0.00 patient\n",
      "      139     132 10.00      1.27 patient\n",
      "      140     132 13.08      5.29 patient\n",
      "      141     133  8.00      1.56 patient\n",
      "      142     133 10.00      2.31 patient\n",
      "      143     133 12.00      2.02 patient\n",
      "      144     133 14.00      1.62 patient\n",
      "      145     133 17.50     13.06 patient\n",
      "      146     134  8.00      5.24 patient\n",
      "      147     134 10.00      9.33 patient\n",
      "      148     134 12.00     14.59 patient\n",
      "      149     134 14.00     22.69 patient\n",
      "      150     134 16.50     21.01 patient\n",
      "      151     135  8.00      0.06 patient\n",
      "      152     135 10.00      0.17 patient\n",
      "      153     135 12.00      0.08 patient\n",
      "      154     135 14.00      0.00 patient\n",
      "      155     135 16.58      0.41 patient\n",
      "      156     136  8.00      1.84 patient\n",
      "      157     136 10.00      1.55 patient\n",
      "      158     136 12.00      3.83 patient\n",
      "      159     136 14.00      2.93 patient\n",
      "      160     136 17.00      3.35 patient\n",
      "      161     137  8.00      1.75 patient\n",
      "      162     137 10.00      0.00 patient\n",
      "      163     137 12.00      1.89 patient\n",
      "      164     137 14.00      1.45 patient\n",
      "      165     138  8.00      1.15 patient\n",
      "      166     138 10.00      0.80 patient\n",
      "      167     138 12.00      0.65 patient\n",
      "      168     138 14.58      1.48 patient\n",
      "      169     139  8.00      6.78 patient\n",
      "      170     139 10.00      7.77 patient\n",
      "      171     139 12.00     14.78 patient\n",
      "      172     139 14.00     10.81 patient\n",
      "      173     139 17.25     13.35 patient\n",
      "      174     140  8.00      4.79 patient\n",
      "      175     140 10.00      6.10 patient\n",
      "      176     140 12.00      6.44 patient\n",
      "      177     140 14.00      7.92 patient\n",
      "      178     140 17.42      6.14 patient\n",
      "      179     141  8.00      1.10 patient\n",
      "      180     141 10.00      0.04 patient\n",
      "      181     141 12.00      0.75 patient\n",
      "      182     141 14.00      0.75 patient\n",
      "      183     141 16.50      5.79 patient\n",
      "      184     142  8.00      6.17 patient\n",
      "      185     142 10.00      1.67 patient\n",
      "      186     142 12.00      0.87 patient\n",
      "      187     142 15.75     11.75 patient\n",
      "      188     143  8.00      3.23 patient\n",
      "      189     143 10.00      4.21 patient\n",
      "      190     143 12.00      8.45 patient\n",
      "      191     143 14.00      2.55 patient\n",
      "      192     143 16.75      6.12 patient\n",
      "      193     144  8.00      0.29 patient\n",
      "      194     144 10.00      1.35 patient\n",
      "      195     144 12.00      1.59 patient\n",
      "      196     144 14.00      4.66 patient\n",
      "      197     144 16.50      1.60 patient\n",
      "      198     145  8.00      0.87 patient\n",
      "      199     145 10.00      0.86 patient\n",
      "      200     145 12.00      1.95 patient\n",
      "      201     145 14.25      4.66 patient\n",
      "      202     146  8.00      0.14 patient\n",
      "      203     146 10.00      0.14 patient\n",
      "      204     146 12.00      0.29 patient\n",
      "      205     146 14.50      4.21 patient\n",
      "      206     147  8.00      0.00 patient\n",
      "      207     147 10.00      0.12 patient\n",
      "      208     147 13.42      2.57 patient\n",
      "      209     148  8.00      0.00 patient\n",
      "      210     148 10.00      0.29 patient\n",
      "      211     148 12.00      0.00 patient\n",
      "      212     148 14.00      0.00 patient\n",
      "      213     148 16.83      8.86 patient\n",
      "      214     149  8.00      0.30 patient\n",
      "      215     149 10.00      0.64 patient\n",
      "      216     149 12.25      3.63 patient\n",
      "      217     150  8.00      1.06 patient\n",
      "      218     150 10.00      3.84 patient\n",
      "      219     150 12.00      2.02 patient\n",
      "      220     150 14.00      7.01 patient\n",
      "      221     150 17.17     12.48 patient\n",
      "      222     151  8.00      0.00 patient\n",
      "      223     151 10.00      0.39 patient\n",
      "      224     151 12.00      0.24 patient\n",
      "      225     151 14.00      0.00 patient\n",
      "      226     151 17.67      0.00 patient\n",
      "      227     152  8.00      1.41 patient\n",
      "      228     152 10.00      4.30 patient\n",
      "      229     152 12.00      4.30 patient\n",
      "      230     152 14.00      5.65 patient\n",
      "      231     152 16.00      6.80 patient\n",
      "      232     153  8.00      1.12 patient\n",
      "      233     153 10.00      1.47 patient\n",
      "      234     153 12.00      2.02 patient\n",
      "      235     153 14.50      0.57 patient\n",
      "      236     154  8.00      0.88 patient\n",
      "      237     154 10.00      2.10 patient\n",
      "      238     154 12.00      2.68 patient\n",
      "      239     154 15.33      2.76 patient\n",
      "      240     155  8.00      2.83 patient\n",
      "      241     155 10.00      3.61 patient\n",
      "      242     155 13.42      4.19 patient\n",
      "      243     156  8.00      0.38 patient\n",
      "      244     156 10.00      0.26 patient\n",
      "      245     156 12.00      1.99 patient\n",
      "      246     156 14.00      6.41 patient\n",
      "      247     157  8.00      0.38 patient\n",
      "      248     157 10.00      0.00 patient\n",
      "      249     157 12.00      1.88 patient\n",
      "      250     157 14.00     19.79 patient\n",
      "      251     157 16.50      6.19 patient\n",
      "      252     158  8.00      0.00 patient\n",
      "      253     158 10.00      0.00 patient\n",
      "      254     158 12.17      0.20 patient\n",
      "      255     159  8.00      0.61 patient\n",
      "      256     159 10.00      1.10 patient\n",
      "      257     159 12.00      1.59 patient\n",
      "      258     159 14.42      1.06 patient\n",
      "      259     160  8.00      1.19 patient\n",
      "      260     160 10.00     10.99 patient\n",
      "      261     160 12.00     12.21 patient\n",
      "      262     160 14.00     16.75 patient\n",
      "      263     160 16.00     15.10 patient\n",
      "      264     161  8.00      0.12 patient\n",
      "      265     161 10.00      0.45 patient\n",
      "      266     161 12.00      0.00 patient\n",
      "      267     161 14.00      0.00 patient\n",
      "      268     161 16.33      0.87 patient\n",
      "      269     162  8.00      1.00 patient\n",
      "      270     162 10.00      1.19 patient\n",
      "      271     162 13.33      1.44 patient\n",
      "      272     163  8.00      9.12 patient\n",
      "      273     163 10.00      4.84 patient\n",
      "      274     163 12.00      4.76 patient\n",
      "      275     163 14.92     29.96 patient\n",
      "      276     164  8.00      1.02 patient\n",
      "      277     164 10.00      1.47 patient\n",
      "      278     164 12.00      2.11 patient\n",
      "      279     164 14.00      1.59 patient\n",
      "      280     164 16.17      4.10 patient\n",
      "      281     165  8.00      0.12 patient\n",
      "      282     165 10.00      0.52 patient\n",
      "      283     165 12.00      0.75 patient\n",
      "      284     165 15.75      4.01 patient\n",
      "      285     166  8.00      1.33 patient\n",
      "      286     166 10.00      2.65 patient\n",
      "      287     166 12.00      3.71 patient\n",
      "      288     166 14.00      7.32 patient\n",
      "      289     166 16.50     10.73 patient\n",
      "      290     167  8.00      4.59 patient\n",
      "      291     167 10.00      6.12 patient\n",
      "      292     167 12.00      8.12 patient\n",
      "      293     167 15.83     16.90 patient\n",
      "      294     168  8.00      0.61 patient\n",
      "      295     168 11.58      1.84 patient\n",
      "      296     169  8.00      0.20 patient\n",
      "      297     169 10.00      4.46 patient\n",
      "      298     169 13.75     14.83 patient\n",
      "      299     170  8.00      1.82 patient\n",
      "      300     170 10.00      0.20 patient\n",
      "      301     170 12.00      0.61 patient\n",
      "      302     170 14.00      0.00 patient\n",
      "      303     170 17.25      3.42 patient\n",
      "      304     171  8.00      0.51 patient\n",
      "      305     171 10.00      0.62 patient\n",
      "      306     171 12.00      0.34 patient\n",
      "      307     171 14.00      2.26 patient\n",
      "      308     172  8.00      0.90 patient\n",
      "      309     172 10.00      1.09 patient\n",
      "      310     172 12.00      4.63 patient\n",
      "      311     172 14.42      6.58 patient\n",
      "      312     173  8.00      1.04 patient\n",
      "      313     173 10.00      0.58 patient\n",
      "      314     173 12.00      0.60 patient\n",
      "      315     173 15.42      3.41 patient\n",
      "      316     174  8.00      0.35 patient\n",
      "      317     174 10.00      0.38 patient\n",
      "      318     174 13.50      3.38 patient\n",
      "      319     175  8.00      0.82 patient\n",
      "      320     175 10.00      0.75 patient\n",
      "      321     175 12.00      2.37 patient\n",
      "      322     175 14.00      1.33 patient\n",
      "      323     175 16.42      1.19 patient\n",
      "      324     176  8.00      1.42 patient\n",
      "      325     176 10.00      0.54 patient\n",
      "      326     176 12.00      0.00 patient\n",
      "      327     176 14.00      0.00 patient\n",
      "      328     176 16.00      0.48 patient\n",
      "      329     177  8.00      0.00 patient\n",
      "      330     177 10.00      1.25 patient\n",
      "      331     177 12.00      1.21 patient\n",
      "      332     177 14.67      2.74 patient\n",
      "      333     178  8.00      0.27 patient\n",
      "      334     178 10.00      0.00 patient\n",
      "      335     178 12.00      0.00 patient\n",
      "      336     178 14.25     12.48 patient\n",
      "      337     179  8.00      0.12 patient\n",
      "      338     179 10.00      0.55 patient\n",
      "      339     179 12.00      0.98 patient\n",
      "      340     179 14.00      0.35 patient\n",
      "      341     179 17.92      0.81 patient\n",
      "      342     180  8.00      3.27 patient\n",
      "      343     180 10.00      4.31 patient\n",
      "      344     180 12.00      5.77 patient\n",
      "      345     180 14.17     12.75 patient\n",
      "      346     181  8.00      1.38 patient\n",
      "      347     181 10.00      1.38 patient\n",
      "      348     181 12.00      1.00 patient\n",
      "      349     181 14.00      1.38 patient\n",
      "      350     181 15.92      5.20 patient\n",
      "      351     182  8.00      3.12 patient\n",
      "      352     182 10.00      2.47 patient\n",
      "      353     182 12.00      1.46 patient\n",
      "      354     182 15.25     10.95 patient\n",
      "      355     183  8.00      0.00 patient\n",
      "      356     183 10.00      0.00 patient\n",
      "      357     183 12.00      0.00 patient\n",
      "      358     183 14.17      1.48 patient\n",
      "      359     184  8.00      1.62 patient\n",
      "      360     184 10.00      3.50 patient\n",
      "      361     184 13.42      2.66 patient\n",
      "      362     185  8.00      0.43 patient\n",
      "      363     185 10.00      0.00 patient\n",
      "      364     185 12.00      0.00 patient\n",
      "      365     185 14.00      0.00 patient\n",
      "      366     185 17.00      3.50 patient\n",
      "      367     186  8.00      1.79 patient\n",
      "      368     186 10.00      2.57 patient\n",
      "      369     186 12.00      7.32 patient\n",
      "      370     186 15.00     13.19 patient\n",
      "      371     187  8.00      1.21 patient\n",
      "      372     187 10.00      2.67 patient\n",
      "      373     187 12.00      2.20 patient\n",
      "      374     187 15.17      6.12 patient\n",
      "      375     188  8.00      3.87 patient\n",
      "      376     188 10.00      1.62 patient\n",
      "      377     188 12.00     10.28 patient\n",
      "      378     188 14.50     10.90 patient\n",
      "      379     189  8.00      0.88 patient\n",
      "      380     189 10.00      0.00 patient\n",
      "      381     189 12.00      2.62 patient\n",
      "      382     189 14.00      2.15 patient\n",
      "      383     189 16.08      2.38 patient\n",
      "      384     190  8.00      1.61 patient\n",
      "      385     190 10.00      0.60 patient\n",
      "      386     190 12.00      3.47 patient\n",
      "      387     190 14.75      5.58 patient\n",
      "      388     192  8.00      0.49 patient\n",
      "      389     192 10.00      1.58 patient\n",
      "      390     192 12.00      0.67 patient\n",
      "      391     192 15.50      5.38 patient\n",
      "      392     193  8.00      2.49 patient\n",
      "      393     193 10.00      5.72 patient\n",
      "      394     193 12.83     12.48 patient\n",
      "      395     194  8.00      0.00 patient\n",
      "      396     194 10.00      0.00 patient\n",
      "      397     194 12.00      0.00 patient\n",
      "      398     194 15.83      0.49 patient\n",
      "      399     195  8.00      0.00 patient\n",
      "      400     195 10.00      0.67 patient\n",
      "      401     195 12.00      0.00 patient\n",
      "      402     195 15.00      1.92 patient\n",
      "      403     196  8.00      2.61 patient\n",
      "      404     196 10.00      4.15 patient\n",
      "      405     196 13.25      5.49 patient\n",
      "      406     198  8.00      0.00 patient\n",
      "      407     198 10.00      0.00 patient\n",
      "      408     198 12.00      2.77 patient\n",
      "      409     198 15.67     10.70 patient\n",
      "      410     199  8.00      2.59 patient\n",
      "      411     199 10.00      2.62 patient\n",
      "      412     199 12.00      4.15 patient\n",
      "      413     199 14.54     10.72 patient\n",
      "      773     300  8.00      0.17 patient\n",
      "      774     300 10.00      1.62 patient\n",
      "      775     300 12.00      0.17 patient\n",
      "      776     300 14.00      0.98 patient\n",
      "      777     300 16.50      6.50 patient\n",
      "      778     301  8.00      0.00 patient\n",
      "      779     301 10.00      0.24 patient\n",
      "      780     301 12.00      0.00 patient\n",
      "      781     301 14.00      0.14 patient\n",
      "      782     301 16.33      0.67 patient\n",
      "      783     302  8.00      0.38 patient\n",
      "      784     302 10.00      1.55 patient\n",
      "      785     302 12.00      1.48 patient\n",
      "      786     302 14.00      5.75 patient\n",
      "      787     302 16.25     11.26 patient\n",
      "      788     303  8.00      1.44 patient\n",
      "      789     303 10.00      4.07 patient\n",
      "      790     303 12.00      1.35 patient\n",
      "      791     303 14.00      0.00 patient\n",
      "      792     303 16.50      0.00 patient\n",
      "      793     304  8.00      3.23 patient\n",
      "      794     304 10.00      4.85 patient\n",
      "      795     304 12.00      8.31 patient\n",
      "      796     304 14.00     13.33 patient\n",
      "      797     304 16.17     17.03 patient\n",
      "      798     305  8.00      2.46 patient\n",
      "      799     305 10.00      4.31 patient\n",
      "      800     305 12.00      1.56 patient\n",
      "      801     305 14.00      1.50 patient\n",
      "      802     305 16.58      8.75 patient\n",
      "      803     306  8.00      0.17 patient\n",
      "      804     306 10.00      0.61 patient\n",
      "      805     306 12.00      0.52 patient\n",
      "      806     306 14.00      0.52 patient\n",
      "      807     306 16.17      2.62 patient\n",
      "      808     307  8.00      0.09 patient\n",
      "      809     307 10.00      0.58 patient\n",
      "      810     307 12.00      0.58 patient\n",
      "      811     307 14.67      4.00 patient\n",
      "      812     308  8.00      0.23 patient\n",
      "      813     308 10.00      0.58 patient\n",
      "      814     308 12.00      0.23 patient\n",
      "      815     308 15.75      9.85 patient\n",
      "      816     309  8.00      0.27 patient\n",
      "      817     309 10.00      1.07 patient\n",
      "      818     309 12.00      0.14 patient\n",
      "      819     309 14.92      4.54 patient\n",
      "      820     310  8.00      1.31 patient\n",
      "      821     310 10.00      1.77 patient\n",
      "      822     310 12.00      2.60 patient\n",
      "      823     310 14.00      1.15 patient\n",
      "      824     310 16.50      2.57 patient\n",
      "      825     311  8.00      0.00 patient\n",
      "      826     311 10.00      0.00 patient\n",
      "      827     311 12.00      0.32 patient\n",
      "      828     311 14.00      1.96 patient\n",
      "      829     311 17.17     10.10 patient\n",
      "      830     312  8.00      1.66 patient\n",
      "      831     312 10.00      1.32 patient\n",
      "      832     312 12.00      1.16 patient\n",
      "      833     312 14.00      1.19 patient\n",
      "      834     312 16.50      2.81 patient\n",
      "      835     313  8.00      0.94 patient\n",
      "      836     313 10.00      0.95 patient\n",
      "      837     313 12.00      1.15 patient\n",
      "      838     313 15.88      2.50 patient\n",
      "      839     314  8.00      3.45 patient\n",
      "      840     314 10.00      5.09 patient\n",
      "      841     314 12.00      7.68 patient\n",
      "      842     314 15.25      9.12 patient\n",
      "      843     315  8.00      0.23 patient\n",
      "      844     315 10.00      2.08 patient\n",
      "      845     315 13.75      1.12 patient\n",
      "      846     316  8.00      2.03 patient\n",
      "      847     316 10.00      2.04 patient\n",
      "      848     316 13.33      0.00 patient\n",
      "      849     317  8.00      0.40 patient\n",
      "      850     317 10.00      0.69 patient\n",
      "      851     317 12.00      0.12 patient\n",
      "      852     317 14.42      0.75 patient\n",
      "      853     318  8.00      3.20 patient\n",
      "      854     318 10.00      3.92 patient\n",
      "      855     318 12.00      4.85 patient\n",
      "      856     318 14.00      8.31 patient\n",
      "      857     318 17.46      8.71 patient\n",
      "      858     319  8.00      4.73 patient\n",
      "      859     319 10.00      5.00 patient\n",
      "      860     319 12.00      5.44 patient\n",
      "      861     319 15.00      1.21 patient\n",
      "      862     320  8.00      0.29 patient\n",
      "      863     320 10.00      0.00 patient\n",
      "      864     320 12.00      0.04 patient\n",
      "      865     320 14.00      3.00 patient\n",
      "      866     320 16.00      0.00 patient\n",
      "      867     321  8.00      1.60 patient\n",
      "      868     321 10.00      2.26 patient\n",
      "      869     321 12.00     11.87 patient\n",
      "      870     322  8.00      0.56 patient\n",
      "      871     322 10.00      1.73 patient\n",
      "      872     322 13.00      2.52 patient\n",
      "      873     323  8.00      0.00 patient\n",
      "      874     323 10.00      0.00 patient\n",
      "      875     323 12.00      0.46 patient\n",
      "      876     323 14.00      0.00 patient\n",
      "      877     323 17.17      1.82 patient\n",
      "      878     324  8.00      3.88 patient\n",
      "      879     324 10.00      4.85 patient\n",
      "      880     324 13.71     11.97 patient\n",
      "      881     325  8.00      0.00 patient\n",
      "      882     325 10.00      1.73 patient\n",
      "      883     325 12.00      0.00 patient\n",
      "      884     325 13.96      1.21 patient\n",
      "      885     326  8.00      0.40 patient\n",
      "      886     326 10.00      0.40 patient\n",
      "      887     326 12.00      1.15 patient\n",
      "      888     326 14.96      2.02 patient\n",
      "      889     327  8.00      0.12 patient\n",
      "      890     327 10.00      0.12 patient\n",
      "      891     327 12.00      2.22 patient\n",
      "      892     327 14.00      1.75 patient\n",
      "      893     327 16.00      2.71 patient\n",
      "      894     328  8.00      6.76 patient\n",
      "      895     328 10.00      7.27 patient\n",
      "      896     328 12.00      7.85 patient\n",
      "      897     328 14.00      6.46 patient\n",
      "      898     328 16.21      6.56 patient\n",
      "      899     329  8.00      3.01 patient\n",
      "      900     329 10.00      1.36 patient\n",
      "      901     329 12.17      2.30 patient\n",
      "      902     330  8.00      1.85 patient\n",
      "      903     330 10.00      4.92 patient\n",
      "      904     330 12.00      3.77 patient\n",
      "      905     330 14.58     10.00 patient\n",
      "      906     331  8.00      0.19 patient\n",
      "      907     331 10.00      0.00 patient\n",
      "      908     331 12.00      0.87 patient\n",
      "      909     331 15.67      1.33 patient\n",
      "      910     332  8.00      2.60 patient\n",
      "      911     332 10.00      4.63 patient\n",
      "      912     332 12.00      4.90 patient\n",
      "      913     332 13.92      6.58 patient\n",
      "      914     333  8.00      2.79 patient\n",
      "      915     333 10.00      5.38 patient\n",
      "      916     333 12.00      4.65 patient\n",
      "      917     333 15.79     19.52 patient\n",
      "      918     334  8.00      0.00 patient\n",
      "      919     334 10.00      0.38 patient\n",
      "      920     334 12.00      0.81 patient\n",
      "      921     334 14.00      1.90 patient\n",
      "      922     334 16.79      0.00 patient\n",
      "      923     335  8.00      0.12 patient\n",
      "      924     335 10.00      1.50 patient\n",
      "      925     335 12.00      5.19 patient\n",
      "      926     335 14.75      0.96 patient\n",
      "      927     336  8.00      0.00 patient\n",
      "      928     336 10.00      0.00 patient\n",
      "      929     336 12.00      0.00 patient\n",
      "      930     336 14.42      0.86 patient\n",
      "      931     337  8.00      2.53 patient\n",
      "      932     337 10.00      0.55 patient\n",
      "      933     337 13.00      8.76 patient\n",
      "      934     338  8.00      0.12 patient\n",
      "      935     338 10.00      0.35 patient\n",
      "      936     338 12.00      0.00 patient\n",
      "      937     338 14.29      0.94 patient\n",
      "      938     340  8.00      3.00 patient\n",
      "      939     340 10.00      2.77 patient\n",
      "      940     340 12.00      8.50 patient\n",
      "      941     340 14.00      8.38 patient\n",
      "      942     340 16.08      8.01 patient\n",
      "      943     341  8.00      2.08 patient\n",
      "      944     341 10.00      3.38 patient\n",
      "      945     341 13.00      2.48 patient\n",
      "      414     200  8.00      3.23 control\n",
      "      415     200 10.00      5.65 control\n",
      "      416     200 12.00      0.66 control\n",
      "      417     200 14.00      7.54 control\n",
      "      418     200 17.00      3.58 control\n",
      "      419     201  8.00      0.17 control\n",
      "      420     201 10.00      0.00 control\n",
      "      421     201 13.00      1.01 control\n",
      "      422     202  8.00      0.29 control\n",
      "      423     202 10.00      0.43 control\n",
      "      424     202 12.00      1.01 control\n",
      "      425     203  8.00      2.03 control\n",
      "      426     203 10.00      2.99 control\n",
      "      427     203 12.00      3.50 control\n",
      "      428     203 14.75      2.02 control\n",
      "      429     204  8.00      1.17 control\n",
      "      430     204 10.00      5.54 control\n",
      "      431     204 12.00      4.96 control\n",
      "      432     204 14.50      6.90 control\n",
      "      433     205  8.00      0.46 control\n",
      "      434     205 10.00      0.00 control\n",
      "      435     205 12.00      0.71 control\n",
      "      436     205 14.00      1.85 control\n",
      "      437     205 16.42      0.00 control\n",
      "      438     206  8.00      0.89 control\n",
      "      439     206 10.00      0.89 control\n",
      "      440     206 12.08      1.03 control\n",
      "      441    207a  8.00      0.17 control\n",
      "      442    207a 10.00      0.00 control\n",
      "      443    207a 12.00      0.87 control\n",
      "      444    207a 14.00      1.15 control\n",
      "      445    207a 16.42      2.40 control\n",
      "      446    207b  8.00      0.00 control\n",
      "      447    207b 10.00      0.29 control\n",
      "      448    207b 12.00      0.87 control\n",
      "      449    207b 15.50      0.00 control\n",
      "      450     208  8.00      0.78 control\n",
      "      451     208 10.00      0.32 control\n",
      "      452     208 12.00      0.13 control\n",
      "      453     209  8.00      1.33 control\n",
      "      454     209 10.00      1.79 control\n",
      "      455     209 12.00      1.15 control\n",
      "      456     209 15.17      1.67 control\n",
      "      457     210  8.00      1.62 control\n",
      "      458     210 10.00      2.79 control\n",
      "      459     210 12.00      2.06 control\n",
      "      460     210 14.92      0.30 control\n",
      "      461     211  8.00      0.73 control\n",
      "      462     211 10.00      0.87 control\n",
      "      463     211 13.58      2.55 control\n",
      "      464     212  8.00      0.00 control\n",
      "      465     212 10.00      2.33 control\n",
      "      466     212 12.00      1.60 control\n",
      "      467     212 14.00      7.90 control\n",
      "      468     212 16.00      6.62 control\n",
      "      469     213  8.00      2.31 control\n",
      "      470     213 10.00      2.02 control\n",
      "      471     213 12.00      3.27 control\n",
      "      472     213 15.50      1.38 control\n",
      "      473     214  8.00      3.28 control\n",
      "      474     214 10.00      3.28 control\n",
      "      475     214 12.00      3.92 control\n",
      "      476     214 14.54      5.86 control\n",
      "      477     215  8.00      2.31 control\n",
      "      478     215 10.00      4.85 control\n",
      "      479     215 12.00      4.90 control\n",
      "      480     215 15.92      9.29 control\n",
      "      481     216  8.00      0.29 control\n",
      "      482     216 10.00      3.12 control\n",
      "      483     216 13.17      0.29 control\n",
      "      484     217  8.00      0.46 control\n",
      "      485     217 10.00      0.00 control\n",
      "      486     217 13.17      0.02 control\n",
      "      487     218  8.00      0.40 control\n",
      "      488     218 10.00      0.29 control\n",
      "      489     218 12.00      0.69 control\n",
      "      490     218 14.00      0.69 control\n",
      "      491     218 16.00      0.58 control\n",
      "      492     219  8.00      1.25 control\n",
      "      493     219 10.00      1.25 control\n",
      "      494     219 12.00      1.74 control\n",
      "      495     219 14.00      1.40 control\n",
      "      496     219 15.96      0.98 control\n",
      "      497     220  8.00      1.43 control\n",
      "      498     220 10.00      1.49 control\n",
      "      499     220 12.00      1.48 control\n",
      "      500     220 15.42      4.89 control\n",
      "      501     221  8.00      1.36 control\n",
      "      502     221 10.00      4.29 control\n",
      "      503     221 12.25      6.65 control\n",
      "      504     222  8.00      1.73 control\n",
      "      505     222 11.83      1.52 control\n",
      "      506     223  8.00      1.82 control\n",
      "      507     223 10.00      5.57 control\n",
      "      508     223 13.58      1.22 control\n",
      "      509     224  8.00      0.87 control\n",
      "      510     224 10.00      2.25 control\n",
      "      511     224 12.00      2.72 control\n",
      "      512     224 14.83      3.76 control\n",
      "      513     225  8.00      1.01 control\n",
      "      514     225 10.00      2.67 control\n",
      "      515     225 12.00      1.56 control\n",
      "      516     225 14.25      2.69 control\n",
      "      517     226  8.00      0.43 control\n",
      "      518     226 10.00      1.73 control\n",
      "      519     226 12.58      0.81 control\n",
      "      520     227  8.00      4.02 control\n",
      "      521     227 10.00      0.69 control\n",
      "      522     227 13.42      1.38 control\n",
      "      523     228  8.00      0.81 control\n",
      "      524     228 10.00      0.98 control\n",
      "      525     228 12.00      1.75 control\n",
      "      526     228 14.00      0.75 control\n",
      "      527     228 17.00      2.48 control\n",
      "      528    229a  8.00      0.43 control\n",
      "      529    229a 10.00      0.43 control\n",
      "      530    229a 12.00      0.00 control\n",
      "      531    229a 14.54      1.15 control\n",
      "      532    229b  8.00      0.00 control\n",
      "      533    229b 10.00      0.58 control\n",
      "      534    229b 12.00      0.00 control\n",
      "      535    229b 14.00      0.35 control\n",
      "      536    229b 17.13      2.69 control\n",
      "      537     230  8.00      0.24 control\n",
      "      538     230 10.00      0.15 control\n",
      "      539     230 12.00      0.56 control\n",
      "      540     231  8.00      1.03 control\n",
      "      541     231 10.00      0.52 control\n",
      "      542     231 12.00      2.58 control\n",
      "      543     231 15.00      3.06 control\n",
      "      544     232  8.00      1.36 control\n",
      "      545     232 10.00      0.92 control\n",
      "      546     232 12.00      0.00 control\n",
      "      547     232 14.00      0.06 control\n",
      "      548     232 17.92      1.28 control\n",
      "      549     233  8.00      0.95 control\n",
      "      550     233 10.00      2.33 control\n",
      "      551     233 12.00      1.82 control\n",
      "      552     233 14.00      1.54 control\n",
      "      553     233 16.00      2.92 control\n",
      "      554     234  8.00      0.92 control\n",
      "      555     234 10.00      0.69 control\n",
      "      556     234 13.00      0.00 control\n",
      "      557     235  8.00      2.31 control\n",
      "      558     235 10.00      1.88 control\n",
      "      559     235 12.46      2.08 control\n",
      "      560     236  8.00      1.27 control\n",
      "      561     236 10.00      1.67 control\n",
      "      562     236 12.00      1.33 control\n",
      "      563     236 14.00      2.04 control\n",
      "      564     236 16.38      6.75 control\n",
      "      565     237  8.00      1.76 control\n",
      "      566     237 10.00      2.60 control\n",
      "      567     237 12.00      2.48 control\n",
      "      568     237 14.00      0.23 control\n",
      "      569     237 16.33      2.13 control\n",
      "      570     238  8.00      1.67 control\n",
      "      571     238 10.00      6.56 control\n",
      "      572     238 12.00      6.73 control\n",
      "      573     238 14.00      7.79 control\n",
      "      574     238 16.17      3.98 control\n",
      "      575     239  8.00      0.87 control\n",
      "      576     239 10.00      1.85 control\n",
      "      577     239 13.00      2.08 control\n",
      "      578     240  8.00      0.96 control\n",
      "      579     240 10.00      0.84 control\n",
      "      580     240 12.25      1.28 control\n",
      "      581     241  8.00      0.00 control\n",
      "      582     241 10.00      1.23 control\n",
      "      583     241 13.25      8.52 control\n",
      "      584     242  8.00      0.38 control\n",
      "      585     242 10.00      2.77 control\n",
      "      586     242 12.08      3.08 control\n",
      "      587     243  8.00      6.98 control\n",
      "      588     243 10.00     11.54 control\n",
      "      589     243 12.00      7.85 control\n",
      "      590     243 14.08      7.08 control\n",
      "      591     244  8.00      0.69 control\n",
      "      592     244 10.00      0.98 control\n",
      "      593     244 12.00      0.00 control\n",
      "      594     244 14.00      0.00 control\n",
      "      595     244 17.17      0.80 control\n",
      "      596     245  8.00      0.29 control\n",
      "      597     245 10.00      0.81 control\n",
      "      598     245 12.00      0.00 control\n",
      "      599     245 14.00      1.02 control\n",
      "      600     245 17.13      1.35 control\n",
      "      601     246  8.00      0.43 control\n",
      "      602     246 10.00      0.72 control\n",
      "      603     246 12.00      1.12 control\n",
      "      604     246 15.17      0.09 control\n",
      "      605     247  8.00      1.15 control\n",
      "      606     247 10.00      1.85 control\n",
      "      607     247 12.00      1.85 control\n",
      "      608     247 15.00      0.46 control\n",
      "      609     248  8.00      6.32 control\n",
      "      610     248 10.00      3.87 control\n",
      "      611     248 13.58      2.88 control\n",
      "      612     249  8.00      2.24 control\n",
      "      613     249 10.00      3.00 control\n",
      "      614     249 12.00      3.92 control\n",
      "      615     249 14.00      5.54 control\n",
      "      616     249 17.00      4.73 control\n",
      "      617     250  8.00      2.00 control\n",
      "      618     250 10.00      2.62 control\n",
      "      619     250 12.00      3.62 control\n",
      "      620     250 15.00      4.54 control\n",
      "      621     251  8.00      1.15 control\n",
      "      622     251 10.00      1.15 control\n",
      "      623     251 12.00      0.00 control\n",
      "      624     251 14.58      0.00 control\n",
      "      625     252  8.00      0.87 control\n",
      "      626     252 10.00      1.92 control\n",
      "      627     252 12.33      2.51 control\n",
      "      628     253  8.00      0.14 control\n",
      "      629     253 10.00      0.00 control\n",
      "      630     253 12.00      0.46 control\n",
      "      631     253 14.00      2.77 control\n",
      "      632     253 16.42      2.15 control\n",
      "      633     254  8.00      0.29 control\n",
      "      634     254 10.00      0.00 control\n",
      "      635     254 12.33      0.00 control\n",
      "      636     255  8.00      0.88 control\n",
      "      637     255 10.00      0.88 control\n",
      "      638     255 12.00      0.85 control\n",
      "      639     255 14.17      1.79 control\n",
      "      640    255b  8.00      2.02 control\n",
      "      641    255b 10.00      1.15 control\n",
      "      642    255b 12.00      2.50 control\n",
      "      643    255b 14.00      1.88 control\n",
      "      644    255b 15.92      2.02 control\n",
      "      645     256  8.00      0.48 control\n",
      "      646     256 10.00      1.51 control\n",
      "      647     256 12.00      1.51 control\n",
      "      648     256 15.00      3.92 control\n",
      "      649     257  8.00      1.68 control\n",
      "      650     257 10.00      1.74 control\n",
      "      651     257 12.00      3.93 control\n",
      "      652     257 15.83      3.12 control\n",
      "      653     258  8.00      0.95 control\n",
      "      654     258 10.00      1.41 control\n",
      "      655     258 13.50      1.31 control\n",
      "      656     259  8.00      0.00 control\n",
      "      657     259 10.00      0.46 control\n",
      "      658     259 12.00      0.00 control\n",
      "      659     259 15.75      0.17 control\n",
      "      660     260  8.00      0.79 control\n",
      "      661     260 10.00      0.73 control\n",
      "      662     260 13.92      0.00 control\n",
      "      663     261  8.00      0.05 control\n",
      "      664     261 10.00      0.05 control\n",
      "      665     261 13.92      0.90 control\n",
      "      666     262  8.00      0.14 control\n",
      "      667     262 10.00      0.72 control\n",
      "      668     262 13.25      0.14 control\n",
      "      669     263  8.00      0.58 control\n",
      "      670     263 10.00      0.58 control\n",
      "      671     263 13.25      0.00 control\n",
      "      672     264  8.00      0.43 control\n",
      "      673     264 10.00      0.34 control\n",
      "      674     264 13.58      0.20 control\n",
      "      675     265  8.00      2.19 control\n",
      "      676     265 10.00      2.15 control\n",
      "      677     265 13.83      0.29 control\n",
      "      678     266  8.00      0.17 control\n",
      "      679     266 10.00      0.29 control\n",
      "      680     266 13.50      0.00 control\n",
      "      681     267  8.00      0.33 control\n",
      "      682     267 10.00      0.46 control\n",
      "      683     267 12.00      0.00 control\n",
      "      684     267 14.42      0.00 control\n",
      "      685     268  8.00      0.49 control\n",
      "      686     268 10.00      1.04 control\n",
      "      687     268 12.00      0.63 control\n",
      "      688     268 15.75      1.49 control\n",
      "      689     269  8.00      1.33 control\n",
      "      690     269 10.00      1.98 control\n",
      "      691     269 13.17      3.04 control\n",
      "      692     270  8.00      1.49 control\n",
      "      693     270 10.00      2.45 control\n",
      "      694     270 12.00      2.18 control\n",
      "      695     270 15.33      1.01 control\n",
      "      696     271  8.00      0.00 control\n",
      "      697     271 10.00      0.00 control\n",
      "      698     271 12.00      0.35 control\n",
      "      699     271 14.25      0.35 control\n",
      "      700     272  8.00      1.25 control\n",
      "      701     272 10.00      2.57 control\n",
      "      702     272 12.75      2.44 control\n",
      "      703    273a  8.00      0.29 control\n",
      "      704    273a 10.00      0.55 control\n",
      "      705    273a 12.00      0.55 control\n",
      "      706    273a 14.50      1.64 control\n",
      "      707    273b  8.00      0.00 control\n",
      "      708    273b 10.00      1.33 control\n",
      "      709    273b 12.00      1.19 control\n",
      "      710    273b 14.00      1.35 control\n",
      "      711    273b 16.67      0.29 control\n",
      "      712     274  8.00      1.66 control\n",
      "      713     274 10.00      1.23 control\n",
      "      714     274 12.75      2.13 control\n",
      "      715     275  8.00      0.23 control\n",
      "      716     275 10.00      0.81 control\n",
      "      717     275 12.00      1.05 control\n",
      "      718     275 14.00      0.82 control\n",
      "      719     275 16.00      0.70 control\n",
      "      720     276  8.00      0.52 control\n",
      "      721     276 10.00      0.63 control\n",
      "      722     276 12.00      0.34 control\n",
      "      723     276 14.38      0.53 control\n",
      "      724     277  8.00      0.73 control\n",
      "      725     277 10.00      0.21 control\n",
      "      726     277 12.00      0.12 control\n",
      "      727     277 14.25      0.67 control\n",
      "      728     278  8.00      4.73 control\n",
      "      729     278 10.00      0.00 control\n",
      "      730     278 12.42      0.52 control\n",
      "      731    279a  8.00      1.38 control\n",
      "      732    279a 10.00      0.52 control\n",
      "      733    279a 13.08      0.80 control\n",
      "      734    279b  8.00      0.38 control\n",
      "      735    279b 10.00      0.38 control\n",
      "      736    279b 12.00      0.00 control\n",
      "      737    279b 15.50      0.00 control\n",
      "      738    280a  8.00      0.75 control\n",
      "      739    280a 10.00      1.05 control\n",
      "      740    280a 12.00      0.17 control\n",
      "      741    280a 14.92      3.37 control\n",
      "      742    280b  8.00      0.63 control\n",
      "      743    280b 10.00      1.22 control\n",
      "      744    280b 12.00      0.98 control\n",
      "      745    280b 14.00      2.63 control\n",
      "      746    280b 17.00      1.92 control\n",
      "      747     281  8.00      3.50 control\n",
      "      748     281 10.00      3.23 control\n",
      "      749     281 12.00      4.31 control\n",
      "      750     281 14.00      4.31 control\n",
      "      751     281 16.13      5.38 control\n",
      "      752     282  8.00      0.12 control\n",
      "      753     282 10.00      0.12 control\n",
      "      754     282 12.00      0.26 control\n",
      "      755     282 14.00      0.00 control\n",
      "      756     282 16.00      1.17 control\n",
      "      757     283  8.00      0.50 control\n",
      "      758     283 10.00      0.92 control\n",
      "      759     283 13.58      3.17 control\n",
      "      760     284  8.00      0.92 control\n",
      "      761     284 10.00      0.92 control\n",
      "      762     284 12.00      0.00 control\n",
      "      763     284 14.00      0.00 control\n",
      "      764     284 16.96      0.00 control\n",
      "      765     285  8.00      0.72 control\n",
      "      766     285 10.00      0.72 control\n",
      "      767     285 13.21      1.54 control\n",
      "      768     286  8.00      1.10 control\n",
      "      769     286 10.00      1.10 control\n",
      "      770     286 12.00      0.35 control\n",
      "      771     286 14.00      0.40 control\n",
      "      772     286 17.00      0.29 control\n"
>>>>>>> 1c08b7474d781a51872b307d0ac48c7908d937ad
     ]
    }
   ],
   "source": [
    "# Display the DataFrame without the index in the output\n",
<<<<<<< HEAD
    "print(data.head().to_string(index=False))\n"
   ]
  },
  {
   "cell_type": "code",
   "execution_count": 11,
   "id": "2d0d02a7",
   "metadata": {},
   "outputs": [
    {
     "data": {
      "text/plain": [
       "100    5\n",
       "302    5\n",
       "327    5\n",
       "323    5\n",
       "320    5\n",
       "      ..\n",
       "254    3\n",
       "206    3\n",
       "240    3\n",
       "168    2\n",
       "222    2\n",
       "Name: subject, Length: 231, dtype: int64"
      ]
     },
     "execution_count": 11,
     "metadata": {},
     "output_type": "execute_result"
    }
   ],
   "source": [
    "data.subject.value_counts()\n",
    "\n",
    "#change subject dtype to int"
=======
    "print(data.to_string(index=False))\n"
>>>>>>> 1c08b7474d781a51872b307d0ac48c7908d937ad
   ]
  },
  {
   "cell_type": "markdown",
   "id": "fa413e7b",
   "metadata": {},
   "source": [
    "# Data Cleaning"
   ]
  },
  {
   "cell_type": "markdown",
   "id": "c70a40ef",
   "metadata": {},
   "source": [
    "### Check for missing  values "
   ]
  },
  {
   "cell_type": "code",
<<<<<<< HEAD
   "execution_count": 12,
=======
   "execution_count": 11,
>>>>>>> 1c08b7474d781a51872b307d0ac48c7908d937ad
   "id": "7f20e071",
   "metadata": {},
   "outputs": [
    {
     "data": {
      "text/plain": [
       "rownames    0\n",
       "subject     0\n",
       "age         0\n",
       "exercise    0\n",
       "group       0\n",
       "dtype: int64"
      ]
     },
<<<<<<< HEAD
     "execution_count": 12,
=======
     "execution_count": 11,
>>>>>>> 1c08b7474d781a51872b307d0ac48c7908d937ad
     "metadata": {},
     "output_type": "execute_result"
    }
   ],
   "source": [
    "#check for missing values\n",
    "data.isnull().sum()"
   ]
  },
  {
   "cell_type": "markdown",
   "id": "8bd7db8e",
   "metadata": {},
   "source": [
<<<<<<< HEAD
    "From our observation above, our dataset does not have any missing values."
=======
    "From our observation above, our dataset does not hae any missing values."
>>>>>>> 1c08b7474d781a51872b307d0ac48c7908d937ad
   ]
  },
  {
   "cell_type": "code",
<<<<<<< HEAD
   "execution_count": 13,
=======
   "execution_count": 12,
>>>>>>> 1c08b7474d781a51872b307d0ac48c7908d937ad
   "id": "e7260e39",
   "metadata": {},
   "outputs": [
    {
     "data": {
      "text/plain": [
       "0"
      ]
     },
<<<<<<< HEAD
     "execution_count": 13,
=======
     "execution_count": 12,
>>>>>>> 1c08b7474d781a51872b307d0ac48c7908d937ad
     "metadata": {},
     "output_type": "execute_result"
    }
   ],
   "source": [
    "#checking if our dataset has any duplicates\n",
    "data.duplicated().sum()"
   ]
  },
  {
   "cell_type": "markdown",
   "id": "26e6e0e9",
   "metadata": {},
   "source": [
    "Our dataset does not have any duplicated values. It is neccessary to check for duplicates to ensure our dataset is clean and avoid any misleading information"
   ]
  },
  {
   "cell_type": "markdown",
   "id": "7e797316",
   "metadata": {},
   "source": [
    "### Check for Outliers"
   ]
  },
  {
   "cell_type": "code",
<<<<<<< HEAD
   "execution_count": 14,
=======
   "execution_count": 13,
>>>>>>> 1c08b7474d781a51872b307d0ac48c7908d937ad
   "id": "b6bce065",
   "metadata": {},
   "outputs": [
    {
     "data": {
      "image/png": "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\n",
      "text/plain": [
       "<Figure size 432x288 with 1 Axes>"
      ]
     },
     "metadata": {
      "needs_background": "light"
     },
     "output_type": "display_data"
    },
    {
     "data": {
      "image/png": "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\n",
      "text/plain": [
       "<Figure size 432x288 with 1 Axes>"
      ]
     },
     "metadata": {
      "needs_background": "light"
     },
     "output_type": "display_data"
    },
    {
     "data": {
      "image/png": "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\n",
      "text/plain": [
       "<Figure size 432x288 with 1 Axes>"
      ]
     },
     "metadata": {
      "needs_background": "light"
     },
     "output_type": "display_data"
    }
   ],
   "source": [
    "import seaborn as sns\n",
    "import matplotlib.pyplot as plt\n",
    "\n",
    "for column in data.select_dtypes(include=['float64', 'int64']).columns:\n",
    "    sns.boxplot(data=data, x=column)\n",
    "    plt.title(f'Boxplot for {column}')\n",
    "    plt.show()\n"
   ]
  },
  {
   "cell_type": "markdown",
   "id": "27f764e7",
   "metadata": {},
   "source": [
<<<<<<< HEAD
    "The 'exercise' column seems to have outliers, and if not dealth with, it can lead to misinterpretation of results"
   ]
  },
  {
   "cell_type": "markdown",
   "id": "33e48151",
   "metadata": {},
   "source": [
    "Calculate the interquartile range (to define and identify outliers in the exercise"
=======
    "The 'exercise' column seems to have outliers"
>>>>>>> 1c08b7474d781a51872b307d0ac48c7908d937ad
   ]
  },
  {
   "cell_type": "code",
<<<<<<< HEAD
   "execution_count": 15,
=======
   "execution_count": 14,
>>>>>>> 1c08b7474d781a51872b307d0ac48c7908d937ad
   "id": "86547e0f",
   "metadata": {},
   "outputs": [
    {
     "name": "stdout",
     "output_type": "stream",
     "text": [
      "Number of outliers: 83\n"
     ]
    }
   ],
   "source": [
    "import pandas as pd\n",
    "\n",
    "# Calculate IQR\n",
    "Q1 = data['exercise'].quantile(0.25)  # 25th percentile\n",
    "Q3 = data['exercise'].quantile(0.75)  # 75th percentile\n",
    "IQR = Q3 - Q1  # Interquartile Range\n",
    "\n",
    "# Define bounds for outliers\n",
    "lower_bound = Q1 - 1.5 * IQR\n",
    "upper_bound = Q3 + 1.5 * IQR\n",
    "\n",
    "# Identify outliers\n",
    "outliers = data[(data['exercise'] < lower_bound) | (data['exercise'] > upper_bound)]\n",
    "print(f\"Number of outliers: {outliers.shape[0]}\")\n"
   ]
  },
  {
   "cell_type": "markdown",
   "id": "d688e7da",
   "metadata": {},
   "source": [
    "Our dataset only has 83 outliers. Removing the outliers will not significantly affect our dataset"
   ]
  },
  {
   "cell_type": "code",
<<<<<<< HEAD
   "execution_count": 16,
=======
   "execution_count": 15,
>>>>>>> 1c08b7474d781a51872b307d0ac48c7908d937ad
   "id": "a3a5f6b7",
   "metadata": {},
   "outputs": [
    {
     "name": "stdout",
     "output_type": "stream",
     "text": [
      "Dataframe size after removing outliers: (862, 5)\n"
     ]
    }
   ],
   "source": [
    "data_cleaned = data[(data['exercise'] >= lower_bound) & (data['exercise'] <= upper_bound)]\n",
    "print(f\"Dataframe size after removing outliers: {data_cleaned.shape}\")\n"
   ]
  },
  {
   "cell_type": "markdown",
   "id": "58bc4022",
   "metadata": {},
   "source": [
    "The shape of our dataset changes after removing the 83 outliers\n",
    "\n",
    "The number of rows changes from 945 to 862\n",
    "\n",
    "The number of columns remains the same"
   ]
  },
  {
   "cell_type": "code",
<<<<<<< HEAD
   "execution_count": 17,
=======
   "execution_count": 16,
>>>>>>> 1c08b7474d781a51872b307d0ac48c7908d937ad
   "id": "89098666",
   "metadata": {},
   "outputs": [
    {
     "name": "stdout",
     "output_type": "stream",
     "text": [
      "Number of outliers after removal: 0\n"
     ]
    }
   ],
   "source": [
    "#checking the number of outliers after remmoving the outliers\n",
    "outliers_after_removal = data_cleaned[(data_cleaned['exercise'] < lower_bound) | (data_cleaned['exercise'] > upper_bound)]\n",
    "print(f\"Number of outliers after removal: {outliers_after_removal.shape[0]}\")\n"
   ]
  },
  {
   "cell_type": "code",
<<<<<<< HEAD
   "execution_count": 18,
=======
   "execution_count": 17,
>>>>>>> 1c08b7474d781a51872b307d0ac48c7908d937ad
   "id": "b00db012",
   "metadata": {},
   "outputs": [
    {
     "data": {
      "text/plain": [
       "(862, 5)"
      ]
     },
<<<<<<< HEAD
     "execution_count": 18,
=======
     "execution_count": 17,
>>>>>>> 1c08b7474d781a51872b307d0ac48c7908d937ad
     "metadata": {},
     "output_type": "execute_result"
    }
   ],
   "source": [
    "#checking the shape of our dataset after removing outliers\n",
    "data_cleaned.shape"
   ]
  },
  {
   "cell_type": "markdown",
   "id": "3c023964",
   "metadata": {},
   "source": [
    "# Exploratory Data Analysis"
   ]
  },
  {
   "cell_type": "markdown",
<<<<<<< HEAD
   "id": "4bbe7c6d",
   "metadata": {},
   "source": [
    "# Visualization"
   ]
  },
  {
   "cell_type": "markdown",
=======
>>>>>>> 1c08b7474d781a51872b307d0ac48c7908d937ad
   "id": "b7f3fd3e",
   "metadata": {},
   "source": [
    "## Univariate Analysis"
   ]
  },
  {
   "cell_type": "markdown",
   "id": "f66d7716",
   "metadata": {},
   "source": [
<<<<<<< HEAD
    "#### Visual Representation for the columns  Age, Exercise"
=======
    "rownames', 'subject', 'age', 'exercise', 'group'"
>>>>>>> 1c08b7474d781a51872b307d0ac48c7908d937ad
   ]
  },
  {
   "cell_type": "code",
<<<<<<< HEAD
   "execution_count": 19,
   "id": "c6b55be7",
   "metadata": {},
   "outputs": [],
   "source": [
    "# #histogram\n",
    "# # import pandas as pd\n",
    "# import seaborn as sns\n",
    "# import matplotlib.pyplot as plt\n",
    "\n",
    "\n",
    "# # Plot histograms for numerical columns\n",
    "# numerical_columns = ['subject']\n",
    "# for col in numerical_columns:\n",
    "#     data_cleaned[col].plot(kind='hist', bins=20, alpha=0.7, title=f'Histogram for {col}')\n",
    "#     plt.xlabel(col)\n",
    "#     plt.ylabel('Frequency')\n",
    "#     plt.show()\n"
   ]
  },
  {
   "cell_type": "code",
   "execution_count": 20,
=======
   "execution_count": 18,
>>>>>>> 1c08b7474d781a51872b307d0ac48c7908d937ad
   "id": "ee0ece3e",
   "metadata": {},
   "outputs": [
    {
     "data": {
<<<<<<< HEAD
=======
      "image/png": "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\n",
      "text/plain": [
       "<Figure size 432x288 with 1 Axes>"
      ]
     },
     "metadata": {
      "needs_background": "light"
     },
     "output_type": "display_data"
    },
    {
     "data": {
>>>>>>> 1c08b7474d781a51872b307d0ac48c7908d937ad
      "image/png": "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\n",
      "text/plain": [
       "<Figure size 432x288 with 1 Axes>"
      ]
     },
     "metadata": {
      "needs_background": "light"
     },
     "output_type": "display_data"
    },
    {
     "data": {
      "image/png": "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\n",
      "text/plain": [
       "<Figure size 432x288 with 1 Axes>"
      ]
     },
     "metadata": {
      "needs_background": "light"
     },
     "output_type": "display_data"
    }
   ],
   "source": [
    "import pandas as pd\n",
    "import seaborn as sns\n",
    "import matplotlib.pyplot as plt\n",
    "\n",
    "\n",
    "# Plot histograms for numerical columns\n",
<<<<<<< HEAD
    "numerical_columns = ['age', 'exercise']\n",
=======
    "numerical_columns = ['rownames', 'age', 'exercise']\n",
>>>>>>> 1c08b7474d781a51872b307d0ac48c7908d937ad
    "for col in numerical_columns:\n",
    "    data_cleaned[col].plot(kind='hist', bins=20, alpha=0.7, title=f'Histogram for {col}')\n",
    "    plt.xlabel(col)\n",
    "    plt.ylabel('Frequency')\n",
    "    plt.show()\n"
   ]
  },
  {
<<<<<<< HEAD
   "cell_type": "markdown",
   "id": "2eccd915",
   "metadata": {},
   "source": [
    "High Frequency in Specific Age Groups:\n",
    "\n",
    "The first two age groups (younger ages) have the highest frequencies, suggesting these age groups dominate the dataset.\n",
    "Decreasing Frequency with Age:\n",
    "\n",
    "As age increases, the frequency drops significantly, meaning there are fewer individuals in the older age groups.\n",
    "Skewed Distribution:\n",
    "\n",
    "The distribution is  right-skewed, with the majority of individuals concentrated in the younger age groups and fewer as age increases.\n",
    "\n",
    "\n",
    "\n",
    "\n",
    "\n",
    "High Frequency in Young Ages:\n",
    "\n",
    "The first bar (representing the youngest age group) has the highest frequency, indicating that most individuals are in this age range.\n",
    "Steady Decline:\n",
    "\n",
    "As age increases, the frequency steadily decreases, forming a downward-sloping distribution.\n",
    "This suggests that older age groups become progressively less frequent in the dataset.\n",
    "Right-Skewed Distribution:\n",
    "\n",
    "This graph shows a classic right-skewed distribution, where the data is concentrated in younger ages and thins out as age increases."
   ]
  },
  {
   "cell_type": "code",
   "execution_count": 21,
=======
   "cell_type": "code",
   "execution_count": 19,
>>>>>>> 1c08b7474d781a51872b307d0ac48c7908d937ad
   "id": "da8fbe6a",
   "metadata": {},
   "outputs": [
    {
     "data": {
      "image/png": "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\n",
      "text/plain": [
       "<Figure size 432x288 with 1 Axes>"
      ]
     },
     "metadata": {
      "needs_background": "light"
     },
     "output_type": "display_data"
    }
   ],
   "source": [
    "# Bar plots for categorical variables\n",
    "categorical_columns = ['group']\n",
    "for col in categorical_columns:\n",
    "    data_cleaned[col].value_counts().plot(kind='bar', alpha=0.7, title=f'Bar Plot of {col}')\n",
    "    plt.xlabel(col)\n",
    "    plt.ylabel('Frequency')\n",
    "    plt.show()\n"
   ]
  },
  {
   "cell_type": "markdown",
<<<<<<< HEAD
   "id": "8c251442",
=======
   "id": "f0705b04",
>>>>>>> 1c08b7474d781a51872b307d0ac48c7908d937ad
   "metadata": {},
   "source": [
    "In our dataset, there are two distinct groups i.e patient and control\n",
    " whether a subject belongs to the control group (healthy) or the patient group (with a condition) "
   ]
  },
  {
   "cell_type": "code",
<<<<<<< HEAD
   "execution_count": 22,
=======
   "execution_count": 20,
>>>>>>> 1c08b7474d781a51872b307d0ac48c7908d937ad
   "id": "5666f5db",
   "metadata": {},
   "outputs": [
    {
     "data": {
      "image/png": "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\n",
      "text/plain": [
       "<Figure size 432x288 with 1 Axes>"
      ]
     },
     "metadata": {
      "needs_background": "light"
     },
     "output_type": "display_data"
    }
   ],
   "source": [
    "# Bar plots for categorical variables\n",
    "top_categories = data['subject'].value_counts().nlargest(10)\n",
    "top_categories.plot(kind='bar', alpha=0.7)\n",
    "plt.title('Top 10 Categories of Subject')\n",
    "plt.xlabel('Subject')\n",
    "plt.ylabel('Frequency')\n",
    "plt.show()\n"
   ]
  },
  {
   "cell_type": "markdown",
<<<<<<< HEAD
   "id": "f1933e54",
   "metadata": {},
   "source": [
    "Each age group (x-axis) has the same frequency (y-axis), indicating that the data is evenly distributed across all age groups."
   ]
  },
  {
   "cell_type": "markdown",
=======
>>>>>>> 1c08b7474d781a51872b307d0ac48c7908d937ad
   "id": "4e943ed2",
   "metadata": {},
   "source": [
    "## Bivariate Analysis"
   ]
  },
  {
   "cell_type": "markdown",
   "id": "048d8a1c",
   "metadata": {},
   "source": [
    "### Age vs Exercise"
   ]
  },
  {
   "cell_type": "code",
<<<<<<< HEAD
   "execution_count": 23,
=======
   "execution_count": 21,
>>>>>>> 1c08b7474d781a51872b307d0ac48c7908d937ad
   "id": "725ac2a5",
   "metadata": {},
   "outputs": [
    {
     "data": {
      "image/png": "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\n",
      "text/plain": [
       "<Figure size 1296x864 with 1 Axes>"
      ]
     },
     "metadata": {
      "needs_background": "light"
     },
     "output_type": "display_data"
    }
   ],
   "source": [
    "import seaborn as sns\n",
    "import matplotlib.pyplot as plt\n",
    "\n",
    "\n",
    "# Grouping by age and calculating mean exercise\n",
    "age_grouped = data_cleaned.groupby('age')['exercise'].mean()\n",
    "\n",
    "# Set the figure size\n",
    "plt.figure(figsize=(18, 12))\n",
    "\n",
    "# Bar plot for mean exercise per age\n",
    "age_grouped.plot(kind='bar', color='blue', alpha=0.7)\n",
    "\n",
    "# Adding plot title and labels\n",
    "plt.title('Bar Plot: Average Exercise by Age', fontsize=16)\n",
    "plt.xlabel('Age', fontsize=14)\n",
    "plt.ylabel('Average Exercise', fontsize=14)\n",
    "\n",
    "# Show the plot\n",
    "plt.show()\n"
   ]
  },
  {
   "cell_type": "markdown",
   "id": "aa156fc4",
   "metadata": {},
   "source": [
    "rownames', 'subject', 'age', 'exercise', 'group'"
   ]
  },
  {
   "cell_type": "code",
<<<<<<< HEAD
   "execution_count": 24,
=======
   "execution_count": 22,
>>>>>>> 1c08b7474d781a51872b307d0ac48c7908d937ad
   "id": "52a6bb6f",
   "metadata": {},
   "outputs": [
    {
     "name": "stdout",
     "output_type": "stream",
     "text": [
      "group    control  patient\n",
      "subject                  \n",
      "100            0        4\n",
      "101            0        5\n",
      "102            0        3\n",
      "103            0        4\n",
      "104            0        3\n"
     ]
    }
   ],
   "source": [
    "import seaborn as sns\n",
    "import matplotlib.pyplot as plt\n",
    "\n",
    "\n",
    "# Cross-tabulation\n",
    "cross_tab = pd.crosstab(data_cleaned['subject'], data_cleaned['group'])\n",
    "print(cross_tab.head())\n"
   ]
  },
  {
<<<<<<< HEAD
   "cell_type": "markdown",
   "id": "c0e4c546",
   "metadata": {},
   "source": [
    "This data shows two groups (control and patient) with their respective scores or counts for different subjects \n",
    "\n",
    "Table Breakdown:\n",
    "Columns:\n",
    "\n",
    "Control: Values are all 0, indicating no response in this group for all subjects.\n",
    "Patient: Values range from 3 to 5, indicating some level ofresponse for these subjects.\n",
    "Index (Subject):\n",
    "\n",
    "These are identifiers for individuals. For example, Subject 100, 101, etc.\n",
    "\n",
    "This could represent data from an experiment or study where:\n",
    "    \n",
    "Control group: Received no treatment or intervention, resulting in a 0 for all subjects.\n",
    "    \n",
    "Patient group: Represents individuals who received some treatment or intervention, resulting in measurable outcomes."
   ]
  },
  {
   "cell_type": "code",
   "execution_count": 25,
=======
   "cell_type": "code",
   "execution_count": 23,
>>>>>>> 1c08b7474d781a51872b307d0ac48c7908d937ad
   "id": "50ae3e84",
   "metadata": {},
   "outputs": [
    {
     "data": {
<<<<<<< HEAD
      "image/png": "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\n",
=======
      "image/png": "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\n",
>>>>>>> 1c08b7474d781a51872b307d0ac48c7908d937ad
      "text/plain": [
       "<Figure size 432x288 with 2 Axes>"
      ]
     },
     "metadata": {
      "needs_background": "light"
     },
     "output_type": "display_data"
    }
   ],
   "source": [
    "# Correlation matrix\n",
<<<<<<< HEAD
    "correlation_matrix = data_cleaned[['subject', 'age', 'exercise']].corr()\n",
=======
    "correlation_matrix = data_cleaned[['rownames', 'age', 'exercise']].corr()\n",
>>>>>>> 1c08b7474d781a51872b307d0ac48c7908d937ad
    "sns.heatmap(correlation_matrix, annot=True, cmap='coolwarm', fmt=\".2f\", cbar=True)\n",
    "plt.title('Correlation Heatmap')\n",
    "plt.show()\n"
   ]
  },
  {
   "cell_type": "code",
<<<<<<< HEAD
=======
   "execution_count": 24,
   "id": "bfb13eab",
   "metadata": {},
   "outputs": [
    {
     "data": {
      "image/png": "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\n",
      "text/plain": [
       "<Figure size 432x288 with 1 Axes>"
      ]
     },
     "metadata": {
      "needs_background": "light"
     },
     "output_type": "display_data"
    }
   ],
   "source": [
    "# Box plot for exercise by group\n",
    "sns.boxplot(x='group', y='exercise', data=data_cleaned, palette='Set2')\n",
    "plt.title('Box Plot: Exercise by Group')\n",
    "plt.xlabel('Group')\n",
    "plt.ylabel('Exercise')\n",
    "plt.show()\n"
   ]
  },
  {
   "cell_type": "code",
   "execution_count": 25,
   "id": "28400479",
   "metadata": {},
   "outputs": [
    {
     "data": {
      "image/png": "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\n",
      "text/plain": [
       "<Figure size 432x288 with 1 Axes>"
      ]
     },
     "metadata": {
      "needs_background": "light"
     },
     "output_type": "display_data"
    }
   ],
   "source": [
    "# Grouping by 'group' and calculating the mean exercise\n",
    "grouped_data = data_cleaned.groupby('group')['exercise'].mean()\n",
    "\n",
    "# Bar chart\n",
    "grouped_data.plot(kind='bar', color='skyblue', alpha=0.8)\n",
    "plt.title('Average Exercise by Group')\n",
    "plt.xlabel('Group')\n",
    "plt.ylabel('Average Exercise')\n",
    "plt.xticks(rotation=0)\n",
    "plt.show()\n"
   ]
  },
  {
   "cell_type": "code",
>>>>>>> 1c08b7474d781a51872b307d0ac48c7908d937ad
   "execution_count": 26,
   "id": "88c6d3b8",
   "metadata": {},
   "outputs": [
    {
     "data": {
      "image/png": "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\n",
      "text/plain": [
       "<Figure size 432x288 with 1 Axes>"
      ]
     },
     "metadata": {
      "needs_background": "light"
     },
     "output_type": "display_data"
    }
   ],
   "source": [
    "# Grouping by 'group' and calculating the mean age\n",
    "grouped_age = data_cleaned.groupby('group')['age'].mean()\n",
    "\n",
    "# Bar chart\n",
    "grouped_age.plot(kind='bar', color='orange', alpha=0.8)\n",
    "plt.title('Average Age by Group')\n",
    "plt.xlabel('Group')\n",
    "plt.ylabel('Average Age')\n",
    "plt.xticks(rotation=0)\n",
    "plt.show()\n"
   ]
  },
  {
<<<<<<< HEAD
   "cell_type": "markdown",
   "id": "d6520811",
   "metadata": {},
   "source": [
    "The average age for both the control group and the patient group is around 12 years"
   ]
  },
  {
=======
>>>>>>> 1c08b7474d781a51872b307d0ac48c7908d937ad
   "cell_type": "code",
   "execution_count": 27,
   "id": "f54249a1",
   "metadata": {},
   "outputs": [
    {
     "data": {
      "image/png": "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\n",
      "text/plain": [
       "<Figure size 432x288 with 1 Axes>"
      ]
     },
     "metadata": {
      "needs_background": "light"
     },
     "output_type": "display_data"
    }
   ],
   "source": [
    "# Grouping by 'group' and summing up exercise\n",
    "total_exercise = data_cleaned.groupby('group')['exercise'].sum()\n",
    "\n",
    "# Bar chart\n",
    "total_exercise.plot(kind='bar', color='green', alpha=0.8)\n",
    "plt.title('Total Exercise by Group')\n",
    "plt.xlabel('Group')\n",
    "plt.ylabel('Total Exercise')\n",
    "plt.xticks(rotation=0)\n",
    "plt.show()\n"
   ]
  },
  {
<<<<<<< HEAD
   "cell_type": "markdown",
   "id": "c16db777",
   "metadata": {},
   "source": [
    "The control group engages in less exercise activity compared to the patient group, which has a total of approximately 900 and the control group with a total of 500"
   ]
  },
  {
=======
>>>>>>> 1c08b7474d781a51872b307d0ac48c7908d937ad
   "cell_type": "code",
   "execution_count": 28,
   "id": "70d6eae1",
   "metadata": {},
   "outputs": [
    {
     "data": {
      "image/png": "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\n",
      "text/plain": [
       "<Figure size 432x288 with 1 Axes>"
      ]
     },
     "metadata": {
      "needs_background": "light"
     },
     "output_type": "display_data"
    }
   ],
   "source": [
    "# Cross-tabulation of subject vs group\n",
    "cross_tab = pd.crosstab(data_cleaned['subject'], data_cleaned['group'])\n",
    "\n",
    "# Summing across rows for each group\n",
    "subject_counts = cross_tab.sum()\n",
    "\n",
    "# Bar chart\n",
    "subject_counts.plot(kind='bar', color=['blue', 'red'], alpha=0.8)\n",
    "plt.title('Frequency of Subjects in Each Group')\n",
    "plt.xlabel('Group')\n",
    "plt.ylabel('Number of Subjects')\n",
    "plt.xticks(rotation=0)\n",
    "plt.show()\n"
   ]
  },
  {
<<<<<<< HEAD
   "cell_type": "markdown",
   "id": "19a094f2",
   "metadata": {},
   "source": [
    "The control group has around 350  subjects, where as the patient group has around 500 subjects."
   ]
  },
  {
   "cell_type": "markdown",
   "id": "5e896ceb",
   "metadata": {},
   "source": [
    "# Data Preprocessing"
   ]
  },
  {
   "cell_type": "markdown",
   "id": "66c0fd3a",
   "metadata": {},
   "source": [
    "Data Spliting into Training and Testing"
   ]
  },
  {
   "cell_type": "markdown",
   "id": "9d8609d0",
   "metadata": {},
   "source": [
    "Data splitting invloves dividing the dataset into separate subsets for training and evaluation. The primary goal is to assess how well a model generalizes to unseen data."
   ]
  },
  {
   "cell_type": "code",
   "execution_count": 50,
   "id": "65ca9bb0",
   "metadata": {},
   "outputs": [],
   "source": [
    "#encoding-- group(control,patient)\n",
    "#one hot encoding "
   ]
  },
  {
   "cell_type": "code",
   "execution_count": 29,
=======
   "cell_type": "code",
   "execution_count": 29,
   "id": "b5011c44",
   "metadata": {},
   "outputs": [
    {
     "data": {
      "text/html": [
       "<div>\n",
       "<style scoped>\n",
       "    .dataframe tbody tr th:only-of-type {\n",
       "        vertical-align: middle;\n",
       "    }\n",
       "\n",
       "    .dataframe tbody tr th {\n",
       "        vertical-align: top;\n",
       "    }\n",
       "\n",
       "    .dataframe thead th {\n",
       "        text-align: right;\n",
       "    }\n",
       "</style>\n",
       "<table border=\"1\" class=\"dataframe\">\n",
       "  <thead>\n",
       "    <tr style=\"text-align: right;\">\n",
       "      <th></th>\n",
       "      <th>rownames</th>\n",
       "      <th>age</th>\n",
       "      <th>exercise</th>\n",
       "    </tr>\n",
       "  </thead>\n",
       "  <tbody>\n",
       "    <tr>\n",
       "      <th>rownames</th>\n",
       "      <td>1.000000</td>\n",
       "      <td>-0.000613</td>\n",
       "      <td>-0.042216</td>\n",
       "    </tr>\n",
       "    <tr>\n",
       "      <th>age</th>\n",
       "      <td>-0.000613</td>\n",
       "      <td>1.000000</td>\n",
       "      <td>0.222541</td>\n",
       "    </tr>\n",
       "    <tr>\n",
       "      <th>exercise</th>\n",
       "      <td>-0.042216</td>\n",
       "      <td>0.222541</td>\n",
       "      <td>1.000000</td>\n",
       "    </tr>\n",
       "  </tbody>\n",
       "</table>\n",
       "</div>"
      ],
      "text/plain": [
       "          rownames       age  exercise\n",
       "rownames  1.000000 -0.000613 -0.042216\n",
       "age      -0.000613  1.000000  0.222541\n",
       "exercise -0.042216  0.222541  1.000000"
      ]
     },
     "execution_count": 29,
     "metadata": {},
     "output_type": "execute_result"
    }
   ],
   "source": [
    "import seaborn as sns\n",
    "import matplotlib.pyplot as plt\n",
    "\n",
    "# Correlation matrix\n",
    "corr_matrix = data_cleaned.corr()\n",
    "corr_matrix\n",
    "# # Plot heatmap\n",
    "# plt.figure(figsize=(8, 6))\n",
    "# sns.heatmap(corr_matrix, annot=True, cmap='coolwarm', fmt='.2f')\n",
    "# plt.title('Correlation Matrix')\n",
    "# plt.show()\n",
    "\n"
   ]
  },
  {
   "cell_type": "code",
   "execution_count": 30,
>>>>>>> 1c08b7474d781a51872b307d0ac48c7908d937ad
   "id": "c7f7416e",
   "metadata": {},
   "outputs": [],
   "source": [
    "from sklearn.model_selection import train_test_split\n",
    "\n",
    "# Split the data\n",
    "X = data_cleaned[['age', 'exercise']]  # Features\n",
    "y = data_cleaned['group']  # Target\n",
    "X_train, X_test, y_train, y_test = train_test_split(X, y, test_size=0.2, random_state=42)\n"
   ]
  },
  {
<<<<<<< HEAD
   "cell_type": "markdown",
   "id": "7c9d2942",
   "metadata": {},
   "source": [
    "### Baseline Model Logistic Regression Model"
   ]
  },
  {
   "cell_type": "code",
   "execution_count": 30,
=======
   "cell_type": "code",
   "execution_count": 34,
>>>>>>> 1c08b7474d781a51872b307d0ac48c7908d937ad
   "id": "833d7a40",
   "metadata": {},
   "outputs": [],
   "source": [
    "from sklearn.linear_model import LogisticRegression\n",
    "\n",
    "# Train the model\n",
    "model = LogisticRegression()\n",
    "model.fit(X_train, y_train)\n",
    "\n",
    "# Predict on test data\n",
    "y_pred = model.predict(X_test)"
   ]
  },
  {
   "cell_type": "code",
<<<<<<< HEAD
   "execution_count": 31,
=======
   "execution_count": 32,
>>>>>>> 1c08b7474d781a51872b307d0ac48c7908d937ad
   "id": "a7689a92",
   "metadata": {},
   "outputs": [
    {
     "name": "stdout",
     "output_type": "stream",
     "text": [
      "Accuracy: 0.58\n"
     ]
    },
    {
     "data": {
      "image/png": "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\n",
      "text/plain": [
       "<Figure size 432x288 with 2 Axes>"
      ]
     },
     "metadata": {
      "needs_background": "light"
     },
     "output_type": "display_data"
    },
    {
     "name": "stdout",
     "output_type": "stream",
     "text": [
      "              precision    recall  f1-score   support\n",
      "\n",
      "     control       0.50      0.01      0.03        73\n",
      "     patient       0.58      0.99      0.73       100\n",
      "\n",
      "    accuracy                           0.58       173\n",
      "   macro avg       0.54      0.50      0.38       173\n",
      "weighted avg       0.55      0.58      0.43       173\n",
      "\n"
     ]
    }
   ],
   "source": [
    "from sklearn.metrics import accuracy_score, confusion_matrix, classification_report\n",
    "\n",
    "# Accuracy\n",
    "accuracy = accuracy_score(y_test, y_pred)\n",
    "print(f'Accuracy: {accuracy:.2f}')\n",
    "\n",
    "# Confusion Matrix\n",
    "conf_matrix = confusion_matrix(y_test, y_pred)\n",
    "sns.heatmap(conf_matrix, annot=True, fmt='d', cmap='Blues')\n",
    "plt.title('Confusion Matrix')\n",
    "plt.xlabel('Predicted')\n",
    "plt.ylabel('Actual')\n",
    "plt.show()\n",
    "\n",
    "# Classification Report\n",
    "print(classification_report(y_test, y_pred))\n"
   ]
  },
  {
<<<<<<< HEAD
   "cell_type": "markdown",
   "id": "46aba738",
   "metadata": {},
   "source": [
    "The model performs much better on the \"patient\" class (high recall) than on the \"control\" class, which it struggles to identify (low recall).\n",
    "\n",
    "The overall accuracy (58%) is largely driven by the model's success in predicting \"patient\" instances, but the poor performance on the \"control\" class significantly lowers the F1-scores and balance of the model.\n",
    "\n",
    "This imbalance might indicate a need to improve the model's ability to handle the minority class (\"control\"), possibly through techniques like class weighting, oversampling, or fine-tuning."
   ]
  },
  {
   "cell_type": "markdown",
   "id": "cc094283",
   "metadata": {},
   "source": [
    "#### Handling Class Imbalance using SMOTE"
   ]
  },
  {
   "cell_type": "code",
   "execution_count": 32,
   "id": "dc64966d",
=======
   "cell_type": "code",
   "execution_count": 35,
   "id": "db9af546",
>>>>>>> 1c08b7474d781a51872b307d0ac48c7908d937ad
   "metadata": {},
   "outputs": [
    {
     "name": "stdout",
     "output_type": "stream",
     "text": [
<<<<<<< HEAD
      "Class distribution before SMOTE: Counter({'patient': 411, 'control': 278})\n",
      "Class distribution after SMOTE: Counter({'patient': 411, 'control': 411})\n"
     ]
    },
    {
     "data": {
      "image/png": "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\n",
      "text/plain": [
       "<Figure size 864x360 with 2 Axes>"
      ]
     },
     "metadata": {
      "needs_background": "light"
     },
     "output_type": "display_data"
    }
   ],
   "source": [
    "# Import necessary libraries\n",
    "from imblearn.over_sampling import SMOTE\n",
    "from collections import Counter\n",
    "\n",
    "# Check the class distribution before SMOTE\n",
    "print(\"Class distribution before SMOTE:\", Counter(y_train))\n",
    "\n",
    "# Apply SMOTE to the training data\n",
    "smote = SMOTE(random_state=42)\n",
    "X_resampled, y_resampled = smote.fit_resample(X_train, y_train)\n",
    "\n",
    "# Check the class distribution after SMOTE\n",
    "print(\"Class distribution after SMOTE:\", Counter(y_resampled))\n",
    "\n",
    "# Optional: Visualize the class distributions before and after SMOTE\n",
    "def plot_class_distribution(y_train, y_resampled):\n",
    "    fig, ax = plt.subplots(1, 2, figsize=(12, 5))\n",
    "\n",
    "    # Original class distribution\n",
    "    ax[0].bar(Counter(y_train).keys(), Counter(y_train).values(), color='#a63603')\n",
    "    ax[0].set_title('Class Distribution Before SMOTE')\n",
    "    ax[0].set_xlabel('Classes')\n",
    "    ax[0].set_ylabel('Number of Instances')\n",
    "\n",
    "    # Resampled class distribution\n",
    "    ax[1].bar(Counter(y_resampled).keys(), Counter(y_resampled).values(), color='#fd8d3c')\n",
    "    ax[1].set_title('Class Distribution After SMOTE')\n",
    "    ax[1].set_xlabel('Classes')\n",
    "    ax[1].set_ylabel('Number of Instances')\n",
    "\n",
    "    plt.tight_layout()\n",
    "    plt.show()\n",
    "\n",
    "# Call the plotting function to visualize class distributions\n",
    "plot_class_distribution(y_train, y_resampled)"
   ]
  },
  {
   "cell_type": "markdown",
   "id": "01be9fef",
   "metadata": {},
   "source": [
    "# Modeling"
   ]
  },
  {
   "cell_type": "code",
   "execution_count": 33,
   "id": "1f5df1af",
   "metadata": {},
   "outputs": [
    {
     "name": "stdout",
     "output_type": "stream",
     "text": [
      "Decision Tree Results:\n",
      "              precision    recall  f1-score   support\n",
      "\n",
      "     control       0.58      0.63      0.60        84\n",
      "     patient       0.58      0.52      0.55        81\n",
      "\n",
      "    accuracy                           0.58       165\n",
      "   macro avg       0.58      0.57      0.57       165\n",
      "weighted avg       0.58      0.58      0.57       165\n",
      "\n",
      "Random Forest Results:\n",
      "              precision    recall  f1-score   support\n",
      "\n",
      "     control       0.58      0.56      0.57        84\n",
      "     patient       0.56      0.58      0.57        81\n",
      "\n",
      "    accuracy                           0.57       165\n",
      "   macro avg       0.57      0.57      0.57       165\n",
      "weighted avg       0.57      0.57      0.57       165\n",
      "\n",
      "K-Nearest Neighbors Results:\n",
      "              precision    recall  f1-score   support\n",
      "\n",
      "     control       0.62      0.56      0.59        84\n",
      "     patient       0.58      0.64      0.61        81\n",
      "\n",
      "    accuracy                           0.60       165\n",
      "   macro avg       0.60      0.60      0.60       165\n",
      "weighted avg       0.60      0.60      0.60       165\n",
      "\n",
      "Logistic Regression Results:\n",
      "              precision    recall  f1-score   support\n",
      "\n",
      "     control       0.57      0.52      0.55        84\n",
      "     patient       0.55      0.59      0.57        81\n",
      "\n",
      "    accuracy                           0.56       165\n",
      "   macro avg       0.56      0.56      0.56       165\n",
      "weighted avg       0.56      0.56      0.56       165\n",
=======
      "Decision Tree Accuracy: 0.53\n",
      "              precision    recall  f1-score   support\n",
      "\n",
      "     control       0.44      0.42      0.43        73\n",
      "     patient       0.59      0.60      0.59       100\n",
      "\n",
      "    accuracy                           0.53       173\n",
      "   macro avg       0.51      0.51      0.51       173\n",
      "weighted avg       0.52      0.53      0.53       173\n",
>>>>>>> 1c08b7474d781a51872b307d0ac48c7908d937ad
      "\n"
     ]
    }
   ],
   "source": [
<<<<<<< HEAD
    "# Import necessary libraries\n",
    "from sklearn.model_selection import train_test_split\n",
    "from sklearn.tree import DecisionTreeClassifier\n",
    "from sklearn.ensemble import RandomForestClassifier\n",
    "from sklearn.neighbors import KNeighborsClassifier\n",
    "from sklearn.linear_model import LogisticRegression\n",
    "from sklearn.metrics import classification_report, accuracy_score\n",
    "from sklearn.model_selection import cross_val_score\n",
    "import matplotlib.pyplot as plt\n",
    "\n",
    "# Split the dataset \n",
    "X_train_resampled, X_test_resampled, y_train_resampled, y_test_resampled = train_test_split(\n",
    "    X_resampled, y_resampled, test_size=0.2, random_state=42\n",
    ")\n",
    "\n",
    "# 1. Decision Tree Model\n",
    "dt_model = DecisionTreeClassifier(random_state=42)\n",
    "dt_model.fit(X_train_resampled, y_train_resampled)\n",
    "y_pred_dt = dt_model.predict(X_test_resampled)\n",
    "print(\"Decision Tree Results:\")\n",
    "print(classification_report(y_test_resampled, y_pred_dt))\n",
    "\n",
    "# 2. Random Forest Model\n",
    "rf_model = RandomForestClassifier(random_state=42, n_estimators=100)\n",
    "rf_model.fit(X_train_resampled, y_train_resampled)\n",
    "y_pred_rf = rf_model.predict(X_test_resampled)\n",
    "print(\"Random Forest Results:\")\n",
    "print(classification_report(y_test_resampled, y_pred_rf))\n",
    "\n",
    "# 3. K-Nearest Neighbors Model\n",
    "knn_model = KNeighborsClassifier(n_neighbors=5)\n",
    "knn_model.fit(X_train_resampled, y_train_resampled)\n",
    "y_pred_knn = knn_model.predict(X_test_resampled)\n",
    "print(\"K-Nearest Neighbors Results:\")\n",
    "print(classification_report(y_test_resampled, y_pred_knn))\n",
    "\n",
    "# 4. Logistic Regression Model\n",
    "logreg_model = LogisticRegression(random_state=42, max_iter=1000)\n",
    "logreg_model.fit(X_train_resampled, y_train_resampled)\n",
    "y_pred_logreg = logreg_model.predict(X_test_resampled)\n",
    "print(\"Logistic Regression Results:\")\n",
    "print(classification_report(y_test_resampled, y_pred_logreg))\n",
    "\n",
    "# Cross-validation scores\n",
    "models = {\n",
    "    \"Decision Tree\": dt_model,\n",
    "    \"Random Forest\": rf_model,\n",
    "    \"K-Nearest Neighbors\": knn_model,\n",
    "    \"Logistic Regression\": logreg_model\n",
    "}\n",
    "\n",
    "# Optional: Visualize accuracy comparison\n",
    "accuracies = [\n",
    "    accuracy_score(y_test_resampled, y_pred_dt),\n",
    "    accuracy_score(y_test_resampled, y_pred_rf),\n",
    "    accuracy_score(y_test_resampled, y_pred_knn),\n",
    "    accuracy_score(y_test_resampled, y_pred_logreg)\n",
    "]\n"
   ]
  },
  {
   "cell_type": "markdown",
   "id": "a12fa7df",
   "metadata": {},
   "source": [
    "Decision Tree Results:\n",
    "\n",
    "Precision:\n",
    "\n",
    "Control: 0.58 (58% of predicted control instances are correct).\n",
    "\n",
    "Patient: 0.58 (58% of predicted patient instances are correct).\n",
    "\n",
    "Recall:\n",
    "\n",
    "Control: 0.63 (63% of actual control instances are identified correctly).\n",
    "\n",
    "Patient: 0.52 (52% of actual patient instances are identified correctly).\n",
    "\n",
    "F1-Score:\n",
    "\n",
    "Control: 0.60 (balance between precision and recall for control).\n",
    "\n",
    "Patient: 0.55 (balance for patient class).\n",
    "\n",
    "Accuracy: 58% (model correctly classifies 58% of all instances).\n",
    "\n",
    "The Decision Tree shows slightly better performance in identifying the control class, with higher recall for it. However, its balanced F1-score for both classes suggests moderate ability across the board.\n",
    "\n",
    "Random Forest Results:\n",
    "\n",
    "Precision:\n",
    "\n",
    "Control: 0.58.\n",
    "\n",
    "Patient: 0.56.\n",
    "\n",
    "Recall:\n",
    "\n",
    "Control: 0.56.\n",
    "\n",
    "Patient: 0.58.\n",
    "\n",
    "F1-Score:\n",
    "\n",
    "Control: 0.57.\n",
    "\n",
    "Patient: 0.57.\n",
    "\n",
    "Accuracy: 57%.\n",
    "\n",
    "The Random Forest model demonstrates very balanced precision, recall, and F1-scores between the two classes. However, the overall performance is slightly lower than the Decision Tree, possibly due to overfitting on the training data.\n",
    "\n",
    "K-Nearest Neighbors (KNN) Results:\n",
    "\n",
    "Precision:\n",
    "\n",
    "Control: 0.62 (highest precision among all models for control class).\n",
    "Patient: 0.58.\n",
    "\n",
    "Recall:\n",
    "Control: 0.56.\n",
    "Patient: 0.64 (highest recall for patient class).\n",
    "\n",
    "F1-Score:\n",
    "Control: 0.59.\n",
    "Patient: 0.61 (highest F1-score for patient class).\n",
    "\n",
    "Accuracy: 60% (highest among all models).\n",
    "\n",
    "KNN performs the best overall, especially for the patient class, with the highest recall and F1-score. It is better suited to handle the balanced dataset created after SMOTE.\n",
    "\n",
    "Logistic Regression Results:\n",
    "\n",
    "Precision:\n",
    "Control: 0.57.\n",
    "Patient: 0.55.\n",
    "\n",
    "Recall:\n",
    "Control: 0.52 (lowest recall for control).\n",
    "Patient: 0.59.\n",
    "\n",
    "F1-Score:\n",
    "Control: 0.55.\n",
    "Patient: 0.57.\n",
    "\n",
    "Accuracy: 56% (lowest among all models).\n",
    "\n",
    "Logistic Regression struggles the most, with lower precision, recall, and F1-scores for both classes. Its linear nature may not capture the relationships within the data effectively, even after balancing with SMOTE.\n",
    "\n",
    "Summary:\n",
    "Best Model: KNN achieves the highest accuracy (60%) and best balance in metrics, especially for the patient class.\n"
   ]
  },
  {
   "cell_type": "markdown",
   "id": "bff1c75a",
   "metadata": {},
   "source": [
    "This  is a binary classification problem, where the goal is to classify instances into one of two classes: control or patient"
   ]
  },
  {
   "cell_type": "code",
   "execution_count": 51,
   "id": "7e04e26d",
   "metadata": {},
   "outputs": [],
   "source": [
    "#Evaluation Metrics\n",
    "#Separate model from the evaluation"
   ]
  },
  {
   "cell_type": "code",
   "execution_count": 34,
   "id": "3388adad",
   "metadata": {},
   "outputs": [],
   "source": [
    "### Decision Tree Classifier Model"
   ]
  },
  {
   "cell_type": "code",
   "execution_count": 35,
   "id": "f14a24bd",
   "metadata": {},
   "outputs": [],
   "source": [
    "# from sklearn.tree import DecisionTreeClassifier\n",
    "\n",
    "# # Train the Decision Tree model\n",
    "# dt_model = DecisionTreeClassifier(random_state=42)\n",
    "# dt_model.fit(X_train, y_train)\n",
    "\n",
    "# # Predict on test data\n",
    "# y_pred_dt = dt_model.predict(X_test)\n",
    "\n",
    "# # Accuracy and evaluation metrics\n",
    "# accuracy_dt = accuracy_score(y_test, y_pred_dt)\n",
    "# print(f'Decision Tree Accuracy: {accuracy_dt:.2f}')\n",
    "# print(classification_report(y_test, y_pred_dt))\n"
=======
    "from sklearn.tree import DecisionTreeClassifier\n",
    "\n",
    "# Train the Decision Tree model\n",
    "dt_model = DecisionTreeClassifier(random_state=42)\n",
    "dt_model.fit(X_train, y_train)\n",
    "\n",
    "# Predict on test data\n",
    "y_pred_dt = dt_model.predict(X_test)\n",
    "\n",
    "# Accuracy and evaluation metrics\n",
    "accuracy_dt = accuracy_score(y_test, y_pred_dt)\n",
    "print(f'Decision Tree Accuracy: {accuracy_dt:.2f}')\n",
    "print(classification_report(y_test, y_pred_dt))\n"
>>>>>>> 1c08b7474d781a51872b307d0ac48c7908d937ad
   ]
  },
  {
   "cell_type": "code",
   "execution_count": 36,
<<<<<<< HEAD
   "id": "5aac299a",
   "metadata": {},
   "outputs": [],
   "source": [
    "### Random Forest Classifier Model"
   ]
  },
  {
   "cell_type": "code",
   "execution_count": 37,
   "id": "2ec7b7c0",
   "metadata": {},
   "outputs": [],
   "source": [
    "# from sklearn.ensemble import RandomForestClassifier\n",
    "\n",
    "# # Train the Random Forest model\n",
    "# rf_model = RandomForestClassifier(random_state=42)\n",
    "# rf_model.fit(X_train, y_train)\n",
    "\n",
    "# # Predict on test data\n",
    "# y_pred_rf = rf_model.predict(X_test)\n",
    "\n",
    "# # Accuracy and evaluation metrics\n",
    "# accuracy_rf = accuracy_score(y_test, y_pred_rf)\n",
    "# print(f'Random Forest Accuracy: {accuracy_rf:.2f}')\n",
    "# print(classification_report(y_test, y_pred_rf))\n"
   ]
  },
  {
   "cell_type": "code",
   "execution_count": 38,
   "id": "9a9de83e",
   "metadata": {},
   "outputs": [],
   "source": [
    "### KNeighborsClassifier Model"
   ]
  },
  {
   "cell_type": "code",
   "execution_count": 39,
   "id": "9f38fc9e",
   "metadata": {},
   "outputs": [],
   "source": [
    "# from sklearn.neighbors import KNeighborsClassifier\n",
    "\n",
    "# # Train the KNN model\n",
    "# knn_model = KNeighborsClassifier()\n",
    "# knn_model.fit(X_train, y_train)\n",
    "\n",
    "# # Predict on test data\n",
    "# y_pred_knn = knn_model.predict(X_test)\n",
    "\n",
    "# # Accuracy and evaluation metrics\n",
    "# accuracy_knn = accuracy_score(y_test, y_pred_knn)\n",
    "# print(f'KNN Accuracy: {accuracy_knn:.2f}')\n",
    "# print(classification_report(y_test, y_pred_knn))\n"
   ]
  },
  {
   "cell_type": "code",
   "execution_count": 40,
   "id": "73636d98",
   "metadata": {},
   "outputs": [],
   "source": [
    "### HyperParameter Tuning"
   ]
  },
  {
   "cell_type": "code",
   "execution_count": 41,
   "id": "edca9517",
   "metadata": {},
   "outputs": [],
   "source": [
    "#### Tuning LogisticRegression Model"
   ]
  },
  {
   "cell_type": "code",
   "execution_count": 42,
   "id": "434f6010",
   "metadata": {},
   "outputs": [],
   "source": [
    "# from sklearn.model_selection import GridSearchCV\n",
    "# from sklearn.linear_model import LogisticRegression\n",
    "\n",
    "# # Define the parameter grid\n",
    "# param_grid = {\n",
    "#     'C': [0.1, 1, 10],  # Regularization parameter\n",
    "#     'penalty': ['l1', 'l2'],  # Regularization type\n",
    "#     'solver': ['liblinear', 'saga']  # Solvers for logistic regression\n",
    "# }\n",
    "\n",
    "# # Initialize the model\n",
    "# lr_model = LogisticRegression()\n",
    "\n",
    "# # Set up the GridSearchCV\n",
    "# grid_search = GridSearchCV(lr_model, param_grid, cv=5, scoring='accuracy', n_jobs=-1)\n",
    "\n",
    "# # Fit GridSearchCV\n",
    "# grid_search.fit(X_train, y_train)\n",
    "\n",
    "# # Get the best parameters and the best score\n",
    "# best_params = grid_search.best_params_\n",
    "# best_score = grid_search.best_score_\n",
    "\n",
    "# print(\"Best Parameters:\", best_params)\n",
    "# print(\"Best Cross-validation Score:\", best_score)\n",
    "\n",
    "# # Use the best model to predict\n",
    "# best_lr_model = grid_search.best_estimator_\n",
    "# y_pred = best_lr_model.predict(X_test)\n",
    "\n",
    "# # Accuracy\n",
    "# accuracy = accuracy_score(y_test, y_pred)\n",
    "# print(f'Accuracy: {accuracy:.2f}')\n"
   ]
  },
  {
   "cell_type": "code",
   "execution_count": 43,
   "id": "0eaf8fa8",
   "metadata": {},
   "outputs": [],
   "source": [
    "#### Tuning Decision Tree Classifier Model"
   ]
  },
  {
   "cell_type": "code",
   "execution_count": 44,
   "id": "052f713a",
   "metadata": {},
   "outputs": [],
   "source": [
    "# from sklearn.model_selection import GridSearchCV\n",
    "# from sklearn.tree import DecisionTreeClassifier\n",
    "# from sklearn.metrics import accuracy_score\n",
    "\n",
    "# # Define the parameter grid for DecisionTreeClassifier\n",
    "# param_grid = {\n",
    "#     'max_depth': [None, 10, 20, 30],  # Maximum depth of the tree\n",
    "#     'min_samples_split': [2, 5, 10],  # Minimum number of samples required to split an internal node\n",
    "#     'min_samples_leaf': [1, 2, 4],    # Minimum number of samples required to be at a leaf node\n",
    "#     'criterion': ['gini', 'entropy'] # Function to measure the quality of a split\n",
    "# }\n",
    "\n",
    "# # Initialize the model\n",
    "# dt_model = DecisionTreeClassifier(random_state=42)\n",
    "\n",
    "# # Set up the GridSearchCV\n",
    "# grid_search = GridSearchCV(dt_model, param_grid, cv=5, scoring='accuracy', n_jobs=-1)\n",
    "\n",
    "# # Fit GridSearchCV\n",
    "# grid_search.fit(X_train, y_train)\n",
    "\n",
    "# # Get the best parameters and the best score\n",
    "# best_params = grid_search.best_params_\n",
    "# best_score = grid_search.best_score_\n",
    "\n",
    "# print(\"Best Parameters:\", best_params)\n",
    "# print(\"Best Cross-validation Score:\", best_score)\n",
    "\n",
    "# # Use the best model to predict\n",
    "# best_dt_model = grid_search.best_estimator_\n",
    "# y_pred = best_dt_model.predict(X_test)\n",
    "\n",
    "# # Accuracy\n",
    "# accuracy = accuracy_score(y_test, y_pred)\n",
    "# print(f'Accuracy: {accuracy:.2f}')\n"
   ]
  },
  {
   "cell_type": "code",
   "execution_count": 45,
   "id": "39706bf3",
   "metadata": {},
   "outputs": [],
   "source": [
    "#### Tuning RandomForestClassifer Model"
   ]
  },
  {
   "cell_type": "code",
   "execution_count": 46,
   "id": "a3894c99",
   "metadata": {},
   "outputs": [],
   "source": [
    "# from sklearn.model_selection import GridSearchCV\n",
    "# from sklearn.ensemble import RandomForestClassifier\n",
    "# from sklearn.metrics import accuracy_score\n",
    "\n",
    "# # Define the parameter grid for RandomForestClassifier\n",
    "# param_grid = {\n",
    "#     'n_estimators': [50, 100, 200],  # Number of trees in the forest\n",
    "#     'max_depth': [None, 10, 20, 30],  # Maximum depth of the trees\n",
    "#     'min_samples_split': [2, 5, 10],  # Minimum number of samples required to split an internal node\n",
    "#     'min_samples_leaf': [1, 2, 4],    # Minimum number of samples required to be at a leaf node\n",
    "#     'bootstrap': [True, False]        # Whether bootstrap samples are used when building trees\n",
    "# }\n",
    "\n",
    "# # Initialize the model\n",
    "# rf_model = RandomForestClassifier(random_state=42)\n",
    "\n",
    "# # Set up the GridSearchCV\n",
    "# grid_search = GridSearchCV(rf_model, param_grid, cv=5, scoring='accuracy', n_jobs=-1)\n",
    "\n",
    "# # Fit GridSearchCV\n",
    "# grid_search.fit(X_train, y_train)\n",
    "\n",
    "# # Get the best parameters and the best score\n",
    "# best_params = grid_search.best_params_\n",
    "# best_score = grid_search.best_score_\n",
    "\n",
    "# print(\"Best Parameters:\", best_params)\n",
    "# print(\"Best Cross-validation Score:\", best_score)\n",
    "\n",
    "# # Use the best model to predict\n",
    "# best_rf_model = grid_search.best_estimator_\n",
    "# y_pred = best_rf_model.predict(X_test)\n",
    "\n",
    "# # Accuracy\n",
    "# accuracy = accuracy_score(y_test, y_pred)\n",
    "# print(f'Accuracy: {accuracy:.2f}')\n"
   ]
  },
  {
   "cell_type": "code",
   "execution_count": 47,
   "id": "1fab8db4",
   "metadata": {},
   "outputs": [],
   "source": [
    "#### Tuning KNeighborsClassifier Model"
   ]
  },
  {
   "cell_type": "code",
   "execution_count": 48,
   "id": "aac13a1f",
   "metadata": {},
   "outputs": [],
   "source": [
    "# from sklearn.model_selection import GridSearchCV\n",
    "# from sklearn.neighbors import KNeighborsClassifier\n",
    "# from sklearn.metrics import accuracy_score\n",
    "\n",
    "# # Define the parameter grid for KNeighborsClassifier\n",
    "# param_grid = {\n",
    "#     'n_neighbors': [3, 5, 7, 9, 11],  # Number of neighbors to use for kneighbors queries\n",
    "#     'weights': ['uniform', 'distance'],  # Weight function used in prediction\n",
    "#     'metric': ['euclidean', 'manhattan', 'minkowski'],  # The distance metric to use for the tree\n",
    "#     'leaf_size': [20, 30, 40],  # Leaf size passed to BallTree or KDTree\n",
    "#     'p': [1, 2]  # Power parameter for the Minkowski distance (1 for Manhattan, 2 for Euclidean)\n",
    "# }\n",
    "\n",
    "# # Initialize the KNN model\n",
    "# knn_model = KNeighborsClassifier()\n",
    "\n",
    "# # Set up the GridSearchCV\n",
    "# grid_search = GridSearchCV(knn_model, param_grid, cv=5, scoring='accuracy', n_jobs=-1)\n",
    "\n",
    "# # Fit GridSearchCV\n",
    "# grid_search.fit(X_train, y_train)\n",
    "\n",
    "# # Get the best parameters and the best score\n",
    "# best_params = grid_search.best_params_\n",
    "# best_score = grid_search.best_score_\n",
    "\n",
    "# print(\"Best Parameters:\", best_params)\n",
    "# print(\"Best Cross-validation Score:\", best_score)\n",
    "\n",
    "# # Use the best model to predict\n",
    "# best_knn_model = grid_search.best_estimator_\n",
    "# y_pred = best_knn_model.predict(X_test)\n",
    "\n",
    "# # Accuracy\n",
    "# accuracy = accuracy_score(y_test, y_pred)\n",
    "# print(f'Accuracy: {accuracy:.2f}')\n"
   ]
  },
  {
   "cell_type": "code",
   "execution_count": 49,
   "id": "ee40c4f5",
=======
   "id": "6348c823",
>>>>>>> 1c08b7474d781a51872b307d0ac48c7908d937ad
   "metadata": {},
   "outputs": [
    {
     "name": "stdout",
     "output_type": "stream",
     "text": [
<<<<<<< HEAD
      "Requirement already satisfied: nbconvert[webpdf] in c:\\programdata\\anaconda3\\lib\\site-packages (6.1.0)Note: you may need to restart the kernel to use updated packages.\n"
=======
      "Random Forest Accuracy: 0.51\n",
      "              precision    recall  f1-score   support\n",
      "\n",
      "     control       0.41      0.37      0.39        73\n",
      "     patient       0.57      0.61      0.59       100\n",
      "\n",
      "    accuracy                           0.51       173\n",
      "   macro avg       0.49      0.49      0.49       173\n",
      "weighted avg       0.50      0.51      0.50       173\n",
      "\n"
     ]
    }
   ],
   "source": [
    "from sklearn.ensemble import RandomForestClassifier\n",
    "\n",
    "# Train the Random Forest model\n",
    "rf_model = RandomForestClassifier(random_state=42)\n",
    "rf_model.fit(X_train, y_train)\n",
    "\n",
    "# Predict on test data\n",
    "y_pred_rf = rf_model.predict(X_test)\n",
    "\n",
    "# Accuracy and evaluation metrics\n",
    "accuracy_rf = accuracy_score(y_test, y_pred_rf)\n",
    "print(f'Random Forest Accuracy: {accuracy_rf:.2f}')\n",
    "print(classification_report(y_test, y_pred_rf))\n"
   ]
  },
  {
   "cell_type": "code",
   "execution_count": 37,
   "id": "4d76103c",
   "metadata": {},
   "outputs": [
    {
     "name": "stdout",
     "output_type": "stream",
     "text": [
      "KNN Accuracy: 0.52\n",
      "              precision    recall  f1-score   support\n",
      "\n",
      "     control       0.41      0.32      0.36        73\n",
      "     patient       0.57      0.67      0.62       100\n",
      "\n",
      "    accuracy                           0.52       173\n",
      "   macro avg       0.49      0.49      0.49       173\n",
      "weighted avg       0.50      0.52      0.51       173\n",
      "\n"
     ]
    }
   ],
   "source": [
    "from sklearn.neighbors import KNeighborsClassifier\n",
    "\n",
    "# Train the KNN model\n",
    "knn_model = KNeighborsClassifier()\n",
    "knn_model.fit(X_train, y_train)\n",
    "\n",
    "# Predict on test data\n",
    "y_pred_knn = knn_model.predict(X_test)\n",
    "\n",
    "# Accuracy and evaluation metrics\n",
    "accuracy_knn = accuracy_score(y_test, y_pred_knn)\n",
    "print(f'KNN Accuracy: {accuracy_knn:.2f}')\n",
    "print(classification_report(y_test, y_pred_knn))\n"
   ]
  },
  {
   "cell_type": "code",
   "execution_count": 39,
   "id": "87d91a71",
   "metadata": {},
   "outputs": [
    {
     "name": "stdout",
     "output_type": "stream",
     "text": [
      "           Model  Accuracy\n",
      "0  Decision Tree  0.526012\n",
      "2            KNN  0.520231\n",
      "1  Random Forest  0.508671\n"
     ]
    }
   ],
   "source": [
    "models = ['Decision Tree', 'Random Forest', 'KNN']\n",
    "accuracies = [accuracy_dt, accuracy_rf, accuracy_knn]\n",
    "\n",
    "# Create a DataFrame to compare models\n",
    "model_comparison = pd.DataFrame({'Model': models, 'Accuracy': accuracies})\n",
    "print(model_comparison.sort_values(by='Accuracy', ascending=False))\n"
   ]
  },
  {
   "cell_type": "code",
   "execution_count": 40,
   "id": "2bf41635",
   "metadata": {},
   "outputs": [
    {
     "name": "stdout",
     "output_type": "stream",
     "text": [
      "Best Parameters: {'C': 0.1, 'penalty': 'l2', 'solver': 'saga'}\n",
      "Best Cross-validation Score: 0.5979688987622976\n",
      "Accuracy: 0.57\n"
>>>>>>> 1c08b7474d781a51872b307d0ac48c7908d937ad
     ]
    },
    {
     "name": "stderr",
     "output_type": "stream",
     "text": [
<<<<<<< HEAD
      "WARNING: Ignoring invalid distribution -rkupsafe (c:\\programdata\\anaconda3\\lib\\site-packages)\n",
      "WARNING: Ignoring invalid distribution - (c:\\programdata\\anaconda3\\lib\\site-packages)\n",
      "WARNING: Ignoring invalid distribution -rkupsafe (c:\\programdata\\anaconda3\\lib\\site-packages)\n",
      "WARNING: Ignoring invalid distribution -arkupsafe (c:\\programdata\\anaconda3\\lib\\site-packages)\n",
      "WARNING: Ignoring invalid distribution -cikit-learn (c:\\programdata\\anaconda3\\lib\\site-packages)\n",
      "WARNING: Error parsing dependencies of pyodbc: Invalid version: '4.0.0-unsupported'\n",
      "WARNING: Ignoring invalid distribution -rkupsafe (c:\\programdata\\anaconda3\\lib\\site-packages)\n",
      "WARNING: Ignoring invalid distribution - (c:\\programdata\\anaconda3\\lib\\site-packages)\n",
      "WARNING: Ignoring invalid distribution -rkupsafe (c:\\programdata\\anaconda3\\lib\\site-packages)\n",
      "WARNING: Ignoring invalid distribution -arkupsafe (c:\\programdata\\anaconda3\\lib\\site-packages)\n",
      "WARNING: Ignoring invalid distribution -cikit-learn (c:\\programdata\\anaconda3\\lib\\site-packages)\n",
      "\n",
      "[notice] A new release of pip is available: 24.2 -> 24.3.1\n",
      "[notice] To update, run: python.exe -m pip install --upgrade pip\n",
      "ERROR: Exception:\n",
      "Traceback (most recent call last):\n",
      "  File \"C:\\Users\\hp\\AppData\\Roaming\\Python\\Python39\\site-packages\\pip\\_internal\\cli\\base_command.py\", line 105, in _run_wrapper\n",
      "    status = _inner_run()\n",
      "  File \"C:\\Users\\hp\\AppData\\Roaming\\Python\\Python39\\site-packages\\pip\\_internal\\cli\\base_command.py\", line 96, in _inner_run\n",
      "    return self.run(options, args)\n",
      "  File \"C:\\Users\\hp\\AppData\\Roaming\\Python\\Python39\\site-packages\\pip\\_internal\\cli\\req_command.py\", line 67, in wrapper\n",
      "    return func(self, options, args)\n",
      "  File \"C:\\Users\\hp\\AppData\\Roaming\\Python\\Python39\\site-packages\\pip\\_internal\\commands\\install.py\", line 483, in run\n",
      "    installed_versions[distribution.canonical_name] = distribution.version\n",
      "  File \"C:\\Users\\hp\\AppData\\Roaming\\Python\\Python39\\site-packages\\pip\\_internal\\metadata\\pkg_resources.py\", line 192, in version\n",
      "    return parse_version(self._dist.version)\n",
      "  File \"C:\\Users\\hp\\AppData\\Roaming\\Python\\Python39\\site-packages\\pip\\_vendor\\packaging\\version.py\", line 56, in parse\n",
      "    return Version(version)\n",
      "  File \"C:\\Users\\hp\\AppData\\Roaming\\Python\\Python39\\site-packages\\pip\\_vendor\\packaging\\version.py\", line 202, in __init__\n",
      "    raise InvalidVersion(f\"Invalid version: '{version}'\")\n",
      "pip._vendor.packaging.version.InvalidVersion: Invalid version: '4.0.0-unsupported'\n"
     ]
    },
    {
     "name": "stdout",
     "output_type": "stream",
     "text": [
      "\n",
      "Requirement already satisfied: mistune<2,>=0.8.1 in c:\\programdata\\anaconda3\\lib\\site-packages (from nbconvert[webpdf]) (0.8.4)\n",
      "Requirement already satisfied: jinja2>=2.4 in c:\\programdata\\anaconda3\\lib\\site-packages (from nbconvert[webpdf]) (2.11.3)\n",
      "Requirement already satisfied: pygments>=2.4.1 in c:\\programdata\\anaconda3\\lib\\site-packages (from nbconvert[webpdf]) (2.10.0)\n",
      "Requirement already satisfied: jupyterlab-pygments in c:\\programdata\\anaconda3\\lib\\site-packages (from nbconvert[webpdf]) (0.1.2)\n",
      "Requirement already satisfied: traitlets>=5.0 in c:\\programdata\\anaconda3\\lib\\site-packages (from nbconvert[webpdf]) (5.1.0)\n",
      "Requirement already satisfied: jupyter-core in c:\\programdata\\anaconda3\\lib\\site-packages (from nbconvert[webpdf]) (4.8.1)\n",
      "Requirement already satisfied: nbformat>=4.4 in c:\\programdata\\anaconda3\\lib\\site-packages (from nbconvert[webpdf]) (5.1.3)\n",
      "Requirement already satisfied: entrypoints>=0.2.2 in c:\\programdata\\anaconda3\\lib\\site-packages (from nbconvert[webpdf]) (0.3)\n",
      "Requirement already satisfied: bleach in c:\\programdata\\anaconda3\\lib\\site-packages (from nbconvert[webpdf]) (4.0.0)\n",
      "Requirement already satisfied: pandocfilters>=1.4.1 in c:\\programdata\\anaconda3\\lib\\site-packages (from nbconvert[webpdf]) (1.4.3)\n",
      "Requirement already satisfied: testpath in c:\\programdata\\anaconda3\\lib\\site-packages (from nbconvert[webpdf]) (0.5.0)\n",
      "Requirement already satisfied: defusedxml in c:\\programdata\\anaconda3\\lib\\site-packages (from nbconvert[webpdf]) (0.7.1)\n",
      "Requirement already satisfied: nbclient<0.6.0,>=0.5.0 in c:\\programdata\\anaconda3\\lib\\site-packages (from nbconvert[webpdf]) (0.5.3)\n",
      "Requirement already satisfied: pyppeteer==0.2.2 in c:\\programdata\\anaconda3\\lib\\site-packages (from nbconvert[webpdf]) (0.2.2)\n",
      "Requirement already satisfied: appdirs<2.0.0,>=1.4.3 in c:\\programdata\\anaconda3\\lib\\site-packages (from pyppeteer==0.2.2->nbconvert[webpdf]) (1.4.4)\n",
      "Requirement already satisfied: pyee<8.0.0,>=7.0.1 in c:\\programdata\\anaconda3\\lib\\site-packages (from pyppeteer==0.2.2->nbconvert[webpdf]) (7.0.4)\n",
      "Requirement already satisfied: tqdm<5.0.0,>=4.42.1 in c:\\programdata\\anaconda3\\lib\\site-packages (from pyppeteer==0.2.2->nbconvert[webpdf]) (4.62.3)\n",
      "Requirement already satisfied: urllib3<2.0.0,>=1.25.8 in c:\\programdata\\anaconda3\\lib\\site-packages (from pyppeteer==0.2.2->nbconvert[webpdf]) (1.26.7)\n",
      "Requirement already satisfied: websockets<9.0,>=8.1 in c:\\programdata\\anaconda3\\lib\\site-packages (from pyppeteer==0.2.2->nbconvert[webpdf]) (8.1)\n",
      "Requirement already satisfied: MarkupSafe>=0.23 in c:\\programdata\\anaconda3\\lib\\site-packages (from jinja2>=2.4->nbconvert[webpdf]) (1.1.1)\n",
      "Requirement already satisfied: jupyter-client>=6.1.5 in c:\\programdata\\anaconda3\\lib\\site-packages (from nbclient<0.6.0,>=0.5.0->nbconvert[webpdf]) (6.1.12)\n",
      "Requirement already satisfied: async-generator in c:\\programdata\\anaconda3\\lib\\site-packages (from nbclient<0.6.0,>=0.5.0->nbconvert[webpdf]) (1.10)\n",
      "Requirement already satisfied: nest-asyncio in c:\\programdata\\anaconda3\\lib\\site-packages (from nbclient<0.6.0,>=0.5.0->nbconvert[webpdf]) (1.5.1)\n",
      "Requirement already satisfied: ipython-genutils in c:\\programdata\\anaconda3\\lib\\site-packages (from nbformat>=4.4->nbconvert[webpdf]) (0.2.0)\n",
      "Requirement already satisfied: jsonschema!=2.5.0,>=2.4 in c:\\programdata\\anaconda3\\lib\\site-packages (from nbformat>=4.4->nbconvert[webpdf]) (3.2.0)\n",
      "Requirement already satisfied: packaging in c:\\programdata\\anaconda3\\lib\\site-packages (from bleach->nbconvert[webpdf]) (21.0)\n",
      "Requirement already satisfied: six>=1.9.0 in c:\\programdata\\anaconda3\\lib\\site-packages (from bleach->nbconvert[webpdf]) (1.16.0)\n",
      "Requirement already satisfied: webencodings in c:\\programdata\\anaconda3\\lib\\site-packages (from bleach->nbconvert[webpdf]) (0.5.1)\n",
      "Requirement already satisfied: pywin32>=1.0 in c:\\programdata\\anaconda3\\lib\\site-packages (from jupyter-core->nbconvert[webpdf]) (228)\n",
      "Requirement already satisfied: attrs>=17.4.0 in c:\\programdata\\anaconda3\\lib\\site-packages (from jsonschema!=2.5.0,>=2.4->nbformat>=4.4->nbconvert[webpdf]) (21.2.0)\n",
      "Requirement already satisfied: pyrsistent>=0.14.0 in c:\\programdata\\anaconda3\\lib\\site-packages (from jsonschema!=2.5.0,>=2.4->nbformat>=4.4->nbconvert[webpdf]) (0.18.0)\n",
      "Requirement already satisfied: setuptools in c:\\programdata\\anaconda3\\lib\\site-packages (from jsonschema!=2.5.0,>=2.4->nbformat>=4.4->nbconvert[webpdf]) (58.0.4)\n",
      "Requirement already satisfied: pyzmq>=13 in c:\\programdata\\anaconda3\\lib\\site-packages (from jupyter-client>=6.1.5->nbclient<0.6.0,>=0.5.0->nbconvert[webpdf]) (22.2.1)\n",
      "Requirement already satisfied: python-dateutil>=2.1 in c:\\programdata\\anaconda3\\lib\\site-packages (from jupyter-client>=6.1.5->nbclient<0.6.0,>=0.5.0->nbconvert[webpdf]) (2.8.2)\n",
      "Requirement already satisfied: tornado>=4.1 in c:\\programdata\\anaconda3\\lib\\site-packages (from jupyter-client>=6.1.5->nbclient<0.6.0,>=0.5.0->nbconvert[webpdf]) (6.1)\n",
      "Requirement already satisfied: colorama in c:\\programdata\\anaconda3\\lib\\site-packages (from tqdm<5.0.0,>=4.42.1->pyppeteer==0.2.2->nbconvert[webpdf]) (0.4.4)\n",
      "Requirement already satisfied: pyparsing>=2.0.2 in c:\\programdata\\anaconda3\\lib\\site-packages (from packaging->bleach->nbconvert[webpdf]) (3.0.4)\n"
=======
      "C:\\Users\\hp\\AppData\\Roaming\\Python\\Python39\\site-packages\\sklearn\\linear_model\\_sag.py:349: ConvergenceWarning: The max_iter was reached which means the coef_ did not converge\n",
      "  warnings.warn(\n"
>>>>>>> 1c08b7474d781a51872b307d0ac48c7908d937ad
     ]
    }
   ],
   "source": [
<<<<<<< HEAD
    "pip install nbconvert[webpdf]\n"
=======
    "from sklearn.model_selection import GridSearchCV\n",
    "from sklearn.linear_model import LogisticRegression\n",
    "\n",
    "# Define the parameter grid\n",
    "param_grid = {\n",
    "    'C': [0.1, 1, 10],  # Regularization parameter\n",
    "    'penalty': ['l1', 'l2'],  # Regularization type\n",
    "    'solver': ['liblinear', 'saga']  # Solvers for logistic regression\n",
    "}\n",
    "\n",
    "# Initialize the model\n",
    "lr_model = LogisticRegression()\n",
    "\n",
    "# Set up the GridSearchCV\n",
    "grid_search = GridSearchCV(lr_model, param_grid, cv=5, scoring='accuracy', n_jobs=-1)\n",
    "\n",
    "# Fit GridSearchCV\n",
    "grid_search.fit(X_train, y_train)\n",
    "\n",
    "# Get the best parameters and the best score\n",
    "best_params = grid_search.best_params_\n",
    "best_score = grid_search.best_score_\n",
    "\n",
    "print(\"Best Parameters:\", best_params)\n",
    "print(\"Best Cross-validation Score:\", best_score)\n",
    "\n",
    "# Use the best model to predict\n",
    "best_lr_model = grid_search.best_estimator_\n",
    "y_pred = best_lr_model.predict(X_test)\n",
    "\n",
    "# Accuracy\n",
    "accuracy = accuracy_score(y_test, y_pred)\n",
    "print(f'Accuracy: {accuracy:.2f}')\n"
   ]
  },
  {
   "cell_type": "code",
   "execution_count": 43,
   "id": "fd5ce6fd",
   "metadata": {},
   "outputs": [
    {
     "name": "stdout",
     "output_type": "stream",
     "text": [
      "Best Parameters: {'criterion': 'entropy', 'max_depth': 20, 'min_samples_leaf': 2, 'min_samples_split': 10}\n",
      "Best Cross-validation Score: 0.5486618004866181\n",
      "Accuracy: 0.54\n"
     ]
    }
   ],
   "source": [
    "from sklearn.model_selection import GridSearchCV\n",
    "from sklearn.tree import DecisionTreeClassifier\n",
    "from sklearn.metrics import accuracy_score\n",
    "\n",
    "# Define the parameter grid for DecisionTreeClassifier\n",
    "param_grid = {\n",
    "    'max_depth': [None, 10, 20, 30],  # Maximum depth of the tree\n",
    "    'min_samples_split': [2, 5, 10],  # Minimum number of samples required to split an internal node\n",
    "    'min_samples_leaf': [1, 2, 4],    # Minimum number of samples required to be at a leaf node\n",
    "    'criterion': ['gini', 'entropy'] # Function to measure the quality of a split\n",
    "}\n",
    "\n",
    "# Initialize the model\n",
    "dt_model = DecisionTreeClassifier(random_state=42)\n",
    "\n",
    "# Set up the GridSearchCV\n",
    "grid_search = GridSearchCV(dt_model, param_grid, cv=5, scoring='accuracy', n_jobs=-1)\n",
    "\n",
    "# Fit GridSearchCV\n",
    "grid_search.fit(X_train, y_train)\n",
    "\n",
    "# Get the best parameters and the best score\n",
    "best_params = grid_search.best_params_\n",
    "best_score = grid_search.best_score_\n",
    "\n",
    "print(\"Best Parameters:\", best_params)\n",
    "print(\"Best Cross-validation Score:\", best_score)\n",
    "\n",
    "# Use the best model to predict\n",
    "best_dt_model = grid_search.best_estimator_\n",
    "y_pred = best_dt_model.predict(X_test)\n",
    "\n",
    "# Accuracy\n",
    "accuracy = accuracy_score(y_test, y_pred)\n",
    "print(f'Accuracy: {accuracy:.2f}')\n"
   ]
  },
  {
   "cell_type": "code",
   "execution_count": 44,
   "id": "60a56508",
   "metadata": {},
   "outputs": [
    {
     "name": "stdout",
     "output_type": "stream",
     "text": [
      "Best Parameters: {'bootstrap': True, 'max_depth': None, 'min_samples_leaf': 2, 'min_samples_split': 2, 'n_estimators': 100}\n",
      "Best Cross-validation Score: 0.5878451285306252\n",
      "Accuracy: 0.54\n"
     ]
    }
   ],
   "source": [
    "from sklearn.model_selection import GridSearchCV\n",
    "from sklearn.ensemble import RandomForestClassifier\n",
    "from sklearn.metrics import accuracy_score\n",
    "\n",
    "# Define the parameter grid for RandomForestClassifier\n",
    "param_grid = {\n",
    "    'n_estimators': [50, 100, 200],  # Number of trees in the forest\n",
    "    'max_depth': [None, 10, 20, 30],  # Maximum depth of the trees\n",
    "    'min_samples_split': [2, 5, 10],  # Minimum number of samples required to split an internal node\n",
    "    'min_samples_leaf': [1, 2, 4],    # Minimum number of samples required to be at a leaf node\n",
    "    'bootstrap': [True, False]        # Whether bootstrap samples are used when building trees\n",
    "}\n",
    "\n",
    "# Initialize the model\n",
    "rf_model = RandomForestClassifier(random_state=42)\n",
    "\n",
    "# Set up the GridSearchCV\n",
    "grid_search = GridSearchCV(rf_model, param_grid, cv=5, scoring='accuracy', n_jobs=-1)\n",
    "\n",
    "# Fit GridSearchCV\n",
    "grid_search.fit(X_train, y_train)\n",
    "\n",
    "# Get the best parameters and the best score\n",
    "best_params = grid_search.best_params_\n",
    "best_score = grid_search.best_score_\n",
    "\n",
    "print(\"Best Parameters:\", best_params)\n",
    "print(\"Best Cross-validation Score:\", best_score)\n",
    "\n",
    "# Use the best model to predict\n",
    "best_rf_model = grid_search.best_estimator_\n",
    "y_pred = best_rf_model.predict(X_test)\n",
    "\n",
    "# Accuracy\n",
    "accuracy = accuracy_score(y_test, y_pred)\n",
    "print(f'Accuracy: {accuracy:.2f}')\n"
   ]
  },
  {
   "cell_type": "code",
   "execution_count": 45,
   "id": "d22987c3",
   "metadata": {},
   "outputs": [
    {
     "name": "stdout",
     "output_type": "stream",
     "text": [
      "Best Parameters: {'leaf_size': 20, 'metric': 'euclidean', 'n_neighbors': 9, 'p': 1, 'weights': 'uniform'}\n",
      "Best Cross-validation Score: 0.5776684650375542\n",
      "Accuracy: 0.54\n"
     ]
    }
   ],
   "source": [
    "from sklearn.model_selection import GridSearchCV\n",
    "from sklearn.neighbors import KNeighborsClassifier\n",
    "from sklearn.metrics import accuracy_score\n",
    "\n",
    "# Define the parameter grid for KNeighborsClassifier\n",
    "param_grid = {\n",
    "    'n_neighbors': [3, 5, 7, 9, 11],  # Number of neighbors to use for kneighbors queries\n",
    "    'weights': ['uniform', 'distance'],  # Weight function used in prediction\n",
    "    'metric': ['euclidean', 'manhattan', 'minkowski'],  # The distance metric to use for the tree\n",
    "    'leaf_size': [20, 30, 40],  # Leaf size passed to BallTree or KDTree\n",
    "    'p': [1, 2]  # Power parameter for the Minkowski distance (1 for Manhattan, 2 for Euclidean)\n",
    "}\n",
    "\n",
    "# Initialize the KNN model\n",
    "knn_model = KNeighborsClassifier()\n",
    "\n",
    "# Set up the GridSearchCV\n",
    "grid_search = GridSearchCV(knn_model, param_grid, cv=5, scoring='accuracy', n_jobs=-1)\n",
    "\n",
    "# Fit GridSearchCV\n",
    "grid_search.fit(X_train, y_train)\n",
    "\n",
    "# Get the best parameters and the best score\n",
    "best_params = grid_search.best_params_\n",
    "best_score = grid_search.best_score_\n",
    "\n",
    "print(\"Best Parameters:\", best_params)\n",
    "print(\"Best Cross-validation Score:\", best_score)\n",
    "\n",
    "# Use the best model to predict\n",
    "best_knn_model = grid_search.best_estimator_\n",
    "y_pred = best_knn_model.predict(X_test)\n",
    "\n",
    "# Accuracy\n",
    "accuracy = accuracy_score(y_test, y_pred)\n",
    "print(f'Accuracy: {accuracy:.2f}')\n"
   ]
  },
  {
   "cell_type": "markdown",
   "id": "e7f8083a",
   "metadata": {},
   "source": [
    "Based on the accuracy of our models, the best model is Logistic Regression with an accuracy of 58%. Though other models also have accuracy around the same percentage, Logistic Regression is the best model for predicting the group."
>>>>>>> 1c08b7474d781a51872b307d0ac48c7908d937ad
   ]
  },
  {
   "cell_type": "code",
   "execution_count": null,
<<<<<<< HEAD
   "id": "bcd67413",
=======
   "id": "f373425a",
>>>>>>> 1c08b7474d781a51872b307d0ac48c7908d937ad
   "metadata": {},
   "outputs": [],
   "source": []
  }
 ],
 "metadata": {
  "kernelspec": {
   "display_name": "Python 3 (ipykernel)",
   "language": "python",
   "name": "python3"
  },
  "language_info": {
   "codemirror_mode": {
    "name": "ipython",
    "version": 3
   },
   "file_extension": ".py",
   "mimetype": "text/x-python",
   "name": "python",
   "nbconvert_exporter": "python",
   "pygments_lexer": "ipython3",
   "version": "3.9.7"
  }
 },
 "nbformat": 4,
 "nbformat_minor": 5
}
